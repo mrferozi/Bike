{
 "cells": [
  {
   "cell_type": "markdown",
   "metadata": {},
   "source": [
    "# Cycle Data Cleaning"
   ]
  },
  {
   "cell_type": "markdown",
   "metadata": {},
   "source": [
    "***Declaration ***: The central idea and coding  is abstract  from Kevin mark ham youtube video seriese, Introduction to machine learning with scikit-learn video series. You can find link under resources section. "
   ]
  },
  {
   "cell_type": "markdown",
   "metadata": {},
   "source": [
    "# Data Cleaning"
   ]
  },
  {
   "cell_type": "code",
   "execution_count": 61,
   "metadata": {
    "collapsed": true
   },
   "outputs": [],
   "source": [
    "# load libraries and set styles, options\n",
    "import os,csv\n",
    "import numpy as np\n",
    "import pandas as pd\n",
    "import seaborn as sns\n",
    "import warnings; warnings.simplefilter('ignore')\n",
    "#from IPython.display import HTML\n",
    "#HTML('<iframe src=http://www.seattle.gov/documents/departments/sdot/newmobilityprogram/appendixb.pdf width=1000 height=350></iframe>')"
   ]
  },
  {
   "cell_type": "code",
   "execution_count": 62,
   "metadata": {
    "collapsed": true
   },
   "outputs": [],
   "source": [
    "%matplotlib inline"
   ]
  },
  {
   "cell_type": "raw",
   "metadata": {},
   "source": [
    "2. Read and verify data"
   ]
  },
  {
   "cell_type": "code",
   "execution_count": 81,
   "metadata": {},
   "outputs": [],
   "source": [
    "# read in a CSV\n",
    "df = pd.read_csv('C:/Users/mrferozi/Desktop/GitHub/Bike/cycle-share-dataset-orignal/trip.csv', index_col=0)"
   ]
  },
  {
   "cell_type": "code",
   "execution_count": 82,
   "metadata": {},
   "outputs": [
    {
     "data": {
      "text/html": [
       "<div>\n",
       "<style scoped>\n",
       "    .dataframe tbody tr th:only-of-type {\n",
       "        vertical-align: middle;\n",
       "    }\n",
       "\n",
       "    .dataframe tbody tr th {\n",
       "        vertical-align: top;\n",
       "    }\n",
       "\n",
       "    .dataframe thead th {\n",
       "        text-align: right;\n",
       "    }\n",
       "</style>\n",
       "<table border=\"1\" class=\"dataframe\">\n",
       "  <thead>\n",
       "    <tr style=\"text-align: right;\">\n",
       "      <th></th>\n",
       "      <th>sno</th>\n",
       "      <th>starttime</th>\n",
       "      <th>stoptime</th>\n",
       "      <th>bikeid</th>\n",
       "      <th>tripduration</th>\n",
       "      <th>from_station_name</th>\n",
       "      <th>to_station_name</th>\n",
       "      <th>from_station_id</th>\n",
       "      <th>to_station_id</th>\n",
       "      <th>usertype</th>\n",
       "      <th>gender</th>\n",
       "      <th>birthyear</th>\n",
       "    </tr>\n",
       "  </thead>\n",
       "  <tbody>\n",
       "    <tr>\n",
       "      <th>0</th>\n",
       "      <td>431</td>\n",
       "      <td>10/13/2014 10:31</td>\n",
       "      <td>10/13/2014 10:48</td>\n",
       "      <td>SEA00298</td>\n",
       "      <td>985.935</td>\n",
       "      <td>2nd Ave &amp; Spring St</td>\n",
       "      <td>Occidental Park / Occidental Ave S &amp; S Washing...</td>\n",
       "      <td>CBD-06</td>\n",
       "      <td>PS-04</td>\n",
       "      <td>Member</td>\n",
       "      <td>Male</td>\n",
       "      <td>1960.0</td>\n",
       "    </tr>\n",
       "    <tr>\n",
       "      <th>1</th>\n",
       "      <td>432</td>\n",
       "      <td>10/13/2014 10:32</td>\n",
       "      <td>10/13/2014 10:48</td>\n",
       "      <td>SEA00195</td>\n",
       "      <td>926.375</td>\n",
       "      <td>2nd Ave &amp; Spring St</td>\n",
       "      <td>Occidental Park / Occidental Ave S &amp; S Washing...</td>\n",
       "      <td>CBD-06</td>\n",
       "      <td>PS-04</td>\n",
       "      <td>Member</td>\n",
       "      <td>Male</td>\n",
       "      <td>1970.0</td>\n",
       "    </tr>\n",
       "    <tr>\n",
       "      <th>2</th>\n",
       "      <td>433</td>\n",
       "      <td>10/13/2014 10:33</td>\n",
       "      <td>10/13/2014 10:48</td>\n",
       "      <td>SEA00486</td>\n",
       "      <td>883.831</td>\n",
       "      <td>2nd Ave &amp; Spring St</td>\n",
       "      <td>Occidental Park / Occidental Ave S &amp; S Washing...</td>\n",
       "      <td>CBD-06</td>\n",
       "      <td>PS-04</td>\n",
       "      <td>Member</td>\n",
       "      <td>Female</td>\n",
       "      <td>1988.0</td>\n",
       "    </tr>\n",
       "    <tr>\n",
       "      <th>3</th>\n",
       "      <td>434</td>\n",
       "      <td>10/13/2014 10:34</td>\n",
       "      <td>10/13/2014 10:48</td>\n",
       "      <td>SEA00333</td>\n",
       "      <td>865.937</td>\n",
       "      <td>2nd Ave &amp; Spring St</td>\n",
       "      <td>Occidental Park / Occidental Ave S &amp; S Washing...</td>\n",
       "      <td>CBD-06</td>\n",
       "      <td>PS-04</td>\n",
       "      <td>Member</td>\n",
       "      <td>Female</td>\n",
       "      <td>1977.0</td>\n",
       "    </tr>\n",
       "    <tr>\n",
       "      <th>4</th>\n",
       "      <td>435</td>\n",
       "      <td>10/13/2014 10:34</td>\n",
       "      <td>10/13/2014 10:49</td>\n",
       "      <td>SEA00202</td>\n",
       "      <td>923.923</td>\n",
       "      <td>2nd Ave &amp; Spring St</td>\n",
       "      <td>Occidental Park / Occidental Ave S &amp; S Washing...</td>\n",
       "      <td>CBD-06</td>\n",
       "      <td>PS-04</td>\n",
       "      <td>Member</td>\n",
       "      <td>Male</td>\n",
       "      <td>1971.0</td>\n",
       "    </tr>\n",
       "  </tbody>\n",
       "</table>\n",
       "</div>"
      ],
      "text/plain": [
       "   sno         starttime          stoptime    bikeid  tripduration  \\\n",
       "0  431  10/13/2014 10:31  10/13/2014 10:48  SEA00298       985.935   \n",
       "1  432  10/13/2014 10:32  10/13/2014 10:48  SEA00195       926.375   \n",
       "2  433  10/13/2014 10:33  10/13/2014 10:48  SEA00486       883.831   \n",
       "3  434  10/13/2014 10:34  10/13/2014 10:48  SEA00333       865.937   \n",
       "4  435  10/13/2014 10:34  10/13/2014 10:49  SEA00202       923.923   \n",
       "\n",
       "     from_station_name                                    to_station_name  \\\n",
       "0  2nd Ave & Spring St  Occidental Park / Occidental Ave S & S Washing...   \n",
       "1  2nd Ave & Spring St  Occidental Park / Occidental Ave S & S Washing...   \n",
       "2  2nd Ave & Spring St  Occidental Park / Occidental Ave S & S Washing...   \n",
       "3  2nd Ave & Spring St  Occidental Park / Occidental Ave S & S Washing...   \n",
       "4  2nd Ave & Spring St  Occidental Park / Occidental Ave S & S Washing...   \n",
       "\n",
       "  from_station_id to_station_id usertype  gender  birthyear  \n",
       "0          CBD-06         PS-04   Member    Male     1960.0  \n",
       "1          CBD-06         PS-04   Member    Male     1970.0  \n",
       "2          CBD-06         PS-04   Member  Female     1988.0  \n",
       "3          CBD-06         PS-04   Member  Female     1977.0  \n",
       "4          CBD-06         PS-04   Member    Male     1971.0  "
      ]
     },
     "execution_count": 82,
     "metadata": {},
     "output_type": "execute_result"
    }
   ],
   "source": [
    "df.index.name = 'sno'\n",
    "df.reset_index(inplace=True)\n",
    "df.head()"
   ]
  },
  {
   "cell_type": "code",
   "execution_count": 83,
   "metadata": {},
   "outputs": [
    {
     "name": "stdout",
     "output_type": "stream",
     "text": [
      "<class 'pandas.core.frame.DataFrame'>\n",
      "RangeIndex: 286857 entries, 0 to 286856\n",
      "Data columns (total 12 columns):\n",
      "sno                  286857 non-null int64\n",
      "starttime            286857 non-null object\n",
      "stoptime             286857 non-null object\n",
      "bikeid               286857 non-null object\n",
      "tripduration         286857 non-null float64\n",
      "from_station_name    286857 non-null object\n",
      "to_station_name      286857 non-null object\n",
      "from_station_id      286857 non-null object\n",
      "to_station_id        286857 non-null object\n",
      "usertype             286857 non-null object\n",
      "gender               181557 non-null object\n",
      "birthyear            181553 non-null float64\n",
      "dtypes: float64(2), int64(1), object(9)\n",
      "memory usage: 26.3+ MB\n"
     ]
    }
   ],
   "source": [
    "df.info()"
   ]
  },
  {
   "cell_type": "markdown",
   "metadata": {},
   "source": [
    "Data set contain trip duration less than three minutes, which could be possible the user took bike and decide not to proceed and return back bike to dock station and data of short pass holder which does not contribute any significance in  our analysis, at this point this study decide to get rid of unwanted data and more focus on the data which contributing significance in our analysis"
   ]
  },
  {
   "cell_type": "code",
   "execution_count": 84,
   "metadata": {
    "collapsed": true
   },
   "outputs": [],
   "source": [
    "# Filter data and only consider trip duration more than 3 minute and exclude Short-Term Pass Holder from our data set\n",
    "bikes = df[(df.tripduration >=300) & (df.usertype != 'Short-Term Pass Holder')]"
   ]
  },
  {
   "cell_type": "markdown",
   "metadata": {},
   "source": [
    "- After applying fillter our data set shrink from 286857 to 143541 tuples"
   ]
  },
  {
   "cell_type": "markdown",
   "metadata": {},
   "source": [
    "# Handle missing values"
   ]
  },
  {
   "cell_type": "markdown",
   "metadata": {},
   "source": [
    "**What does \"NaN\" mean?**\n",
    "\n",
    "- \"NaN\" is not a string, rather it's a special value: **`numpy.nan`**.\n",
    "- It stands for \"Not a Number\" and indicates a **missing value**.\n",
    "- **`read_csv`** detects missing values (by default) when reading the file, and replaces them with this special value."
   ]
  },
  {
   "cell_type": "code",
   "execution_count": 85,
   "metadata": {},
   "outputs": [
    {
     "data": {
      "text/html": [
       "<div>\n",
       "<style scoped>\n",
       "    .dataframe tbody tr th:only-of-type {\n",
       "        vertical-align: middle;\n",
       "    }\n",
       "\n",
       "    .dataframe tbody tr th {\n",
       "        vertical-align: top;\n",
       "    }\n",
       "\n",
       "    .dataframe thead th {\n",
       "        text-align: right;\n",
       "    }\n",
       "</style>\n",
       "<table border=\"1\" class=\"dataframe\">\n",
       "  <thead>\n",
       "    <tr style=\"text-align: right;\">\n",
       "      <th></th>\n",
       "      <th>sno</th>\n",
       "      <th>starttime</th>\n",
       "      <th>stoptime</th>\n",
       "      <th>bikeid</th>\n",
       "      <th>tripduration</th>\n",
       "      <th>from_station_name</th>\n",
       "      <th>to_station_name</th>\n",
       "      <th>from_station_id</th>\n",
       "      <th>to_station_id</th>\n",
       "      <th>usertype</th>\n",
       "      <th>gender</th>\n",
       "      <th>birthyear</th>\n",
       "    </tr>\n",
       "  </thead>\n",
       "  <tbody>\n",
       "    <tr>\n",
       "      <th>286842</th>\n",
       "      <td>False</td>\n",
       "      <td>False</td>\n",
       "      <td>False</td>\n",
       "      <td>False</td>\n",
       "      <td>False</td>\n",
       "      <td>False</td>\n",
       "      <td>False</td>\n",
       "      <td>False</td>\n",
       "      <td>False</td>\n",
       "      <td>False</td>\n",
       "      <td>False</td>\n",
       "      <td>False</td>\n",
       "    </tr>\n",
       "    <tr>\n",
       "      <th>286843</th>\n",
       "      <td>False</td>\n",
       "      <td>False</td>\n",
       "      <td>False</td>\n",
       "      <td>False</td>\n",
       "      <td>False</td>\n",
       "      <td>False</td>\n",
       "      <td>False</td>\n",
       "      <td>False</td>\n",
       "      <td>False</td>\n",
       "      <td>False</td>\n",
       "      <td>False</td>\n",
       "      <td>False</td>\n",
       "    </tr>\n",
       "    <tr>\n",
       "      <th>286844</th>\n",
       "      <td>False</td>\n",
       "      <td>False</td>\n",
       "      <td>False</td>\n",
       "      <td>False</td>\n",
       "      <td>False</td>\n",
       "      <td>False</td>\n",
       "      <td>False</td>\n",
       "      <td>False</td>\n",
       "      <td>False</td>\n",
       "      <td>False</td>\n",
       "      <td>False</td>\n",
       "      <td>False</td>\n",
       "    </tr>\n",
       "    <tr>\n",
       "      <th>286845</th>\n",
       "      <td>False</td>\n",
       "      <td>False</td>\n",
       "      <td>False</td>\n",
       "      <td>False</td>\n",
       "      <td>False</td>\n",
       "      <td>False</td>\n",
       "      <td>False</td>\n",
       "      <td>False</td>\n",
       "      <td>False</td>\n",
       "      <td>False</td>\n",
       "      <td>False</td>\n",
       "      <td>False</td>\n",
       "    </tr>\n",
       "    <tr>\n",
       "      <th>286847</th>\n",
       "      <td>False</td>\n",
       "      <td>False</td>\n",
       "      <td>False</td>\n",
       "      <td>False</td>\n",
       "      <td>False</td>\n",
       "      <td>False</td>\n",
       "      <td>False</td>\n",
       "      <td>False</td>\n",
       "      <td>False</td>\n",
       "      <td>False</td>\n",
       "      <td>False</td>\n",
       "      <td>False</td>\n",
       "    </tr>\n",
       "  </tbody>\n",
       "</table>\n",
       "</div>"
      ],
      "text/plain": [
       "          sno  starttime  stoptime  bikeid  tripduration  from_station_name  \\\n",
       "286842  False      False     False   False         False              False   \n",
       "286843  False      False     False   False         False              False   \n",
       "286844  False      False     False   False         False              False   \n",
       "286845  False      False     False   False         False              False   \n",
       "286847  False      False     False   False         False              False   \n",
       "\n",
       "        to_station_name  from_station_id  to_station_id  usertype  gender  \\\n",
       "286842            False            False          False     False   False   \n",
       "286843            False            False          False     False   False   \n",
       "286844            False            False          False     False   False   \n",
       "286845            False            False          False     False   False   \n",
       "286847            False            False          False     False   False   \n",
       "\n",
       "        birthyear  \n",
       "286842      False  \n",
       "286843      False  \n",
       "286844      False  \n",
       "286845      False  \n",
       "286847      False  "
      ]
     },
     "execution_count": 85,
     "metadata": {},
     "output_type": "execute_result"
    }
   ],
   "source": [
    "# 'isnull' returns a DataFrame of booleans (True if missing, False if not missing)\n",
    "bikes.isnull().tail()"
   ]
  },
  {
   "cell_type": "code",
   "execution_count": 86,
   "metadata": {},
   "outputs": [
    {
     "data": {
      "text/html": [
       "<div>\n",
       "<style scoped>\n",
       "    .dataframe tbody tr th:only-of-type {\n",
       "        vertical-align: middle;\n",
       "    }\n",
       "\n",
       "    .dataframe tbody tr th {\n",
       "        vertical-align: top;\n",
       "    }\n",
       "\n",
       "    .dataframe thead th {\n",
       "        text-align: right;\n",
       "    }\n",
       "</style>\n",
       "<table border=\"1\" class=\"dataframe\">\n",
       "  <thead>\n",
       "    <tr style=\"text-align: right;\">\n",
       "      <th></th>\n",
       "      <th>sno</th>\n",
       "      <th>starttime</th>\n",
       "      <th>stoptime</th>\n",
       "      <th>bikeid</th>\n",
       "      <th>tripduration</th>\n",
       "      <th>from_station_name</th>\n",
       "      <th>to_station_name</th>\n",
       "      <th>from_station_id</th>\n",
       "      <th>to_station_id</th>\n",
       "      <th>usertype</th>\n",
       "      <th>gender</th>\n",
       "      <th>birthyear</th>\n",
       "    </tr>\n",
       "  </thead>\n",
       "  <tbody>\n",
       "    <tr>\n",
       "      <th>286842</th>\n",
       "      <td>True</td>\n",
       "      <td>True</td>\n",
       "      <td>True</td>\n",
       "      <td>True</td>\n",
       "      <td>True</td>\n",
       "      <td>True</td>\n",
       "      <td>True</td>\n",
       "      <td>True</td>\n",
       "      <td>True</td>\n",
       "      <td>True</td>\n",
       "      <td>True</td>\n",
       "      <td>True</td>\n",
       "    </tr>\n",
       "    <tr>\n",
       "      <th>286843</th>\n",
       "      <td>True</td>\n",
       "      <td>True</td>\n",
       "      <td>True</td>\n",
       "      <td>True</td>\n",
       "      <td>True</td>\n",
       "      <td>True</td>\n",
       "      <td>True</td>\n",
       "      <td>True</td>\n",
       "      <td>True</td>\n",
       "      <td>True</td>\n",
       "      <td>True</td>\n",
       "      <td>True</td>\n",
       "    </tr>\n",
       "    <tr>\n",
       "      <th>286844</th>\n",
       "      <td>True</td>\n",
       "      <td>True</td>\n",
       "      <td>True</td>\n",
       "      <td>True</td>\n",
       "      <td>True</td>\n",
       "      <td>True</td>\n",
       "      <td>True</td>\n",
       "      <td>True</td>\n",
       "      <td>True</td>\n",
       "      <td>True</td>\n",
       "      <td>True</td>\n",
       "      <td>True</td>\n",
       "    </tr>\n",
       "    <tr>\n",
       "      <th>286845</th>\n",
       "      <td>True</td>\n",
       "      <td>True</td>\n",
       "      <td>True</td>\n",
       "      <td>True</td>\n",
       "      <td>True</td>\n",
       "      <td>True</td>\n",
       "      <td>True</td>\n",
       "      <td>True</td>\n",
       "      <td>True</td>\n",
       "      <td>True</td>\n",
       "      <td>True</td>\n",
       "      <td>True</td>\n",
       "    </tr>\n",
       "    <tr>\n",
       "      <th>286847</th>\n",
       "      <td>True</td>\n",
       "      <td>True</td>\n",
       "      <td>True</td>\n",
       "      <td>True</td>\n",
       "      <td>True</td>\n",
       "      <td>True</td>\n",
       "      <td>True</td>\n",
       "      <td>True</td>\n",
       "      <td>True</td>\n",
       "      <td>True</td>\n",
       "      <td>True</td>\n",
       "      <td>True</td>\n",
       "    </tr>\n",
       "  </tbody>\n",
       "</table>\n",
       "</div>"
      ],
      "text/plain": [
       "         sno  starttime  stoptime  bikeid  tripduration  from_station_name  \\\n",
       "286842  True       True      True    True          True               True   \n",
       "286843  True       True      True    True          True               True   \n",
       "286844  True       True      True    True          True               True   \n",
       "286845  True       True      True    True          True               True   \n",
       "286847  True       True      True    True          True               True   \n",
       "\n",
       "        to_station_name  from_station_id  to_station_id  usertype  gender  \\\n",
       "286842             True             True           True      True    True   \n",
       "286843             True             True           True      True    True   \n",
       "286844             True             True           True      True    True   \n",
       "286845             True             True           True      True    True   \n",
       "286847             True             True           True      True    True   \n",
       "\n",
       "        birthyear  \n",
       "286842       True  \n",
       "286843       True  \n",
       "286844       True  \n",
       "286845       True  \n",
       "286847       True  "
      ]
     },
     "execution_count": 86,
     "metadata": {},
     "output_type": "execute_result"
    }
   ],
   "source": [
    "# 'nonnull' returns the opposite of 'isnull' (True if not missing, False if missing)\n",
    "bikes.notnull().tail()"
   ]
  },
  {
   "cell_type": "code",
   "execution_count": 87,
   "metadata": {},
   "outputs": [
    {
     "data": {
      "text/plain": [
       "sno                  0\n",
       "starttime            0\n",
       "stoptime             0\n",
       "bikeid               0\n",
       "tripduration         0\n",
       "from_station_name    0\n",
       "to_station_name      0\n",
       "from_station_id      0\n",
       "to_station_id        0\n",
       "usertype             0\n",
       "gender               0\n",
       "birthyear            2\n",
       "dtype: int64"
      ]
     },
     "execution_count": 87,
     "metadata": {},
     "output_type": "execute_result"
    }
   ],
   "source": [
    "# count the number of missing values in each Series\n",
    "bikes.isnull().sum()"
   ]
  },
  {
   "cell_type": "markdown",
   "metadata": {},
   "source": [
    "**handle missing values** depends on the dataset as well as the nature of analysis"
   ]
  },
  {
   "cell_type": "code",
   "execution_count": 88,
   "metadata": {},
   "outputs": [
    {
     "data": {
      "text/plain": [
       "(143543, 12)"
      ]
     },
     "execution_count": 88,
     "metadata": {},
     "output_type": "execute_result"
    }
   ],
   "source": [
    "bikes.shape"
   ]
  },
  {
   "cell_type": "code",
   "execution_count": 89,
   "metadata": {},
   "outputs": [
    {
     "data": {
      "text/plain": [
       "(143541, 12)"
      ]
     },
     "execution_count": 89,
     "metadata": {},
     "output_type": "execute_result"
    }
   ],
   "source": [
    "# if 'any' values are missing in a row, then drop that row\n",
    "bikes.dropna(how='any').shape"
   ]
  },
  {
   "cell_type": "code",
   "execution_count": 90,
   "metadata": {},
   "outputs": [
    {
     "data": {
      "text/plain": [
       "1979.3765474672741"
      ]
     },
     "execution_count": 90,
     "metadata": {},
     "output_type": "execute_result"
    }
   ],
   "source": [
    "bikes.birthyear.mean()"
   ]
  },
  {
   "cell_type": "code",
   "execution_count": 91,
   "metadata": {
    "collapsed": true
   },
   "outputs": [],
   "source": [
    "# fill in missing values with a specified value\n",
    "bikes['birthyear'].fillna(value='1979', inplace=True)"
   ]
  },
  {
   "cell_type": "code",
   "execution_count": 92,
   "metadata": {},
   "outputs": [
    {
     "data": {
      "text/plain": [
       "sno                  0\n",
       "starttime            0\n",
       "stoptime             0\n",
       "bikeid               0\n",
       "tripduration         0\n",
       "from_station_name    0\n",
       "to_station_name      0\n",
       "from_station_id      0\n",
       "to_station_id        0\n",
       "usertype             0\n",
       "gender               0\n",
       "birthyear            0\n",
       "dtype: int64"
      ]
     },
     "execution_count": 92,
     "metadata": {},
     "output_type": "execute_result"
    }
   ],
   "source": [
    "# count the number of missing values in each Series\n",
    "bikes.isnull().sum()"
   ]
  },
  {
   "cell_type": "markdown",
   "metadata": {},
   "source": [
    "# Data Transformation "
   ]
  },
  {
   "cell_type": "markdown",
   "metadata": {},
   "source": [
    "converting data Categorical to Numaric for further use"
   ]
  },
  {
   "cell_type": "markdown",
   "metadata": {},
   "source": [
    "- Converting Gender Column "
   ]
  },
  {
   "cell_type": "code",
   "execution_count": 93,
   "metadata": {},
   "outputs": [],
   "source": [
    "# create the 'Sex_num' dummy variable using the 'map' method\n",
    "bikes['Sex_num'] = bikes.gender.map({'Female':2, 'Male':1})"
   ]
  },
  {
   "cell_type": "markdown",
   "metadata": {},
   "source": [
    "- Converting category From Station ID and To Station ID to nominal"
   ]
  },
  {
   "cell_type": "code",
   "execution_count": 94,
   "metadata": {},
   "outputs": [
    {
     "data": {
      "text/plain": [
       "sno                       int64\n",
       "starttime                object\n",
       "stoptime                 object\n",
       "bikeid                   object\n",
       "tripduration            float64\n",
       "from_station_name        object\n",
       "to_station_name          object\n",
       "from_station_id          object\n",
       "to_station_id            object\n",
       "usertype                 object\n",
       "gender                   object\n",
       "birthyear                object\n",
       "Sex_num                 float64\n",
       "from_station_id_cat    category\n",
       "dtype: object"
      ]
     },
     "execution_count": 94,
     "metadata": {},
     "output_type": "execute_result"
    }
   ],
   "source": [
    "bikes[\"from_station_id_cat\"] = bikes[\"from_station_id\"].astype('category')\n",
    "bikes.dtypes "
   ]
  },
  {
   "cell_type": "code",
   "execution_count": 95,
   "metadata": {
    "collapsed": true
   },
   "outputs": [],
   "source": [
    "bikes[\"from_station_id_num\"] = bikes[\"from_station_id_cat\"].cat.codes"
   ]
  },
  {
   "cell_type": "code",
   "execution_count": 96,
   "metadata": {},
   "outputs": [
    {
     "data": {
      "text/plain": [
       "sno                       int64\n",
       "starttime                object\n",
       "stoptime                 object\n",
       "bikeid                   object\n",
       "tripduration            float64\n",
       "from_station_name        object\n",
       "to_station_name          object\n",
       "from_station_id          object\n",
       "to_station_id            object\n",
       "usertype                 object\n",
       "gender                   object\n",
       "birthyear                object\n",
       "Sex_num                 float64\n",
       "from_station_id_cat    category\n",
       "from_station_id_num        int8\n",
       "to_station_id_cat      category\n",
       "dtype: object"
      ]
     },
     "execution_count": 96,
     "metadata": {},
     "output_type": "execute_result"
    }
   ],
   "source": [
    "bikes[\"to_station_id_cat\"] = bikes[\"to_station_id\"].astype('category')\n",
    "bikes.dtypes "
   ]
  },
  {
   "cell_type": "code",
   "execution_count": 97,
   "metadata": {
    "collapsed": true
   },
   "outputs": [],
   "source": [
    "bikes[\"to_station_id_num\"] = bikes[\"to_station_id_cat\"].cat.codes"
   ]
  },
  {
   "cell_type": "markdown",
   "metadata": {},
   "source": [
    "#  Handlind Date and Time"
   ]
  },
  {
   "cell_type": "markdown",
   "metadata": {},
   "source": [
    "For further, for our analysis we are dividing date columns in small portion. Which, could help us to understand dataset more clearly. "
   ]
  },
  {
   "cell_type": "code",
   "execution_count": 98,
   "metadata": {},
   "outputs": [],
   "source": [
    "# convert 'Time' to datetime format\n",
    "bikes['starttime'] = pd.to_datetime(bikes.starttime)\n",
    "bikes['stoptime'] = pd.to_datetime(bikes.stoptime)"
   ]
  },
  {
   "cell_type": "code",
   "execution_count": 99,
   "metadata": {},
   "outputs": [
    {
     "data": {
      "text/plain": [
       "sno                             int64\n",
       "starttime              datetime64[ns]\n",
       "stoptime               datetime64[ns]\n",
       "bikeid                         object\n",
       "tripduration                  float64\n",
       "from_station_name              object\n",
       "to_station_name                object\n",
       "from_station_id                object\n",
       "to_station_id                  object\n",
       "usertype                       object\n",
       "gender                         object\n",
       "birthyear                      object\n",
       "Sex_num                       float64\n",
       "from_station_id_cat          category\n",
       "from_station_id_num              int8\n",
       "to_station_id_cat            category\n",
       "to_station_id_num                int8\n",
       "dtype: object"
      ]
     },
     "execution_count": 99,
     "metadata": {},
     "output_type": "execute_result"
    }
   ],
   "source": [
    "bikes.dtypes"
   ]
  },
  {
   "cell_type": "code",
   "execution_count": 100,
   "metadata": {
    "collapsed": true
   },
   "outputs": [],
   "source": [
    "bikes['Day'] = bikes.starttime.dt.weekday_name"
   ]
  },
  {
   "cell_type": "code",
   "execution_count": 101,
   "metadata": {
    "collapsed": true
   },
   "outputs": [],
   "source": [
    "# convert 'Time' to datetime format\n",
    "bikes['stoptime'] = pd.to_datetime(bikes.stoptime)"
   ]
  },
  {
   "cell_type": "code",
   "execution_count": 102,
   "metadata": {},
   "outputs": [
    {
     "data": {
      "text/plain": [
       "sno                             int64\n",
       "starttime              datetime64[ns]\n",
       "stoptime               datetime64[ns]\n",
       "bikeid                         object\n",
       "tripduration                  float64\n",
       "from_station_name              object\n",
       "to_station_name                object\n",
       "from_station_id                object\n",
       "to_station_id                  object\n",
       "usertype                       object\n",
       "gender                         object\n",
       "birthyear                      object\n",
       "Sex_num                       float64\n",
       "from_station_id_cat          category\n",
       "from_station_id_num              int8\n",
       "to_station_id_cat            category\n",
       "to_station_id_num                int8\n",
       "Day                            object\n",
       "Day_cat                      category\n",
       "dtype: object"
      ]
     },
     "execution_count": 102,
     "metadata": {},
     "output_type": "execute_result"
    }
   ],
   "source": [
    "bikes[\"Day_cat\"] = bikes[\"Day\"].astype('category')\n",
    "bikes.dtypes "
   ]
  },
  {
   "cell_type": "code",
   "execution_count": 103,
   "metadata": {
    "collapsed": true
   },
   "outputs": [],
   "source": [
    "bikes[\"Day_num\"] = bikes[\"Day_cat\"].cat.codes"
   ]
  },
  {
   "cell_type": "code",
   "execution_count": 104,
   "metadata": {
    "collapsed": true
   },
   "outputs": [],
   "source": [
    "# convenient Series attributes are now available\n",
    "bikes[\"sthours\"] = bikes.starttime.dt.hour"
   ]
  },
  {
   "cell_type": "code",
   "execution_count": 105,
   "metadata": {
    "collapsed": true
   },
   "outputs": [],
   "source": [
    "# convenient Series attributes are now available\n",
    "bikes[\"stphours\"] = bikes.stoptime.dt.hour"
   ]
  },
  {
   "cell_type": "code",
   "execution_count": 106,
   "metadata": {
    "collapsed": true
   },
   "outputs": [],
   "source": [
    "bikes['tripduration_minutes']=bikes['tripduration']/60\n",
    "desred_decimals = 2    \n",
    "bikes['tripduration_minutes'] = bikes['tripduration_minutes'].apply(lambda x: round(x,desred_decimals))"
   ]
  },
  {
   "cell_type": "code",
   "execution_count": 107,
   "metadata": {
    "collapsed": true
   },
   "outputs": [],
   "source": [
    " bikes['birthyear'] = bikes['birthyear'].astype(int)"
   ]
  },
  {
   "cell_type": "code",
   "execution_count": 108,
   "metadata": {},
   "outputs": [
    {
     "data": {
      "text/plain": [
       "0    58\n",
       "1    48\n",
       "2    30\n",
       "3    41\n",
       "4    47\n",
       "Name: age, dtype: int32"
      ]
     },
     "execution_count": 108,
     "metadata": {},
     "output_type": "execute_result"
    }
   ],
   "source": [
    "bikes['age'] = 2018 - bikes['birthyear']\n",
    "desred_decimals = 2    \n",
    "bikes['birthyear'] = bikes['birthyear'].apply(lambda x: round(x,desred_decimals))\n",
    "bikes.age.head()"
   ]
  },
  {
   "cell_type": "markdown",
   "metadata": {},
   "source": [
    "Some statistics about age Variable "
   ]
  },
  {
   "cell_type": "code",
   "execution_count": 109,
   "metadata": {},
   "outputs": [
    {
     "data": {
      "text/plain": [
       "count    143543.000000\n",
       "mean         38.623458\n",
       "std          10.251359\n",
       "min          19.000000\n",
       "25%          31.000000\n",
       "50%          36.000000\n",
       "75%          44.000000\n",
       "max          87.000000\n",
       "Name: age, dtype: float64"
      ]
     },
     "execution_count": 109,
     "metadata": {},
     "output_type": "execute_result"
    }
   ],
   "source": [
    "bikes.age.describe()"
   ]
  },
  {
   "cell_type": "code",
   "execution_count": 110,
   "metadata": {},
   "outputs": [
    {
     "name": "stdout",
     "output_type": "stream",
     "text": [
      "<class 'pandas.core.frame.DataFrame'>\n",
      "Int64Index: 143543 entries, 0 to 286847\n",
      "Data columns (total 24 columns):\n",
      "sno                     143543 non-null int64\n",
      "starttime               143543 non-null datetime64[ns]\n",
      "stoptime                143543 non-null datetime64[ns]\n",
      "bikeid                  143543 non-null object\n",
      "tripduration            143543 non-null float64\n",
      "from_station_name       143543 non-null object\n",
      "to_station_name         143543 non-null object\n",
      "from_station_id         143543 non-null object\n",
      "to_station_id           143543 non-null object\n",
      "usertype                143543 non-null object\n",
      "gender                  143543 non-null object\n",
      "birthyear               143543 non-null int64\n",
      "Sex_num                 140905 non-null float64\n",
      "from_station_id_cat     143543 non-null category\n",
      "from_station_id_num     143543 non-null int8\n",
      "to_station_id_cat       143543 non-null category\n",
      "to_station_id_num       143543 non-null int8\n",
      "Day                     143543 non-null object\n",
      "Day_cat                 143543 non-null category\n",
      "Day_num                 143543 non-null int8\n",
      "sthours                 143543 non-null int64\n",
      "stphours                143543 non-null int64\n",
      "tripduration_minutes    143543 non-null float64\n",
      "age                     143543 non-null int32\n",
      "dtypes: category(3), datetime64[ns](2), float64(3), int32(1), int64(4), int8(3), object(8)\n",
      "memory usage: 21.1+ MB\n"
     ]
    }
   ],
   "source": [
    "bikes.info()"
   ]
  },
  {
   "cell_type": "markdown",
   "metadata": {},
   "source": [
    "# Removing Duplicated Tuples"
   ]
  },
  {
   "cell_type": "code",
   "execution_count": 111,
   "metadata": {},
   "outputs": [
    {
     "ename": "AttributeError",
     "evalue": "'DataFrame' object has no attribute 'trip_id'",
     "output_type": "error",
     "traceback": [
      "\u001b[0;31m---------------------------------------------------------------------------\u001b[0m",
      "\u001b[0;31mAttributeError\u001b[0m                            Traceback (most recent call last)",
      "\u001b[0;32m<ipython-input-111-0e27c50260a0>\u001b[0m in \u001b[0;36m<module>\u001b[0;34m()\u001b[0m\n\u001b[1;32m      1\u001b[0m \u001b[1;31m# detect duplicate trip_id codes: True if an item is identical to a previous item\u001b[0m\u001b[1;33m\u001b[0m\u001b[1;33m\u001b[0m\u001b[0m\n\u001b[0;32m----> 2\u001b[0;31m \u001b[0mbikes\u001b[0m\u001b[1;33m.\u001b[0m\u001b[0mtrip_id\u001b[0m\u001b[1;33m.\u001b[0m\u001b[0mduplicated\u001b[0m\u001b[1;33m(\u001b[0m\u001b[1;33m)\u001b[0m\u001b[1;33m.\u001b[0m\u001b[0mtail\u001b[0m\u001b[1;33m(\u001b[0m\u001b[1;33m)\u001b[0m\u001b[1;33m\u001b[0m\u001b[0m\n\u001b[0m",
      "\u001b[0;32mC:\\Users\\mrferozi\\Anaconda4\\lib\\site-packages\\pandas\\core\\generic.py\u001b[0m in \u001b[0;36m__getattr__\u001b[0;34m(self, name)\u001b[0m\n\u001b[1;32m   3612\u001b[0m             \u001b[1;32mif\u001b[0m \u001b[0mname\u001b[0m \u001b[1;32min\u001b[0m \u001b[0mself\u001b[0m\u001b[1;33m.\u001b[0m\u001b[0m_info_axis\u001b[0m\u001b[1;33m:\u001b[0m\u001b[1;33m\u001b[0m\u001b[0m\n\u001b[1;32m   3613\u001b[0m                 \u001b[1;32mreturn\u001b[0m \u001b[0mself\u001b[0m\u001b[1;33m[\u001b[0m\u001b[0mname\u001b[0m\u001b[1;33m]\u001b[0m\u001b[1;33m\u001b[0m\u001b[0m\n\u001b[0;32m-> 3614\u001b[0;31m             \u001b[1;32mreturn\u001b[0m \u001b[0mobject\u001b[0m\u001b[1;33m.\u001b[0m\u001b[0m__getattribute__\u001b[0m\u001b[1;33m(\u001b[0m\u001b[0mself\u001b[0m\u001b[1;33m,\u001b[0m \u001b[0mname\u001b[0m\u001b[1;33m)\u001b[0m\u001b[1;33m\u001b[0m\u001b[0m\n\u001b[0m\u001b[1;32m   3615\u001b[0m \u001b[1;33m\u001b[0m\u001b[0m\n\u001b[1;32m   3616\u001b[0m     \u001b[1;32mdef\u001b[0m \u001b[0m__setattr__\u001b[0m\u001b[1;33m(\u001b[0m\u001b[0mself\u001b[0m\u001b[1;33m,\u001b[0m \u001b[0mname\u001b[0m\u001b[1;33m,\u001b[0m \u001b[0mvalue\u001b[0m\u001b[1;33m)\u001b[0m\u001b[1;33m:\u001b[0m\u001b[1;33m\u001b[0m\u001b[0m\n",
      "\u001b[0;31mAttributeError\u001b[0m: 'DataFrame' object has no attribute 'trip_id'"
     ]
    }
   ],
   "source": [
    "# detect duplicate trip_id codes: True if an item is identical to a previous item\n",
    "bikes.trip_id.duplicated().tail()"
   ]
  },
  {
   "cell_type": "markdown",
   "metadata": {},
   "source": [
    "The above codes shows that we do not have any duplicated rows in our dataset"
   ]
  },
  {
   "cell_type": "code",
   "execution_count": null,
   "metadata": {
    "collapsed": true
   },
   "outputs": [],
   "source": [
    "# Breaking date column for further Analysis\n",
    "bikes['bmonth'] = bikes['starttime'].dt.month"
   ]
  },
  {
   "cell_type": "code",
   "execution_count": null,
   "metadata": {
    "collapsed": true
   },
   "outputs": [],
   "source": [
    "# Breaking date column for further Analysis\n",
    "bikes['Date'] = bikes['starttime'].dt.date"
   ]
  },
  {
   "cell_type": "code",
   "execution_count": null,
   "metadata": {},
   "outputs": [],
   "source": [
    "bikes.dtypes"
   ]
  },
  {
   "cell_type": "code",
   "execution_count": null,
   "metadata": {},
   "outputs": [],
   "source": [
    "bikes.Day_num.tail()"
   ]
  },
  {
   "cell_type": "markdown",
   "metadata": {},
   "source": [
    "-----------------------------------------------------"
   ]
  },
  {
   "cell_type": "markdown",
   "metadata": {},
   "source": [
    "# Cleaning Weather Data"
   ]
  },
  {
   "cell_type": "code",
   "execution_count": 24,
   "metadata": {},
   "outputs": [],
   "source": [
    "# read in a CSV\n",
    "df = pd.read_csv('C:/Users/mrferozi/Desktop/GitHub/Bike/cycle-share-dataset-orignal/weather.csv')"
   ]
  },
  {
   "cell_type": "code",
   "execution_count": 25,
   "metadata": {},
   "outputs": [
    {
     "name": "stdout",
     "output_type": "stream",
     "text": [
      "<class 'pandas.core.frame.DataFrame'>\n",
      "RangeIndex: 689 entries, 0 to 688\n",
      "Data columns (total 21 columns):\n",
      "Date                          689 non-null object\n",
      "Max_Temperature_F             689 non-null int64\n",
      "Mean_Temperature_F            688 non-null float64\n",
      "Min_TemperatureF              689 non-null int64\n",
      "Max_Dew_Point_F               689 non-null int64\n",
      "MeanDew_Point_F               689 non-null int64\n",
      "Min_Dewpoint_F                689 non-null int64\n",
      "Max_Humidity                  689 non-null int64\n",
      "Mean_Humidity                 689 non-null int64\n",
      "Min_Humidity                  689 non-null int64\n",
      "Max_Sea_Level_Pressure_In     689 non-null float64\n",
      "Mean_Sea_Level_Pressure_In    689 non-null float64\n",
      "Min_Sea_Level_Pressure_In     689 non-null float64\n",
      "Max_Visibility_Miles          689 non-null int64\n",
      "Mean_Visibility_Miles         689 non-null int64\n",
      "Min_Visibility_Miles          689 non-null int64\n",
      "Max_Wind_Speed_MPH            689 non-null int64\n",
      "Mean_Wind_Speed_MPH           689 non-null int64\n",
      "Max_Gust_Speed_MPH            504 non-null object\n",
      "Precipitation_In              689 non-null float64\n",
      "Events                        689 non-null object\n",
      "dtypes: float64(5), int64(13), object(3)\n",
      "memory usage: 113.1+ KB\n"
     ]
    }
   ],
   "source": [
    "df.info()"
   ]
  },
  {
   "cell_type": "markdown",
   "metadata": {},
   "source": [
    "#  Droping unnecessary Column"
   ]
  },
  {
   "cell_type": "code",
   "execution_count": 26,
   "metadata": {
    "collapsed": true
   },
   "outputs": [],
   "source": [
    "# remove multiple columns at once\n",
    "#df.drop(['Max_Humidity', 'Min_Humidity'], axis=1, inplace=True)\n",
    "#df.drop(['Max_Wind_Speed_MPH', 'Max_Gust_Speed_MPH'], axis=1, inplace=True)\n",
    "#df.drop(['Max_Temperature_F', 'Min_TemperatureF'], axis=1, inplace=True)\n",
    "#df.drop(['Max_Visibility_Miles',  'Min_Visibility_Miles'], axis=1, inplace=True)\n",
    "#df.drop(['Max_Dew_Point_F', 'MeanDew_Point_F', 'Min_Dewpoint_F'], axis=1, inplace=True)\n",
    "#df.drop(['Max_Sea_Level_Pressure_In', 'Mean_Sea_Level_Pressure_In', 'Min_Sea_Level_Pressure_In'], axis=1, inplace=True)"
   ]
  },
  {
   "cell_type": "markdown",
   "metadata": {},
   "source": [
    "# Converting temprature from Fahrenheit to Celsius"
   ]
  },
  {
   "cell_type": "markdown",
   "metadata": {},
   "source": [
    "The definition of precipitation is any form of water - liquid or solid - falling from the sky. It includes rain, sleet, snow, hail and drizzle plus a few less common occurrences such as ice pellets, diamond dust and freezing rain.\n",
    "https://www.metoffice.gov.uk/learning/learn-about-the-weather/weather-phenomena/what-is-precipitation"
   ]
  },
  {
   "cell_type": "markdown",
   "metadata": {},
   "source": [
    "- Converting  temprature from Fahrenheit to Celsius"
   ]
  },
  {
   "cell_type": "markdown",
   "metadata": {},
   "source": [
    "T(°C) = (T(°F) - 32) × 5/9\n",
    "\n",
    "Example\n",
    "\n",
    "Convert 68 degrees Fahrenheit to degrees Celsius:\n",
    "\n",
    "\n",
    "T(°C) = (68°F - 32) × 5/9 = 20 °C\n",
    "https://www.rapidtables.com/convert/temperature/how-fahrenheit-to-celsius.html"
   ]
  },
  {
   "cell_type": "code",
   "execution_count": 27,
   "metadata": {
    "collapsed": true
   },
   "outputs": [],
   "source": [
    "a = df.Mean_Temperature_F-32"
   ]
  },
  {
   "cell_type": "code",
   "execution_count": 28,
   "metadata": {
    "collapsed": true
   },
   "outputs": [],
   "source": [
    "df['Mean_Temperature_C'] = a * 5/9\n",
    "desred_decimals = 2    \n",
    "df['Mean_Temperature_C'] = df['Mean_Temperature_C'].apply(lambda x: round(x,desred_decimals))"
   ]
  },
  {
   "cell_type": "code",
   "execution_count": 29,
   "metadata": {},
   "outputs": [
    {
     "data": {
      "text/html": [
       "<div>\n",
       "<style scoped>\n",
       "    .dataframe tbody tr th:only-of-type {\n",
       "        vertical-align: middle;\n",
       "    }\n",
       "\n",
       "    .dataframe tbody tr th {\n",
       "        vertical-align: top;\n",
       "    }\n",
       "\n",
       "    .dataframe thead th {\n",
       "        text-align: right;\n",
       "    }\n",
       "</style>\n",
       "<table border=\"1\" class=\"dataframe\">\n",
       "  <thead>\n",
       "    <tr style=\"text-align: right;\">\n",
       "      <th></th>\n",
       "      <th>Date</th>\n",
       "      <th>Max_Temperature_F</th>\n",
       "      <th>Mean_Temperature_F</th>\n",
       "      <th>Min_TemperatureF</th>\n",
       "      <th>Max_Dew_Point_F</th>\n",
       "      <th>MeanDew_Point_F</th>\n",
       "      <th>Min_Dewpoint_F</th>\n",
       "      <th>Max_Humidity</th>\n",
       "      <th>Mean_Humidity</th>\n",
       "      <th>Min_Humidity</th>\n",
       "      <th>...</th>\n",
       "      <th>Min_Sea_Level_Pressure_In</th>\n",
       "      <th>Max_Visibility_Miles</th>\n",
       "      <th>Mean_Visibility_Miles</th>\n",
       "      <th>Min_Visibility_Miles</th>\n",
       "      <th>Max_Wind_Speed_MPH</th>\n",
       "      <th>Mean_Wind_Speed_MPH</th>\n",
       "      <th>Max_Gust_Speed_MPH</th>\n",
       "      <th>Precipitation_In</th>\n",
       "      <th>Events</th>\n",
       "      <th>Mean_Temperature_C</th>\n",
       "    </tr>\n",
       "  </thead>\n",
       "  <tbody>\n",
       "    <tr>\n",
       "      <th>684</th>\n",
       "      <td>False</td>\n",
       "      <td>False</td>\n",
       "      <td>False</td>\n",
       "      <td>False</td>\n",
       "      <td>False</td>\n",
       "      <td>False</td>\n",
       "      <td>False</td>\n",
       "      <td>False</td>\n",
       "      <td>False</td>\n",
       "      <td>False</td>\n",
       "      <td>...</td>\n",
       "      <td>False</td>\n",
       "      <td>False</td>\n",
       "      <td>False</td>\n",
       "      <td>False</td>\n",
       "      <td>False</td>\n",
       "      <td>False</td>\n",
       "      <td>True</td>\n",
       "      <td>False</td>\n",
       "      <td>False</td>\n",
       "      <td>False</td>\n",
       "    </tr>\n",
       "    <tr>\n",
       "      <th>685</th>\n",
       "      <td>False</td>\n",
       "      <td>False</td>\n",
       "      <td>False</td>\n",
       "      <td>False</td>\n",
       "      <td>False</td>\n",
       "      <td>False</td>\n",
       "      <td>False</td>\n",
       "      <td>False</td>\n",
       "      <td>False</td>\n",
       "      <td>False</td>\n",
       "      <td>...</td>\n",
       "      <td>False</td>\n",
       "      <td>False</td>\n",
       "      <td>False</td>\n",
       "      <td>False</td>\n",
       "      <td>False</td>\n",
       "      <td>False</td>\n",
       "      <td>True</td>\n",
       "      <td>False</td>\n",
       "      <td>False</td>\n",
       "      <td>False</td>\n",
       "    </tr>\n",
       "    <tr>\n",
       "      <th>686</th>\n",
       "      <td>False</td>\n",
       "      <td>False</td>\n",
       "      <td>False</td>\n",
       "      <td>False</td>\n",
       "      <td>False</td>\n",
       "      <td>False</td>\n",
       "      <td>False</td>\n",
       "      <td>False</td>\n",
       "      <td>False</td>\n",
       "      <td>False</td>\n",
       "      <td>...</td>\n",
       "      <td>False</td>\n",
       "      <td>False</td>\n",
       "      <td>False</td>\n",
       "      <td>False</td>\n",
       "      <td>False</td>\n",
       "      <td>False</td>\n",
       "      <td>True</td>\n",
       "      <td>False</td>\n",
       "      <td>False</td>\n",
       "      <td>False</td>\n",
       "    </tr>\n",
       "    <tr>\n",
       "      <th>687</th>\n",
       "      <td>False</td>\n",
       "      <td>False</td>\n",
       "      <td>False</td>\n",
       "      <td>False</td>\n",
       "      <td>False</td>\n",
       "      <td>False</td>\n",
       "      <td>False</td>\n",
       "      <td>False</td>\n",
       "      <td>False</td>\n",
       "      <td>False</td>\n",
       "      <td>...</td>\n",
       "      <td>False</td>\n",
       "      <td>False</td>\n",
       "      <td>False</td>\n",
       "      <td>False</td>\n",
       "      <td>False</td>\n",
       "      <td>False</td>\n",
       "      <td>False</td>\n",
       "      <td>False</td>\n",
       "      <td>False</td>\n",
       "      <td>False</td>\n",
       "    </tr>\n",
       "    <tr>\n",
       "      <th>688</th>\n",
       "      <td>False</td>\n",
       "      <td>False</td>\n",
       "      <td>False</td>\n",
       "      <td>False</td>\n",
       "      <td>False</td>\n",
       "      <td>False</td>\n",
       "      <td>False</td>\n",
       "      <td>False</td>\n",
       "      <td>False</td>\n",
       "      <td>False</td>\n",
       "      <td>...</td>\n",
       "      <td>False</td>\n",
       "      <td>False</td>\n",
       "      <td>False</td>\n",
       "      <td>False</td>\n",
       "      <td>False</td>\n",
       "      <td>False</td>\n",
       "      <td>True</td>\n",
       "      <td>False</td>\n",
       "      <td>False</td>\n",
       "      <td>False</td>\n",
       "    </tr>\n",
       "  </tbody>\n",
       "</table>\n",
       "<p>5 rows × 22 columns</p>\n",
       "</div>"
      ],
      "text/plain": [
       "      Date  Max_Temperature_F  Mean_Temperature_F  Min_TemperatureF  \\\n",
       "684  False              False               False             False   \n",
       "685  False              False               False             False   \n",
       "686  False              False               False             False   \n",
       "687  False              False               False             False   \n",
       "688  False              False               False             False   \n",
       "\n",
       "     Max_Dew_Point_F  MeanDew_Point_F  Min_Dewpoint_F  Max_Humidity  \\\n",
       "684            False            False           False         False   \n",
       "685            False            False           False         False   \n",
       "686            False            False           False         False   \n",
       "687            False            False           False         False   \n",
       "688            False            False           False         False   \n",
       "\n",
       "     Mean_Humidity  Min_Humidity         ...          \\\n",
       "684          False         False         ...           \n",
       "685          False         False         ...           \n",
       "686          False         False         ...           \n",
       "687          False         False         ...           \n",
       "688          False         False         ...           \n",
       "\n",
       "     Min_Sea_Level_Pressure_In  Max_Visibility_Miles  Mean_Visibility_Miles  \\\n",
       "684                      False                 False                  False   \n",
       "685                      False                 False                  False   \n",
       "686                      False                 False                  False   \n",
       "687                      False                 False                  False   \n",
       "688                      False                 False                  False   \n",
       "\n",
       "     Min_Visibility_Miles  Max_Wind_Speed_MPH  Mean_Wind_Speed_MPH  \\\n",
       "684                 False               False                False   \n",
       "685                 False               False                False   \n",
       "686                 False               False                False   \n",
       "687                 False               False                False   \n",
       "688                 False               False                False   \n",
       "\n",
       "     Max_Gust_Speed_MPH  Precipitation_In  Events  Mean_Temperature_C  \n",
       "684                True             False   False               False  \n",
       "685                True             False   False               False  \n",
       "686                True             False   False               False  \n",
       "687               False             False   False               False  \n",
       "688                True             False   False               False  \n",
       "\n",
       "[5 rows x 22 columns]"
      ]
     },
     "execution_count": 29,
     "metadata": {},
     "output_type": "execute_result"
    }
   ],
   "source": [
    "# 'isnull' returns a DataFrame of booleans (True if missing, False if not missing)\n",
    "df.isnull().tail()"
   ]
  },
  {
   "cell_type": "code",
   "execution_count": 30,
   "metadata": {},
   "outputs": [
    {
     "data": {
      "text/plain": [
       "Date                            0\n",
       "Max_Temperature_F               0\n",
       "Mean_Temperature_F              1\n",
       "Min_TemperatureF                0\n",
       "Max_Dew_Point_F                 0\n",
       "MeanDew_Point_F                 0\n",
       "Min_Dewpoint_F                  0\n",
       "Max_Humidity                    0\n",
       "Mean_Humidity                   0\n",
       "Min_Humidity                    0\n",
       "Max_Sea_Level_Pressure_In       0\n",
       "Mean_Sea_Level_Pressure_In      0\n",
       "Min_Sea_Level_Pressure_In       0\n",
       "Max_Visibility_Miles            0\n",
       "Mean_Visibility_Miles           0\n",
       "Min_Visibility_Miles            0\n",
       "Max_Wind_Speed_MPH              0\n",
       "Mean_Wind_Speed_MPH             0\n",
       "Max_Gust_Speed_MPH            185\n",
       "Precipitation_In                0\n",
       "Events                          0\n",
       "Mean_Temperature_C              1\n",
       "dtype: int64"
      ]
     },
     "execution_count": 30,
     "metadata": {},
     "output_type": "execute_result"
    }
   ],
   "source": [
    "# count the number of missing values in each Series\n",
    "df.isnull().sum()"
   ]
  },
  {
   "cell_type": "markdown",
   "metadata": {},
   "source": [
    "Converting Categorical variable to nominal to fill empty tuple for Events Variables"
   ]
  },
  {
   "cell_type": "code",
   "execution_count": 31,
   "metadata": {},
   "outputs": [
    {
     "data": {
      "text/plain": [
       "Date                            object\n",
       "Max_Temperature_F                int64\n",
       "Mean_Temperature_F             float64\n",
       "Min_TemperatureF                 int64\n",
       "Max_Dew_Point_F                  int64\n",
       "MeanDew_Point_F                  int64\n",
       "Min_Dewpoint_F                   int64\n",
       "Max_Humidity                     int64\n",
       "Mean_Humidity                    int64\n",
       "Min_Humidity                     int64\n",
       "Max_Sea_Level_Pressure_In      float64\n",
       "Mean_Sea_Level_Pressure_In     float64\n",
       "Min_Sea_Level_Pressure_In      float64\n",
       "Max_Visibility_Miles             int64\n",
       "Mean_Visibility_Miles            int64\n",
       "Min_Visibility_Miles             int64\n",
       "Max_Wind_Speed_MPH               int64\n",
       "Mean_Wind_Speed_MPH              int64\n",
       "Max_Gust_Speed_MPH              object\n",
       "Precipitation_In               float64\n",
       "Events                          object\n",
       "Mean_Temperature_C             float64\n",
       "Events_cat                    category\n",
       "dtype: object"
      ]
     },
     "execution_count": 31,
     "metadata": {},
     "output_type": "execute_result"
    }
   ],
   "source": [
    "df[\"Events_cat\"] = df[\"Events\"].astype('category')\n",
    "df.dtypes "
   ]
  },
  {
   "cell_type": "code",
   "execution_count": 32,
   "metadata": {
    "collapsed": true
   },
   "outputs": [],
   "source": [
    "df[\"Events_num\"] = df[\"Events_cat\"].cat.codes"
   ]
  },
  {
   "cell_type": "code",
   "execution_count": 33,
   "metadata": {},
   "outputs": [
    {
     "data": {
      "text/plain": [
       "3.0"
      ]
     },
     "execution_count": 33,
     "metadata": {},
     "output_type": "execute_result"
    }
   ],
   "source": [
    "df[\"Events_cat\"].cat.codes.head().mean()"
   ]
  },
  {
   "cell_type": "markdown",
   "metadata": {},
   "source": [
    "As we can see that rain is our mean Event We will fill all empty event with 3 or rain"
   ]
  },
  {
   "cell_type": "code",
   "execution_count": 34,
   "metadata": {
    "collapsed": true
   },
   "outputs": [],
   "source": [
    "# fill in missing values with a specified value\n",
    "#df['Events'].fillna(value='Rain', inplace=True)"
   ]
  },
  {
   "cell_type": "markdown",
   "metadata": {},
   "source": [
    "The Events_num is appera as -1 which is not right, to fix this problem we repeate above step"
   ]
  },
  {
   "cell_type": "code",
   "execution_count": 35,
   "metadata": {
    "collapsed": true
   },
   "outputs": [],
   "source": [
    "df[\"Events_cat\"] = df[\"Events\"].astype('category')\n",
    "df[\"Events_num\"] = df[\"Events_cat\"].cat.codes"
   ]
  },
  {
   "cell_type": "code",
   "execution_count": 36,
   "metadata": {},
   "outputs": [
    {
     "data": {
      "text/plain": [
       "Date                            0\n",
       "Max_Temperature_F               0\n",
       "Mean_Temperature_F              1\n",
       "Min_TemperatureF                0\n",
       "Max_Dew_Point_F                 0\n",
       "MeanDew_Point_F                 0\n",
       "Min_Dewpoint_F                  0\n",
       "Max_Humidity                    0\n",
       "Mean_Humidity                   0\n",
       "Min_Humidity                    0\n",
       "Max_Sea_Level_Pressure_In       0\n",
       "Mean_Sea_Level_Pressure_In      0\n",
       "Min_Sea_Level_Pressure_In       0\n",
       "Max_Visibility_Miles            0\n",
       "Mean_Visibility_Miles           0\n",
       "Min_Visibility_Miles            0\n",
       "Max_Wind_Speed_MPH              0\n",
       "Mean_Wind_Speed_MPH             0\n",
       "Max_Gust_Speed_MPH            185\n",
       "Precipitation_In                0\n",
       "Events                          0\n",
       "Mean_Temperature_C              1\n",
       "Events_cat                      0\n",
       "Events_num                      0\n",
       "dtype: int64"
      ]
     },
     "execution_count": 36,
     "metadata": {},
     "output_type": "execute_result"
    }
   ],
   "source": [
    "# count the number of missing values in each Series\n",
    "df.isnull().sum()"
   ]
  },
  {
   "cell_type": "code",
   "execution_count": 37,
   "metadata": {},
   "outputs": [
    {
     "data": {
      "text/plain": [
       "0       21\n",
       "1       17\n",
       "2       25\n",
       "3        -\n",
       "4        -\n",
       "5        -\n",
       "6       18\n",
       "7        -\n",
       "8       21\n",
       "9       22\n",
       "10      22\n",
       "11       -\n",
       "12      41\n",
       "13      30\n",
       "14       -\n",
       "15       -\n",
       "16      24\n",
       "17       -\n",
       "18       -\n",
       "19       -\n",
       "20       -\n",
       "21      20\n",
       "22       -\n",
       "23       -\n",
       "24      37\n",
       "25       -\n",
       "26       -\n",
       "27      16\n",
       "28       -\n",
       "29      22\n",
       "      ... \n",
       "659     17\n",
       "660    NaN\n",
       "661     21\n",
       "662    NaN\n",
       "663    NaN\n",
       "664    NaN\n",
       "665    NaN\n",
       "666    NaN\n",
       "667     17\n",
       "668     20\n",
       "669    NaN\n",
       "670    NaN\n",
       "671    NaN\n",
       "672    NaN\n",
       "673    NaN\n",
       "674    NaN\n",
       "675    NaN\n",
       "676    NaN\n",
       "677    NaN\n",
       "678    NaN\n",
       "679    NaN\n",
       "680    NaN\n",
       "681    NaN\n",
       "682    NaN\n",
       "683    NaN\n",
       "684    NaN\n",
       "685    NaN\n",
       "686    NaN\n",
       "687     18\n",
       "688    NaN\n",
       "Name: Max_Gust_Speed_MPH, Length: 689, dtype: object"
      ]
     },
     "execution_count": 37,
     "metadata": {},
     "output_type": "execute_result"
    }
   ],
   "source": [
    "df['Max_Gust_Speed_MPH']"
   ]
  },
  {
   "cell_type": "code",
   "execution_count": 38,
   "metadata": {},
   "outputs": [
    {
     "data": {
      "text/plain": [
       "0      21\n",
       "1      17\n",
       "2      25\n",
       "3       0\n",
       "4       0\n",
       "5       0\n",
       "6      18\n",
       "7       0\n",
       "8      21\n",
       "9      22\n",
       "10     22\n",
       "11      0\n",
       "12     41\n",
       "13     30\n",
       "14      0\n",
       "15      0\n",
       "16     24\n",
       "17      0\n",
       "18      0\n",
       "19      0\n",
       "20      0\n",
       "21     20\n",
       "22      0\n",
       "23      0\n",
       "24     37\n",
       "25      0\n",
       "26      0\n",
       "27     16\n",
       "28      0\n",
       "29     22\n",
       "       ..\n",
       "659    17\n",
       "660     0\n",
       "661    21\n",
       "662     0\n",
       "663     0\n",
       "664     0\n",
       "665     0\n",
       "666     0\n",
       "667    17\n",
       "668    20\n",
       "669     0\n",
       "670     0\n",
       "671     0\n",
       "672     0\n",
       "673     0\n",
       "674     0\n",
       "675     0\n",
       "676     0\n",
       "677     0\n",
       "678     0\n",
       "679     0\n",
       "680     0\n",
       "681     0\n",
       "682     0\n",
       "683     0\n",
       "684     0\n",
       "685     0\n",
       "686     0\n",
       "687    18\n",
       "688     0\n",
       "Name: Max_Gust_Speed_MPH, Length: 689, dtype: object"
      ]
     },
     "execution_count": 38,
     "metadata": {},
     "output_type": "execute_result"
    }
   ],
   "source": [
    "# fill in missing values with a specified value\n",
    "df['Max_Gust_Speed_MPH'].fillna(value='0', inplace=True)\n",
    "df.Max_Gust_Speed_MPH.replace('-','0',inplace=True)\n",
    "df['Max_Gust_Speed_MPH']"
   ]
  },
  {
   "cell_type": "code",
   "execution_count": 39,
   "metadata": {},
   "outputs": [
    {
     "data": {
      "text/plain": [
       "9.252539912917271"
      ]
     },
     "execution_count": 39,
     "metadata": {},
     "output_type": "execute_result"
    }
   ],
   "source": [
    "df['Max_Gust_Speed_MPH'] = df['Max_Gust_Speed_MPH'].astype(int)\n",
    "df['Max_Gust_Speed_MPH'].mean()"
   ]
  },
  {
   "cell_type": "code",
   "execution_count": 40,
   "metadata": {
    "collapsed": true
   },
   "outputs": [],
   "source": [
    "df.Max_Gust_Speed_MPH.replace('0','9.252539912917271',inplace=True)"
   ]
  },
  {
   "cell_type": "code",
   "execution_count": 41,
   "metadata": {},
   "outputs": [
    {
     "data": {
      "text/plain": [
       "Sunny         361\n",
       "Rain          287\n",
       "Fog            16\n",
       "Fog , Rain      7\n",
       "Fog-Rain        6\n",
       "Name: Events, dtype: int64"
      ]
     },
     "execution_count": 41,
     "metadata": {},
     "output_type": "execute_result"
    }
   ],
   "source": [
    "# confirm that the missing values were filled in\n",
    "df['Events'].value_counts().head()"
   ]
  },
  {
   "cell_type": "code",
   "execution_count": 42,
   "metadata": {},
   "outputs": [
    {
     "data": {
      "text/plain": [
       "(688, 24)"
      ]
     },
     "execution_count": 42,
     "metadata": {},
     "output_type": "execute_result"
    }
   ],
   "source": [
    "# if 'any' values are missing in a row, then drop that row\n",
    "df.dropna(how='any').shape"
   ]
  },
  {
   "cell_type": "code",
   "execution_count": 43,
   "metadata": {},
   "outputs": [
    {
     "data": {
      "text/plain": [
       "Date                          0\n",
       "Max_Temperature_F             0\n",
       "Mean_Temperature_F            1\n",
       "Min_TemperatureF              0\n",
       "Max_Dew_Point_F               0\n",
       "MeanDew_Point_F               0\n",
       "Min_Dewpoint_F                0\n",
       "Max_Humidity                  0\n",
       "Mean_Humidity                 0\n",
       "Min_Humidity                  0\n",
       "Max_Sea_Level_Pressure_In     0\n",
       "Mean_Sea_Level_Pressure_In    0\n",
       "Min_Sea_Level_Pressure_In     0\n",
       "Max_Visibility_Miles          0\n",
       "Mean_Visibility_Miles         0\n",
       "Min_Visibility_Miles          0\n",
       "Max_Wind_Speed_MPH            0\n",
       "Mean_Wind_Speed_MPH           0\n",
       "Max_Gust_Speed_MPH            0\n",
       "Precipitation_In              0\n",
       "Events                        0\n",
       "Mean_Temperature_C            1\n",
       "Events_cat                    0\n",
       "Events_num                    0\n",
       "dtype: int64"
      ]
     },
     "execution_count": 43,
     "metadata": {},
     "output_type": "execute_result"
    }
   ],
   "source": [
    "# count the number of missing values in each Series\n",
    "df.isnull().sum()"
   ]
  },
  {
   "cell_type": "code",
   "execution_count": 44,
   "metadata": {},
   "outputs": [
    {
     "data": {
      "text/plain": [
       "56.5843023255814"
      ]
     },
     "execution_count": 44,
     "metadata": {},
     "output_type": "execute_result"
    }
   ],
   "source": [
    "df['Mean_Temperature_F'].mean()"
   ]
  },
  {
   "cell_type": "code",
   "execution_count": 45,
   "metadata": {
    "collapsed": true
   },
   "outputs": [],
   "source": [
    "# fill in missing values with a specified value\n",
    "df['Mean_Temperature_F'].fillna(value='57', inplace=True)"
   ]
  },
  {
   "cell_type": "code",
   "execution_count": 46,
   "metadata": {},
   "outputs": [
    {
     "data": {
      "text/plain": [
       "Date                          0\n",
       "Max_Temperature_F             0\n",
       "Mean_Temperature_F            0\n",
       "Min_TemperatureF              0\n",
       "Max_Dew_Point_F               0\n",
       "MeanDew_Point_F               0\n",
       "Min_Dewpoint_F                0\n",
       "Max_Humidity                  0\n",
       "Mean_Humidity                 0\n",
       "Min_Humidity                  0\n",
       "Max_Sea_Level_Pressure_In     0\n",
       "Mean_Sea_Level_Pressure_In    0\n",
       "Min_Sea_Level_Pressure_In     0\n",
       "Max_Visibility_Miles          0\n",
       "Mean_Visibility_Miles         0\n",
       "Min_Visibility_Miles          0\n",
       "Max_Wind_Speed_MPH            0\n",
       "Mean_Wind_Speed_MPH           0\n",
       "Max_Gust_Speed_MPH            0\n",
       "Precipitation_In              0\n",
       "Events                        0\n",
       "Mean_Temperature_C            1\n",
       "Events_cat                    0\n",
       "Events_num                    0\n",
       "dtype: int64"
      ]
     },
     "execution_count": 46,
     "metadata": {},
     "output_type": "execute_result"
    }
   ],
   "source": [
    "# count the number of missing values in each Series\n",
    "df.isnull().sum()"
   ]
  },
  {
   "cell_type": "code",
   "execution_count": 47,
   "metadata": {},
   "outputs": [
    {
     "data": {
      "text/plain": [
       "13.657965116279073"
      ]
     },
     "execution_count": 47,
     "metadata": {},
     "output_type": "execute_result"
    }
   ],
   "source": [
    "df['Mean_Temperature_C'].mean()"
   ]
  },
  {
   "cell_type": "code",
   "execution_count": 48,
   "metadata": {
    "collapsed": true
   },
   "outputs": [],
   "source": [
    "df['Mean_Temperature_C'].fillna(value='14', inplace=True)"
   ]
  },
  {
   "cell_type": "code",
   "execution_count": 49,
   "metadata": {},
   "outputs": [
    {
     "data": {
      "text/plain": [
       "Date                          0\n",
       "Max_Temperature_F             0\n",
       "Mean_Temperature_F            0\n",
       "Min_TemperatureF              0\n",
       "Max_Dew_Point_F               0\n",
       "MeanDew_Point_F               0\n",
       "Min_Dewpoint_F                0\n",
       "Max_Humidity                  0\n",
       "Mean_Humidity                 0\n",
       "Min_Humidity                  0\n",
       "Max_Sea_Level_Pressure_In     0\n",
       "Mean_Sea_Level_Pressure_In    0\n",
       "Min_Sea_Level_Pressure_In     0\n",
       "Max_Visibility_Miles          0\n",
       "Mean_Visibility_Miles         0\n",
       "Min_Visibility_Miles          0\n",
       "Max_Wind_Speed_MPH            0\n",
       "Mean_Wind_Speed_MPH           0\n",
       "Max_Gust_Speed_MPH            0\n",
       "Precipitation_In              0\n",
       "Events                        0\n",
       "Mean_Temperature_C            0\n",
       "Events_cat                    0\n",
       "Events_num                    0\n",
       "dtype: int64"
      ]
     },
     "execution_count": 49,
     "metadata": {},
     "output_type": "execute_result"
    }
   ],
   "source": [
    "# count the number of missing values in each Series\n",
    "df.isnull().sum()"
   ]
  },
  {
   "cell_type": "code",
   "execution_count": 50,
   "metadata": {},
   "outputs": [
    {
     "data": {
      "text/html": [
       "<div>\n",
       "<style scoped>\n",
       "    .dataframe tbody tr th:only-of-type {\n",
       "        vertical-align: middle;\n",
       "    }\n",
       "\n",
       "    .dataframe tbody tr th {\n",
       "        vertical-align: top;\n",
       "    }\n",
       "\n",
       "    .dataframe thead th {\n",
       "        text-align: right;\n",
       "    }\n",
       "</style>\n",
       "<table border=\"1\" class=\"dataframe\">\n",
       "  <thead>\n",
       "    <tr style=\"text-align: right;\">\n",
       "      <th></th>\n",
       "      <th>Date</th>\n",
       "      <th>Max_Temperature_F</th>\n",
       "      <th>Mean_Temperature_F</th>\n",
       "      <th>Min_TemperatureF</th>\n",
       "      <th>Max_Dew_Point_F</th>\n",
       "      <th>MeanDew_Point_F</th>\n",
       "      <th>Min_Dewpoint_F</th>\n",
       "      <th>Max_Humidity</th>\n",
       "      <th>Mean_Humidity</th>\n",
       "      <th>Min_Humidity</th>\n",
       "      <th>...</th>\n",
       "      <th>Mean_Visibility_Miles</th>\n",
       "      <th>Min_Visibility_Miles</th>\n",
       "      <th>Max_Wind_Speed_MPH</th>\n",
       "      <th>Mean_Wind_Speed_MPH</th>\n",
       "      <th>Max_Gust_Speed_MPH</th>\n",
       "      <th>Precipitation_In</th>\n",
       "      <th>Events</th>\n",
       "      <th>Mean_Temperature_C</th>\n",
       "      <th>Events_cat</th>\n",
       "      <th>Events_num</th>\n",
       "    </tr>\n",
       "  </thead>\n",
       "  <tbody>\n",
       "    <tr>\n",
       "      <th>684</th>\n",
       "      <td>False</td>\n",
       "      <td>False</td>\n",
       "      <td>False</td>\n",
       "      <td>False</td>\n",
       "      <td>False</td>\n",
       "      <td>False</td>\n",
       "      <td>False</td>\n",
       "      <td>False</td>\n",
       "      <td>False</td>\n",
       "      <td>False</td>\n",
       "      <td>...</td>\n",
       "      <td>False</td>\n",
       "      <td>False</td>\n",
       "      <td>False</td>\n",
       "      <td>False</td>\n",
       "      <td>False</td>\n",
       "      <td>False</td>\n",
       "      <td>False</td>\n",
       "      <td>False</td>\n",
       "      <td>False</td>\n",
       "      <td>False</td>\n",
       "    </tr>\n",
       "    <tr>\n",
       "      <th>685</th>\n",
       "      <td>False</td>\n",
       "      <td>False</td>\n",
       "      <td>False</td>\n",
       "      <td>False</td>\n",
       "      <td>False</td>\n",
       "      <td>False</td>\n",
       "      <td>False</td>\n",
       "      <td>False</td>\n",
       "      <td>False</td>\n",
       "      <td>False</td>\n",
       "      <td>...</td>\n",
       "      <td>False</td>\n",
       "      <td>False</td>\n",
       "      <td>False</td>\n",
       "      <td>False</td>\n",
       "      <td>False</td>\n",
       "      <td>False</td>\n",
       "      <td>False</td>\n",
       "      <td>False</td>\n",
       "      <td>False</td>\n",
       "      <td>False</td>\n",
       "    </tr>\n",
       "    <tr>\n",
       "      <th>686</th>\n",
       "      <td>False</td>\n",
       "      <td>False</td>\n",
       "      <td>False</td>\n",
       "      <td>False</td>\n",
       "      <td>False</td>\n",
       "      <td>False</td>\n",
       "      <td>False</td>\n",
       "      <td>False</td>\n",
       "      <td>False</td>\n",
       "      <td>False</td>\n",
       "      <td>...</td>\n",
       "      <td>False</td>\n",
       "      <td>False</td>\n",
       "      <td>False</td>\n",
       "      <td>False</td>\n",
       "      <td>False</td>\n",
       "      <td>False</td>\n",
       "      <td>False</td>\n",
       "      <td>False</td>\n",
       "      <td>False</td>\n",
       "      <td>False</td>\n",
       "    </tr>\n",
       "    <tr>\n",
       "      <th>687</th>\n",
       "      <td>False</td>\n",
       "      <td>False</td>\n",
       "      <td>False</td>\n",
       "      <td>False</td>\n",
       "      <td>False</td>\n",
       "      <td>False</td>\n",
       "      <td>False</td>\n",
       "      <td>False</td>\n",
       "      <td>False</td>\n",
       "      <td>False</td>\n",
       "      <td>...</td>\n",
       "      <td>False</td>\n",
       "      <td>False</td>\n",
       "      <td>False</td>\n",
       "      <td>False</td>\n",
       "      <td>False</td>\n",
       "      <td>False</td>\n",
       "      <td>False</td>\n",
       "      <td>False</td>\n",
       "      <td>False</td>\n",
       "      <td>False</td>\n",
       "    </tr>\n",
       "    <tr>\n",
       "      <th>688</th>\n",
       "      <td>False</td>\n",
       "      <td>False</td>\n",
       "      <td>False</td>\n",
       "      <td>False</td>\n",
       "      <td>False</td>\n",
       "      <td>False</td>\n",
       "      <td>False</td>\n",
       "      <td>False</td>\n",
       "      <td>False</td>\n",
       "      <td>False</td>\n",
       "      <td>...</td>\n",
       "      <td>False</td>\n",
       "      <td>False</td>\n",
       "      <td>False</td>\n",
       "      <td>False</td>\n",
       "      <td>False</td>\n",
       "      <td>False</td>\n",
       "      <td>False</td>\n",
       "      <td>False</td>\n",
       "      <td>False</td>\n",
       "      <td>False</td>\n",
       "    </tr>\n",
       "  </tbody>\n",
       "</table>\n",
       "<p>5 rows × 24 columns</p>\n",
       "</div>"
      ],
      "text/plain": [
       "      Date  Max_Temperature_F  Mean_Temperature_F  Min_TemperatureF  \\\n",
       "684  False              False               False             False   \n",
       "685  False              False               False             False   \n",
       "686  False              False               False             False   \n",
       "687  False              False               False             False   \n",
       "688  False              False               False             False   \n",
       "\n",
       "     Max_Dew_Point_F  MeanDew_Point_F  Min_Dewpoint_F  Max_Humidity  \\\n",
       "684            False            False           False         False   \n",
       "685            False            False           False         False   \n",
       "686            False            False           False         False   \n",
       "687            False            False           False         False   \n",
       "688            False            False           False         False   \n",
       "\n",
       "     Mean_Humidity  Min_Humidity     ...      Mean_Visibility_Miles  \\\n",
       "684          False         False     ...                      False   \n",
       "685          False         False     ...                      False   \n",
       "686          False         False     ...                      False   \n",
       "687          False         False     ...                      False   \n",
       "688          False         False     ...                      False   \n",
       "\n",
       "     Min_Visibility_Miles  Max_Wind_Speed_MPH  Mean_Wind_Speed_MPH  \\\n",
       "684                 False               False                False   \n",
       "685                 False               False                False   \n",
       "686                 False               False                False   \n",
       "687                 False               False                False   \n",
       "688                 False               False                False   \n",
       "\n",
       "     Max_Gust_Speed_MPH  Precipitation_In  Events  Mean_Temperature_C  \\\n",
       "684               False             False   False               False   \n",
       "685               False             False   False               False   \n",
       "686               False             False   False               False   \n",
       "687               False             False   False               False   \n",
       "688               False             False   False               False   \n",
       "\n",
       "     Events_cat  Events_num  \n",
       "684       False       False  \n",
       "685       False       False  \n",
       "686       False       False  \n",
       "687       False       False  \n",
       "688       False       False  \n",
       "\n",
       "[5 rows x 24 columns]"
      ]
     },
     "execution_count": 50,
     "metadata": {},
     "output_type": "execute_result"
    }
   ],
   "source": [
    "# 'isnull' returns a DataFrame of booleans (True if missing, False if not missing)\n",
    "df.isnull().tail()"
   ]
  },
  {
   "cell_type": "markdown",
   "metadata": {},
   "source": [
    "# - Breaking Date columns for further analysis"
   ]
  },
  {
   "cell_type": "code",
   "execution_count": null,
   "metadata": {
    "collapsed": true
   },
   "outputs": [],
   "source": [
    "# convert 'Time' to datetime format\n",
    "df['Date'] = pd.to_datetime(df.Date)"
   ]
  },
  {
   "cell_type": "code",
   "execution_count": null,
   "metadata": {
    "collapsed": true
   },
   "outputs": [],
   "source": [
    "df['month'] = df['Date'].dt.month"
   ]
  },
  {
   "cell_type": "code",
   "execution_count": null,
   "metadata": {
    "collapsed": true
   },
   "outputs": [],
   "source": [
    "# remove a single column (axis=1 refers to columns)\n",
    "df.drop('Events_cat', axis=1, inplace=True)"
   ]
  },
  {
   "cell_type": "code",
   "execution_count": null,
   "metadata": {
    "collapsed": true
   },
   "outputs": [],
   "source": [
    "df['year']=df['Date'].dt.year"
   ]
  },
  {
   "cell_type": "markdown",
   "metadata": {},
   "source": [
    "# Removing Duplicated Tuples"
   ]
  },
  {
   "cell_type": "code",
   "execution_count": null,
   "metadata": {},
   "outputs": [],
   "source": [
    "# detect duplicate Date codes: True if an item is identical to a previous item\n",
    "df.Date.duplicated().tail()"
   ]
  },
  {
   "cell_type": "code",
   "execution_count": null,
   "metadata": {},
   "outputs": [],
   "source": [
    "# count the duplicate items (True becomes 1, False becomes 0)\n",
    "df.Date.duplicated().sum()"
   ]
  },
  {
   "cell_type": "markdown",
   "metadata": {},
   "source": [
    "The above codes shows that we do not have any duplicated rows in our dataset"
   ]
  },
  {
   "cell_type": "code",
   "execution_count": null,
   "metadata": {},
   "outputs": [],
   "source": [
    "df.head(100)"
   ]
  },
  {
   "cell_type": "markdown",
   "metadata": {},
   "source": [
    "# Filtering Data for year 2015 and 2016"
   ]
  },
  {
   "cell_type": "code",
   "execution_count": null,
   "metadata": {
    "collapsed": true
   },
   "outputs": [],
   "source": [
    "df['year'] = df['year'].astype(int)"
   ]
  },
  {
   "cell_type": "markdown",
   "metadata": {},
   "source": [
    "# Finalizing Bike Data and narrow down for year value"
   ]
  },
  {
   "cell_type": "code",
   "execution_count": null,
   "metadata": {},
   "outputs": [],
   "source": [
    "# convert 'Time' to datetime format\n",
    "bikes['starttime'] = pd.to_datetime(bikes.starttime)"
   ]
  },
  {
   "cell_type": "code",
   "execution_count": null,
   "metadata": {
    "collapsed": true
   },
   "outputs": [],
   "source": [
    "# Breaking date column for further Analysis\n",
    "bikes['year'] = bikes['starttime'].dt.year"
   ]
  },
  {
   "cell_type": "code",
   "execution_count": null,
   "metadata": {},
   "outputs": [],
   "source": [
    "df.info()"
   ]
  },
  {
   "cell_type": "code",
   "execution_count": null,
   "metadata": {},
   "outputs": [],
   "source": [
    "# convert 'Time' to datetime format\n",
    "bikes['Date'] = pd.to_datetime(bikes.Date)\n",
    "bikes.info()"
   ]
  },
  {
   "cell_type": "code",
   "execution_count": null,
   "metadata": {},
   "outputs": [],
   "source": [
    "bikes.Date.tail()"
   ]
  },
  {
   "cell_type": "code",
   "execution_count": null,
   "metadata": {},
   "outputs": [],
   "source": [
    "df.Date.tail()"
   ]
  },
  {
   "cell_type": "code",
   "execution_count": null,
   "metadata": {},
   "outputs": [],
   "source": [
    "# df1 belong to weather dataset\n",
    "df1 = df[(df.year != 2014)]\n",
    "df1.tail()"
   ]
  },
  {
   "cell_type": "code",
   "execution_count": null,
   "metadata": {},
   "outputs": [],
   "source": [
    "# df2 belong to bikes dataset\n",
    "df2 = bikes[(bikes.year != 2014) ]\n",
    "bikes['Date'] = pd.to_datetime(bikes.Date)\n",
    "df2.head(100)"
   ]
  },
  {
   "cell_type": "markdown",
   "metadata": {},
   "source": [
    "# Saving Bike data"
   ]
  },
  {
   "cell_type": "code",
   "execution_count": null,
   "metadata": {
    "collapsed": true
   },
   "outputs": [],
   "source": [
    "df2.to_csv('C:\\\\Users\\\\mrferozi\\\\Desktop\\\\GitHub\\\\Bike\\\\dataset\\\\cycle\\\\trip_clean.csv')"
   ]
  },
  {
   "cell_type": "markdown",
   "metadata": {},
   "source": [
    "# Saving Weather Data"
   ]
  },
  {
   "cell_type": "markdown",
   "metadata": {},
   "source": [
    "Weather data consist on 600 observations where bikes data is consisting over a hundred thousand of tuples which makles it hard to combine both data set for further weather analysis.  To achieve this we will, break both weather and bikes data Date columns and applying programming technique to achieve weather value for each bicycle trip."
   ]
  },
  {
   "cell_type": "code",
   "execution_count": null,
   "metadata": {},
   "outputs": [],
   "source": [
    "df1.isnull().sum()"
   ]
  },
  {
   "cell_type": "code",
   "execution_count": null,
   "metadata": {},
   "outputs": [],
   "source": [
    "df1['Mean_Temperature_C'] = df1['Mean_Temperature_C'].astype(int)\n",
    "df1.dtypes"
   ]
  },
  {
   "cell_type": "code",
   "execution_count": null,
   "metadata": {},
   "outputs": [],
   "source": [
    "df2"
   ]
  },
  {
   "cell_type": "code",
   "execution_count": null,
   "metadata": {
    "collapsed": true
   },
   "outputs": [],
   "source": [
    "df1['Date'] = pd.to_datetime(df1.Date)"
   ]
  },
  {
   "cell_type": "code",
   "execution_count": null,
   "metadata": {
    "collapsed": true
   },
   "outputs": [],
   "source": [
    "df1.to_csv('C:\\\\Users\\\\mrferozi\\\\Desktop\\\\GitHub\\\\Bike\\\\dataset\\\\cycle\\\\weather_clean.csv')"
   ]
  },
  {
   "cell_type": "markdown",
   "metadata": {},
   "source": [
    "## Resources\n",
    "References:*From the video series: [Introduction to machine learning with scikit-learn](https://github.com/justmarkham/scikit-learn-videos)*\n",
    "- scikit-learn documentation: [Cross-validation](http://scikit-learn.org/stable/modules/cross_validation.html), [Model evaluation](http://scikit-learn.org/stable/modules/model_evaluation.html)\n",
    "- scikit-learn issue on GitHub: [MSE is negative when returned by cross_val_score](https://github.com/scikit-learn/scikit-learn/issues/2439)\n",
    "- Section 5.1 of [An Introduction to Statistical Learning](http://www-bcf.usc.edu/~gareth/ISL/) (11 pages) and related videos: [K-fold and leave-one-out cross-validation](https://www.youtube.com/watch?v=nZAM5OXrktY) (14 minutes), [Cross-validation the right and wrong ways](https://www.youtube.com/watch?v=S06JpVoNaA0) (10 minutes)\n",
    "- Scott Fortmann-Roe: [Accurately Measuring Model Prediction Error](http://scott.fortmann-roe.com/docs/MeasuringError.html)\n",
    "- Machine Learning Mastery: [An Introduction to Feature Selection](http://machinelearningmastery.com/an-introduction-to-feature-selection/)\n",
    "- Harvard CS109: [Cross-Validation: The Right and Wrong Way](https://github.com/cs109/content/blob/master/lec_10_cross_val.ipynb)\n",
    "- Journal of Cheminformatics: [Cross-validation pitfalls when selecting and assessing regression and classification models](http://www.jcheminf.com/content/pdf/1758-2946-6-10.pdf)"
   ]
  },
  {
   "cell_type": "code",
   "execution_count": null,
   "metadata": {},
   "outputs": [],
   "source": []
  }
 ],
 "metadata": {
  "anaconda-cloud": {},
  "kernelspec": {
   "display_name": "Python 3",
   "language": "python",
   "name": "python3"
  },
  "language_info": {
   "codemirror_mode": {
    "name": "ipython",
    "version": 3
   },
   "file_extension": ".py",
   "mimetype": "text/x-python",
   "name": "python",
   "nbconvert_exporter": "python",
   "pygments_lexer": "ipython3",
   "version": "3.6.0"
  }
 },
 "nbformat": 4,
 "nbformat_minor": 1
}
