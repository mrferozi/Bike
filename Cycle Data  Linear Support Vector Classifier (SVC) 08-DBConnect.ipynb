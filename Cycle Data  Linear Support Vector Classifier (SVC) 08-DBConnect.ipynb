{
 "cells": [
  {
   "cell_type": "markdown",
   "metadata": {},
   "source": [
    "## Linear Support Vector Classifier (SVC)"
   ]
  },
  {
   "cell_type": "markdown",
   "metadata": {},
   "source": [
    "***Declaration ***: The central idea and coding  is abstract  from Kevin mark ham youtube video seriese, Introduction to machine learning with scikit-learn video series. You can find link under resources section.  "
   ]
  },
  {
   "cell_type": "markdown",
   "metadata": {},
   "source": [
    "What are the **features**?\n",
    "- trip_id: A unique number to identify each trip\n",
    "\n",
    "- From station Number: From station number where the trip Start    \n",
    "    \n",
    "- Day: Day of the trip for example Monday, Tuesday etc.\n",
    "    \n",
    "- Month: Which month trip took place\n",
    "    \n",
    "- Duration: Total trip duration in minutes\n",
    "    \n",
    "- birthyear: Birth year of user\n",
    "    \n",
    "- Sex: Gender identification of user\n",
    "    \n",
    "- age: Current age of user"
   ]
  },
  {
   "cell_type": "markdown",
   "metadata": {},
   "source": [
    "What is the **response**?\n",
    "- Station Number: To Station Number where the trip ends"
   ]
  },
  {
   "cell_type": "markdown",
   "metadata": {},
   "source": [
    "**Question:** Could we predict the End station of a bicycle trip before journey start?"
   ]
  },
  {
   "cell_type": "markdown",
   "metadata": {},
   "source": [
    "# Libraries"
   ]
  },
  {
   "cell_type": "code",
   "execution_count": 260,
   "metadata": {},
   "outputs": [],
   "source": [
    "import os,csv,io,mapsplotlib,time,folium,googlemaps,geopy,zipfile,requests,warnings\n",
    "import numpy as np\n",
    "import pandas as pd\n",
    "import datetime as dt\n",
    "import seaborn as sns\n",
    "import geopandas as gpd\n",
    "from shapely.geometry import Point\n",
    "import statsmodels.formula.api as smf\n",
    "import matplotlib.pyplot as plt\n",
    "import mysql.connector as sql\n",
    "from sklearn.linear_model import LinearRegression\n",
    "model = LinearRegression()\n",
    "from sklearn import metrics\n",
    "from sklearn.cross_validation import train_test_split\n",
    "from sklearn.svm import LinearSVC\n",
    "import numpy as np\n",
    "warnings.simplefilter('ignore')"
   ]
  },
  {
   "cell_type": "code",
   "execution_count": 261,
   "metadata": {},
   "outputs": [],
   "source": [
    "# display plots in the notebook\n",
    "%matplotlib inline"
   ]
  },
  {
   "cell_type": "markdown",
   "metadata": {},
   "source": [
    "It is difficult to obtain better accuracy with all end stations (to_station). With all end station the model predicts 0.067 percent of accuracy, to avoid this this study focus on a circumscribed number of end station. From our following query we are supposing here that ‘it does not matter where the bicycle trip will start. We are more interested in where this trip ends and to reach this goal. We havechoosen five main busiest end stations. Let’s say’s if a journey start from A, B and C station what is the chances it will end on the given end stations."
   ]
  },
  {
   "cell_type": "code",
   "execution_count": 286,
   "metadata": {},
   "outputs": [
    {
     "data": {
      "text/html": [
       "<div>\n",
       "<table border=\"1\" class=\"dataframe\">\n",
       "  <thead>\n",
       "    <tr style=\"text-align: right;\">\n",
       "      <th></th>\n",
       "      <th>trip_id</th>\n",
       "      <th>Duration</th>\n",
       "      <th>from_station_name</th>\n",
       "      <th>from_station_id_num</th>\n",
       "      <th>to_station_id</th>\n",
       "      <th>to_station_name</th>\n",
       "      <th>to_station_id_num</th>\n",
       "      <th>Day</th>\n",
       "      <th>Month</th>\n",
       "      <th>Year</th>\n",
       "      <th>age</th>\n",
       "      <th>Sex</th>\n",
       "      <th>Hours</th>\n",
       "    </tr>\n",
       "  </thead>\n",
       "  <tbody>\n",
       "    <tr>\n",
       "      <th>25845</th>\n",
       "      <td>254994</td>\n",
       "      <td>8.23</td>\n",
       "      <td>Dexter Ave N &amp; Aloha St</td>\n",
       "      <td>34</td>\n",
       "      <td>SLU-15</td>\n",
       "      <td>6th Ave</td>\n",
       "      <td>38</td>\n",
       "      <td>6</td>\n",
       "      <td>8</td>\n",
       "      <td>2016</td>\n",
       "      <td>30</td>\n",
       "      <td>1</td>\n",
       "      <td>8</td>\n",
       "    </tr>\n",
       "    <tr>\n",
       "      <th>25846</th>\n",
       "      <td>254998</td>\n",
       "      <td>9.15</td>\n",
       "      <td>E Thomas St</td>\n",
       "      <td>14</td>\n",
       "      <td>SLU-15</td>\n",
       "      <td>6th Ave</td>\n",
       "      <td>38</td>\n",
       "      <td>6</td>\n",
       "      <td>8</td>\n",
       "      <td>2016</td>\n",
       "      <td>42</td>\n",
       "      <td>1</td>\n",
       "      <td>8</td>\n",
       "    </tr>\n",
       "    <tr>\n",
       "      <th>25847</th>\n",
       "      <td>255058</td>\n",
       "      <td>7.89</td>\n",
       "      <td>E Pine St</td>\n",
       "      <td>16</td>\n",
       "      <td>SLU-15</td>\n",
       "      <td>6th Ave</td>\n",
       "      <td>38</td>\n",
       "      <td>6</td>\n",
       "      <td>8</td>\n",
       "      <td>2016</td>\n",
       "      <td>31</td>\n",
       "      <td>1</td>\n",
       "      <td>11</td>\n",
       "    </tr>\n",
       "    <tr>\n",
       "      <th>25848</th>\n",
       "      <td>255087</td>\n",
       "      <td>8.03</td>\n",
       "      <td>E Pine St</td>\n",
       "      <td>16</td>\n",
       "      <td>SLU-15</td>\n",
       "      <td>6th Ave</td>\n",
       "      <td>38</td>\n",
       "      <td>6</td>\n",
       "      <td>8</td>\n",
       "      <td>2016</td>\n",
       "      <td>46</td>\n",
       "      <td>1</td>\n",
       "      <td>13</td>\n",
       "    </tr>\n",
       "    <tr>\n",
       "      <th>25849</th>\n",
       "      <td>255149</td>\n",
       "      <td>5.97</td>\n",
       "      <td>Elliott Ave</td>\n",
       "      <td>1</td>\n",
       "      <td>SLU-15</td>\n",
       "      <td>6th Ave</td>\n",
       "      <td>38</td>\n",
       "      <td>6</td>\n",
       "      <td>8</td>\n",
       "      <td>2016</td>\n",
       "      <td>49</td>\n",
       "      <td>1</td>\n",
       "      <td>17</td>\n",
       "    </tr>\n",
       "  </tbody>\n",
       "</table>\n",
       "</div>"
      ],
      "text/plain": [
       "       trip_id  Duration        from_station_name  from_station_id_num  \\\n",
       "25845   254994      8.23  Dexter Ave N & Aloha St                   34   \n",
       "25846   254998      9.15              E Thomas St                   14   \n",
       "25847   255058      7.89                E Pine St                   16   \n",
       "25848   255087      8.03                E Pine St                   16   \n",
       "25849   255149      5.97              Elliott Ave                    1   \n",
       "\n",
       "      to_station_id to_station_name  to_station_id_num  Day  Month  Year  age  \\\n",
       "25845        SLU-15         6th Ave                 38    6      8  2016   30   \n",
       "25846        SLU-15         6th Ave                 38    6      8  2016   42   \n",
       "25847        SLU-15         6th Ave                 38    6      8  2016   31   \n",
       "25848        SLU-15         6th Ave                 38    6      8  2016   46   \n",
       "25849        SLU-15         6th Ave                 38    6      8  2016   49   \n",
       "\n",
       "       Sex  Hours  \n",
       "25845    1      8  \n",
       "25846    1      8  \n",
       "25847    1     11  \n",
       "25848    1     13  \n",
       "25849    1     17  "
      ]
     },
     "execution_count": 286,
     "metadata": {},
     "output_type": "execute_result"
    }
   ],
   "source": [
    "#importing data from database\n",
    "db_connection = sql.connect(host='localhost', database='bike', user='root', password='none')\n",
    "db_cursor = db_connection.cursor()\n",
    "db_cursor.execute('SELECT trip_id,tripduration_minutes Duration,from_station_name,from_station_id_num,to_station_id,to_station_name,to_station_id_num,Day_num Day,bmonth Month,year Year,age,Sex_num Sex,sthours Hours FROM bike.trip_clean where to_station_id_num in(7,9,36,37,38) order by to_station_id_num;')\n",
    "table_rows = db_cursor.fetchall()\n",
    "data = pd.read_sql('SELECT trip_id,tripduration_minutes Duration,from_station_name,from_station_id_num,to_station_id,to_station_name,to_station_id_num,Day_num Day,bmonth Month,year Year,age,Sex_num Sex,sthours Hours FROM bike.trip_clean where to_station_id_num in(7,9,36,37,38) order by to_station_id_num;', con=db_connection)\n",
    "df = pd.DataFrame(data)\n",
    "df.tail()"
   ]
  },
  {
   "cell_type": "code",
   "execution_count": 287,
   "metadata": {},
   "outputs": [],
   "source": [
    "# define X and y\n",
    "feature_cols = ['Duration','from_station_id_num','Hours','age','Sex']\n",
    "X = df[feature_cols]\n",
    "y = df.to_station_id_num"
   ]
  },
  {
   "cell_type": "code",
   "execution_count": 288,
   "metadata": {},
   "outputs": [
    {
     "name": "stdout",
     "output_type": "stream",
     "text": [
      "LinearSVC(C=1.0, class_weight=None, dual=True, fit_intercept=True,\n",
      "     intercept_scaling=1, loss='l2', max_iter=1000, multi_class='ovr',\n",
      "     penalty='l2', random_state=None, tol=0.0001, verbose=0)\n"
     ]
    }
   ],
   "source": [
    "clf = LinearSVC(loss = 'l2') # instantiated with L2 loss\n",
    "print (clf)"
   ]
  },
  {
   "cell_type": "code",
   "execution_count": 289,
   "metadata": {},
   "outputs": [],
   "source": [
    "clf = clf.fit(X, y)"
   ]
  },
  {
   "cell_type": "markdown",
   "metadata": {},
   "source": [
    "creating an instance of the classifier.  This can be done simply by calling the class name, with any arguments that the object accepts:"
   ]
  },
  {
   "cell_type": "code",
   "execution_count": 290,
   "metadata": {},
   "outputs": [],
   "source": [
    "clf = LinearSVC(loss = 'l2')"
   ]
  },
  {
   "cell_type": "markdown",
   "metadata": {},
   "source": [
    "``clf`` is a statistical model that has parameters that control the learning algorithm (those parameters are sometimes called the *hyperparameters*). Those hyperparameters can be supplied by the user in the constructor of the model. We will discuss later how to choose a good combination using either simple empirical rules or data driven selection:"
   ]
  },
  {
   "cell_type": "code",
   "execution_count": 291,
   "metadata": {},
   "outputs": [
    {
     "name": "stdout",
     "output_type": "stream",
     "text": [
      "LinearSVC(C=1.0, class_weight=None, dual=True, fit_intercept=True,\n",
      "     intercept_scaling=1, loss='l2', max_iter=1000, multi_class='ovr',\n",
      "     penalty='l2', random_state=None, tol=0.0001, verbose=0)\n"
     ]
    }
   ],
   "source": [
    "print (clf)"
   ]
  },
  {
   "cell_type": "markdown",
   "metadata": {},
   "source": [
    "By default the model parameters are not initialized. They will be tuned automatically from the data by calling the ``fit`` method with the data ``X`` and labels ``y``:"
   ]
  },
  {
   "cell_type": "code",
   "execution_count": 292,
   "metadata": {},
   "outputs": [],
   "source": [
    "clf = clf.fit(X, y)"
   ]
  },
  {
   "cell_type": "markdown",
   "metadata": {},
   "source": [
    "We can now see some of the fit parameters within the classifier object.\n",
    "\n",
    "**In scikit-learn, parameters defined by training have a trailing underscore.**"
   ]
  },
  {
   "cell_type": "code",
   "execution_count": 293,
   "metadata": {},
   "outputs": [
    {
     "data": {
      "text/plain": [
       "array([[ 0.00950903, -0.01109086, -0.03497464,  0.00547468,  0.14144825],\n",
       "       [ 0.02200425, -0.00867309, -0.0049677 , -0.00078617, -0.037603  ],\n",
       "       [ 0.00770462, -0.01191933, -0.03452227, -0.01234906, -0.20865379],\n",
       "       [-0.01293034, -0.0135128 , -0.01560987,  0.01064128,  0.20328287],\n",
       "       [-0.01407   , -0.00418773, -0.00857613,  0.02144292, -0.05450888]])"
      ]
     },
     "execution_count": 293,
     "metadata": {},
     "output_type": "execute_result"
    }
   ],
   "source": [
    "clf.coef_"
   ]
  },
  {
   "cell_type": "code",
   "execution_count": 294,
   "metadata": {},
   "outputs": [
    {
     "data": {
      "text/plain": [
       "array([-0.62125724, -0.68454511,  0.35656843, -0.80650014, -1.15293788])"
      ]
     },
     "execution_count": 294,
     "metadata": {},
     "output_type": "execute_result"
    }
   ],
   "source": [
    "clf.intercept_"
   ]
  },
  {
   "cell_type": "markdown",
   "metadata": {},
   "source": [
    "Once the model is trained, it can be used to predict the most likely outcome on unseen data."
   ]
  },
  {
   "cell_type": "code",
   "execution_count": 297,
   "metadata": {},
   "outputs": [
    {
     "data": {
      "text/plain": [
       "array([37], dtype=int64)"
      ]
     },
     "execution_count": 297,
     "metadata": {},
     "output_type": "execute_result"
    }
   ],
   "source": [
    "#here is the from station number. What end station does this get predicted as?\n",
    "X_new = [[22, 31, 35, 7, 9]] \n",
    "clf.predict(X_new) #end station number 37"
   ]
  },
  {
   "cell_type": "markdown",
   "metadata": {},
   "source": [
    "All classification tasks involve predicting an unknown category based on observed features."
   ]
  },
  {
   "cell_type": "markdown",
   "metadata": {},
   "source": [
    "# Probabilistic Prediction"
   ]
  },
  {
   "cell_type": "code",
   "execution_count": 298,
   "metadata": {},
   "outputs": [
    {
     "name": "stdout",
     "output_type": "stream",
     "text": [
      "[[ 0.26817904  0.11485692  0.0005781   0.56730664  0.0490793 ]]\n"
     ]
    }
   ],
   "source": [
    "from sklearn.linear_model import LogisticRegression\n",
    "clf2 = LogisticRegression()\n",
    "clf2.fit(X, y)\n",
    "print (clf2.predict_proba(X_new))"
   ]
  },
  {
   "cell_type": "code",
   "execution_count": 300,
   "metadata": {},
   "outputs": [
    {
     "data": {
      "text/plain": [
       "array([37], dtype=int64)"
      ]
     },
     "execution_count": 300,
     "metadata": {},
     "output_type": "execute_result"
    }
   ],
   "source": [
    "clf2.predict(X_new) #end station number 37"
   ]
  },
  {
   "cell_type": "markdown",
   "metadata": {},
   "source": [
    "The result gives the probability (between zero and one) that the test point comes from any of the three classes.\n",
    "\n",
    "This means that the model estimates that the sample in X_new has:\n",
    "\n",
    "- 90% likelyhood to belong to the ‘to station’ class (``end station = 37``)\n",
    "- 9% likelyhood to belong to the ‘to station’ class (``end station = 36``)\n",
    "- < 1% likelyhood to belong to the ‘to station’ class (``end station = 38``)"
   ]
  },
  {
   "cell_type": "markdown",
   "metadata": {},
   "source": [
    "# Evaluating the Model"
   ]
  },
  {
   "cell_type": "markdown",
   "metadata": {},
   "source": [
    "Let's get a rough evaluation our model by using\n",
    "it to predict the values of the training data:"
   ]
  },
  {
   "cell_type": "code",
   "execution_count": 301,
   "metadata": {},
   "outputs": [],
   "source": [
    "y_model = clf2.predict(X)"
   ]
  },
  {
   "cell_type": "code",
   "execution_count": 302,
   "metadata": {},
   "outputs": [
    {
     "name": "stdout",
     "output_type": "stream",
     "text": [
      "0        False\n",
      "1        False\n",
      "2        False\n",
      "3        False\n",
      "4        False\n",
      "5        False\n",
      "6        False\n",
      "7        False\n",
      "8         True\n",
      "9        False\n",
      "10       False\n",
      "11       False\n",
      "12       False\n",
      "13       False\n",
      "14       False\n",
      "15        True\n",
      "16       False\n",
      "17        True\n",
      "18       False\n",
      "19       False\n",
      "20       False\n",
      "21       False\n",
      "22       False\n",
      "23       False\n",
      "24       False\n",
      "25       False\n",
      "26       False\n",
      "27       False\n",
      "28       False\n",
      "29       False\n",
      "         ...  \n",
      "25820    False\n",
      "25821    False\n",
      "25822    False\n",
      "25823    False\n",
      "25824    False\n",
      "25825    False\n",
      "25826    False\n",
      "25827    False\n",
      "25828    False\n",
      "25829    False\n",
      "25830    False\n",
      "25831    False\n",
      "25832    False\n",
      "25833    False\n",
      "25834    False\n",
      "25835    False\n",
      "25836    False\n",
      "25837    False\n",
      "25838    False\n",
      "25839    False\n",
      "25840     True\n",
      "25841     True\n",
      "25842    False\n",
      "25843    False\n",
      "25844    False\n",
      "25845    False\n",
      "25846    False\n",
      "25847    False\n",
      "25848     True\n",
      "25849    False\n",
      "Name: to_station_id_num, dtype: bool\n"
     ]
    }
   ],
   "source": [
    "print (y_model == y)"
   ]
  },
  {
   "cell_type": "markdown",
   "metadata": {},
   "source": [
    "We see that most of the predictions are incorrect!"
   ]
  },
  {
   "cell_type": "markdown",
   "metadata": {},
   "source": [
    "# Measuring Classification Performance: Validation & Testing"
   ]
  },
  {
   "cell_type": "markdown",
   "metadata": {},
   "source": [
    "### Cross-Validation"
   ]
  },
  {
   "cell_type": "markdown",
   "metadata": {},
   "source": [
    "Learning the parameters of a prediction function and testing it on the\n",
    "same data is a methodological mistake: a model that would just repeat\n",
    "the labels of the samples that it has just seen would have a perfect\n",
    "score but would fail to predict anything useful on yet-unseen data.\n",
    "\n",
    "To avoid over-fitting, we have to define two different sets:\n",
    "\n",
    "- a training set X_train, y_train which is used for learning the parameters of a predictive model\n",
    "- a testing set X_test, y_test which is used for evaluating the fitted predictive model\n",
    "\n",
    "In scikit-learn such a random split can be quickly computed with the\n",
    "`train_test_split` helper function.  It can be used this way:"
   ]
  },
  {
   "cell_type": "code",
   "execution_count": 306,
   "metadata": {},
   "outputs": [
    {
     "name": "stdout",
     "output_type": "stream",
     "text": [
      "(25850, 5) (19387, 5) (6463, 5)\n"
     ]
    }
   ],
   "source": [
    "from sklearn import cross_validation\n",
    "X_train, X_test, y_train, y_test = cross_validation.train_test_split(X, y, test_size=0.25, random_state=0) # 25% of test data\n",
    "\n",
    "print (X.shape, X_train.shape, X_test.shape) #  Training data => (6463, 5)"
   ]
  },
  {
   "cell_type": "markdown",
   "metadata": {},
   "source": [
    "Now we train on the training data, and test on the testing data:"
   ]
  },
  {
   "cell_type": "code",
   "execution_count": 307,
   "metadata": {},
   "outputs": [
    {
     "name": "stdout",
     "output_type": "stream",
     "text": [
      "15014    False\n",
      "15095     True\n",
      "8653      True\n",
      "15333    False\n",
      "22750    False\n",
      "10281    False\n",
      "10227    False\n",
      "3861     False\n",
      "19032    False\n",
      "6662     False\n",
      "10139     True\n",
      "1799      True\n",
      "21841    False\n",
      "4043     False\n",
      "4725      True\n",
      "24434    False\n",
      "21407    False\n",
      "21838    False\n",
      "13339    False\n",
      "20510    False\n",
      "4285     False\n",
      "12461    False\n",
      "19098    False\n",
      "5619     False\n",
      "379      False\n",
      "21396    False\n",
      "5192     False\n",
      "3822     False\n",
      "15548    False\n",
      "25161    False\n",
      "         ...  \n",
      "25166    False\n",
      "5274      True\n",
      "20725    False\n",
      "11758    False\n",
      "25186    False\n",
      "14466    False\n",
      "24563    False\n",
      "13321    False\n",
      "20033    False\n",
      "20672    False\n",
      "1143      True\n",
      "23027    False\n",
      "6331      True\n",
      "25178    False\n",
      "16581    False\n",
      "19207    False\n",
      "15234    False\n",
      "13045    False\n",
      "6644      True\n",
      "16760    False\n",
      "23173    False\n",
      "7597      True\n",
      "16136     True\n",
      "17487    False\n",
      "878       True\n",
      "467      False\n",
      "7016     False\n",
      "5536     False\n",
      "15761    False\n",
      "5583     False\n",
      "Name: to_station_id_num, dtype: bool\n"
     ]
    }
   ],
   "source": [
    "clf = LinearSVC(loss='l2').fit(X_train, y_train)\n",
    "y_pred = clf.predict(X_test)\n",
    "print (y_pred == y_test)"
   ]
  },
  {
   "cell_type": "markdown",
   "metadata": {},
   "source": [
    "There is an issue here, however:\n",
    "by defining these two sets, we drastically reduce the number\n",
    "of samples which can be used for learning the model, and the results\n",
    "can depend on a particular random choice for the pair of (train, test) sets.\n",
    "\n",
    "A solution is to split the whole data several consecutive times in different\n",
    "train set and test set, and to return the averaged value of the prediction\n",
    "scores obtained with the different sets. Such a procedure is called **cross-validation**.\n",
    "This approach can be computationally expensive, but does not waste too much data\n",
    "(as it is the case when fixing an arbitrary test set), which is a major advantage\n",
    "in problem such as inverse inference where the number of samples is very small.\n",
    "\n",
    "We'll explore cross-validation , but\n",
    "for more information on cross-validation in scikit-learn here:\n",
    "http://scikit-learn.org/dev/modules/cross_validation.html\n"
   ]
  },
  {
   "cell_type": "markdown",
   "metadata": {},
   "source": [
    "# Cross-validation for parameter tuning, model selection, and feature selection"
   ]
  },
  {
   "cell_type": "code",
   "execution_count": 308,
   "metadata": {},
   "outputs": [
    {
     "name": "stdout",
     "output_type": "stream",
     "text": [
      "72.1646294291\n"
     ]
    }
   ],
   "source": [
    "from sklearn.cross_validation import train_test_split\n",
    "from sklearn.neighbors import KNeighborsClassifier\n",
    "from sklearn import metrics\n",
    "# use train/test split with different random_state values\n",
    "X_train, X_test, y_train, y_test = train_test_split(X, y, random_state=4)\n",
    "\n",
    "# check classification accuracy of KNN with K=5\n",
    "knn = KNeighborsClassifier(n_neighbors=5)\n",
    "knn.fit(X_train, y_train)\n",
    "y_pred = knn.predict(X_test)\n",
    "print ((metrics.accuracy_score(y_test, y_pred))*100)"
   ]
  },
  {
   "cell_type": "markdown",
   "metadata": {},
   "source": [
    "we created a bunch of train/test splits, calculated the testing accuracy for each, and averaged the results together and That's the essense of **cross-validation!**"
   ]
  },
  {
   "cell_type": "markdown",
   "metadata": {},
   "source": [
    "## Method Of K-cross Validation\n",
    "\n",
    "1. Split the dataset into K **equal** partitions (or \"folds\").\n",
    "2. Use fold 1 as the **testing set** and the union of the other folds as the **training set**.\n",
    "3. Calculate **testing accuracy**.\n",
    "4. Repeat steps 2 and 3 K times, using a **different fold** as the testing set each time.\n",
    "5. Use the **average testing accuracy** as the estimate of out-of-sample accuracy."
   ]
  },
  {
   "cell_type": "markdown",
   "metadata": {},
   "source": [
    "### Parameter tuning"
   ]
  },
  {
   "cell_type": "markdown",
   "metadata": {},
   "source": [
    "**Goal:** Select the best tuning parameters (aka \"hyperparameters\") for KNN"
   ]
  },
  {
   "cell_type": "code",
   "execution_count": 315,
   "metadata": {},
   "outputs": [],
   "source": [
    "from sklearn.cross_validation import cross_val_score"
   ]
  },
  {
   "cell_type": "code",
   "execution_count": 316,
   "metadata": {},
   "outputs": [
    {
     "name": "stdout",
     "output_type": "stream",
     "text": [
      "[ 0.76352396  0.76334107  0.76836814  0.65390565  0.68201161  0.70085139\n",
      "  0.68846749  0.70123839  0.68537152  0.59349593]\n"
     ]
    }
   ],
   "source": [
    "# 10-fold cross-validation with K=5 for KNN (the n_neighbors parameter)\n",
    "knn = KNeighborsClassifier(n_neighbors=5)\n",
    "scores = cross_val_score(knn, X, y, cv=10, scoring='accuracy')\n",
    "print (scores)"
   ]
  },
  {
   "cell_type": "code",
   "execution_count": 317,
   "metadata": {},
   "outputs": [
    {
     "name": "stdout",
     "output_type": "stream",
     "text": [
      "70.0057513886\n"
     ]
    }
   ],
   "source": [
    "# use average accuracy as an estimate of out-of-sample accuracy\n",
    "print ((scores.mean())*100)"
   ]
  },
  {
   "cell_type": "code",
   "execution_count": 318,
   "metadata": {},
   "outputs": [
    {
     "name": "stdout",
     "output_type": "stream",
     "text": [
      "[0.77018611022881145, 0.71980910690268751, 0.70778630842517321, 0.70191100103433901, 0.70005751388561444, 0.69456571797540645, 0.68775720442010313, 0.68625010043589507, 0.68338717619918021, 0.67882406712522447, 0.67503423561828779, 0.67031535609937565, 0.66540247068146352, 0.66145728601652398, 0.65801557129775445, 0.65600341199435996, 0.65279269844244692, 0.65112880600595235, 0.65074210827620882, 0.64799576192400632, 0.6468742639994598, 0.64521028196917174, 0.64385661520741366, 0.641302869332942, 0.63863440041152075, 0.63697047844981969, 0.6358491001533868, 0.63352840515897724, 0.63105301602567088, 0.62938949864783933]\n"
     ]
    }
   ],
   "source": [
    "# search for an optimal value of K for KNN\n",
    "k_range = range(1, 31)\n",
    "k_scores = []\n",
    "for k in k_range:\n",
    "    knn = KNeighborsClassifier(n_neighbors=k)\n",
    "    scores = cross_val_score(knn, X, y, cv=10, scoring='accuracy')\n",
    "    k_scores.append(scores.mean())\n",
    "print (k_scores)"
   ]
  },
  {
   "cell_type": "code",
   "execution_count": 319,
   "metadata": {},
   "outputs": [
    {
     "data": {
      "text/plain": [
       "<matplotlib.text.Text at 0x1bcf1abe4e0>"
      ]
     },
     "execution_count": 319,
     "metadata": {},
     "output_type": "execute_result"
    },
    {
     "data": {
      "image/png": "[encoded data removed]",
      "text/plain": [
       "<matplotlib.figure.Figure at 0x1bcf0da5080>"
      ]
     },
     "metadata": {},
     "output_type": "display_data"
    }
   ],
   "source": [
    "import matplotlib.pyplot as plt\n",
    "%matplotlib inline\n",
    "\n",
    "# plot the value of K for KNN (x-axis) versus the cross-validated accuracy (y-axis)\n",
    "plt.plot(k_range, k_scores)\n",
    "plt.xlabel('Value of K for KNN')\n",
    "plt.ylabel('Cross-Validated Accuracy')"
   ]
  },
  {
   "cell_type": "markdown",
   "metadata": {},
   "source": [
    "The following graphs display the lower value of k is better for our model accuracy and with K=1 we will get max of 76 percent of accuracy which is ok."
   ]
  },
  {
   "cell_type": "markdown",
   "metadata": {},
   "source": [
    "-----------------------------------------"
   ]
  },
  {
   "cell_type": "markdown",
   "metadata": {},
   "source": [
    "### Model selection"
   ]
  },
  {
   "cell_type": "markdown",
   "metadata": {},
   "source": [
    "**Goal:** Compare the best KNN model with logistic regression"
   ]
  },
  {
   "cell_type": "code",
   "execution_count": 322,
   "metadata": {},
   "outputs": [
    {
     "name": "stdout",
     "output_type": "stream",
     "text": [
      "71.9809106903\n"
     ]
    }
   ],
   "source": [
    "# 10-fold cross-validation with the best KNN model\n",
    "knn = KNeighborsClassifier(n_neighbors=2)\n",
    "print ((cross_val_score(knn, X, y, cv=10, scoring='accuracy').mean())*100)"
   ]
  },
  {
   "cell_type": "code",
   "execution_count": 323,
   "metadata": {},
   "outputs": [
    {
     "name": "stdout",
     "output_type": "stream",
     "text": [
      "26.9206953717\n"
     ]
    }
   ],
   "source": [
    "# 10-fold cross-validation with logistic regression\n",
    "from sklearn.linear_model import LogisticRegression\n",
    "logreg = LogisticRegression()\n",
    "print ((cross_val_score(logreg, X, y, cv=10, scoring='accuracy').mean())*100)"
   ]
  },
  {
   "cell_type": "markdown",
   "metadata": {},
   "source": [
    "From the above result we are selecting KNN Neighbours with K=1 which is produce a better mean accuracy which is 72 percent aproximately. As compare to logistic regression. The logistic regression offer mean accuracy of 26.92 which is approximately 27 percent that is very low. So, because of that result, this study will use KNN Neighbours with k=1 for our predictions."
   ]
  },
  {
   "cell_type": "markdown",
   "metadata": {},
   "source": [
    "----------------------------------------"
   ]
  },
  {
   "cell_type": "markdown",
   "metadata": {},
   "source": [
    "## Improvements to cross-validation"
   ]
  },
  {
   "cell_type": "markdown",
   "metadata": {},
   "source": [
    "**Repeated cross-validation**\n",
    "\n",
    "- Repeat cross-validation multiple times (with **different random splits** of the data) and average the results\n",
    "- More reliable estimate of out-of-sample performance by **reducing the variance** associated with a single trial of cross-validation\n",
    "\n",
    "**Creating a hold-out set**\n",
    "\n",
    "- \"Hold out\" a portion of the data **before** beginning the model building process\n",
    "- Locate the best model using cross-validation on the remaining data, and test it **using the hold-out set**\n",
    "- More reliable estimate of out-of-sample performance since hold-out set is **truly out-of-sample**\n",
    "\n",
    "**Feature engineering and selection within cross-validation iterations**\n",
    "\n",
    "- Normally, feature engineering and selection occurs **before** cross-validation\n",
    "- Instead, perform all feature engineering and selection **within each cross-validation iteration**\n",
    "- More reliable estimate of out-of-sample performance since it **better mimics** the application of the model to out-of-sample data"
   ]
  },
  {
   "cell_type": "markdown",
   "metadata": {},
   "source": [
    "----------------------------------------"
   ]
  },
  {
   "cell_type": "markdown",
   "metadata": {},
   "source": [
    "## Resources\n",
    "References:*From the video series: [Introduction to machine learning with scikit-learn](https://github.com/justmarkham/scikit-learn-videos)*\n",
    "- scikit-learn documentation: [Cross-validation](http://scikit-learn.org/stable/modules/cross_validation.html), [Model evaluation](http://scikit-learn.org/stable/modules/model_evaluation.html)\n",
    "- scikit-learn issue on GitHub: [MSE is negative when returned by cross_val_score](https://github.com/scikit-learn/scikit-learn/issues/2439)\n",
    "- Section 5.1 of [An Introduction to Statistical Learning](http://www-bcf.usc.edu/~gareth/ISL/) (11 pages) and related videos: [K-fold and leave-one-out cross-validation](https://www.youtube.com/watch?v=nZAM5OXrktY) (14 minutes), [Cross-validation the right and wrong ways](https://www.youtube.com/watch?v=S06JpVoNaA0) (10 minutes)\n",
    "- Scott Fortmann-Roe: [Accurately Measuring Model Prediction Error](http://scott.fortmann-roe.com/docs/MeasuringError.html)\n",
    "- Machine Learning Mastery: [An Introduction to Feature Selection](http://machinelearningmastery.com/an-introduction-to-feature-selection/)\n",
    "- Harvard CS109: [Cross-Validation: The Right and Wrong Way](https://github.com/cs109/content/blob/master/lec_10_cross_val.ipynb)\n",
    "- Journal of Cheminformatics: [Cross-validation pitfalls when selecting and assessing regression and classification models](http://www.jcheminf.com/content/pdf/1758-2946-6-10.pdf)"
   ]
  },
  {
   "cell_type": "markdown",
   "metadata": {},
   "source": [
    "----------------------------------------"
   ]
  }
 ],
 "metadata": {
  "kernelspec": {
   "display_name": "Python 3",
   "language": "python",
   "name": "python3"
  },
  "language_info": {
   "codemirror_mode": {
    "name": "ipython",
    "version": 3
   },
   "file_extension": ".py",
   "mimetype": "text/x-python",
   "name": "python",
   "nbconvert_exporter": "python",
   "pygments_lexer": "ipython3",
   "version": "3.6.0"
  }
 },
 "nbformat": 4,
 "nbformat_minor": 2
}
