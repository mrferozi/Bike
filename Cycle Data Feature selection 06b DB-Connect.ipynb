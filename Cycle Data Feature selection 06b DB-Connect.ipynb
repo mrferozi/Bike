{
 "cells": [
  {
   "cell_type": "markdown",
   "metadata": {},
   "source": [
    "# Cycle Data Feature selection"
   ]
  },
  {
   "cell_type": "markdown",
   "metadata": {},
   "source": [
    "***Declaration ***: The central idea and coding  is abstract  from Kevin mark ham youtube video seriese, Introduction to machine learning with scikit-learn video series. You can find link under resources section. "
   ]
  },
  {
   "cell_type": "markdown",
   "metadata": {},
   "source": [
    "What are the **features**?\n",
    "- trip_id: A unique number to identify each trip\n",
    "\n",
    "- From station Number: From station number where the trip Start    \n",
    "    \n",
    "- Day: Day of the trip for example Monday, Tuesday etc.\n",
    "    \n",
    "- Month: Which month trip took place\n",
    "    \n",
    "- Duration: Total trip duration in minutes\n",
    "    \n",
    "- birthyear: Birth year of user\n",
    "    \n",
    "- Sex: Gender identification of user\n",
    "    \n",
    "- age: Current age of user"
   ]
  },
  {
   "cell_type": "markdown",
   "metadata": {},
   "source": [
    "What is the **response**?\n",
    "- Station Number: To Station Number where the trip ends"
   ]
  },
  {
   "cell_type": "markdown",
   "metadata": {},
   "source": [
    "The basic purpose of this exercise is by using linear regression and the value of RMSE to decided feature selection. The lower RMSE is better, If elimination of single column will produce in high RMSE we will keep that column and simultaneously, if the elimination of a column does not effect on RMSE or very slight increase we will get rid of that column. "
   ]
  },
  {
   "cell_type": "markdown",
   "metadata": {},
   "source": [
    "# Libraries used"
   ]
  },
  {
   "cell_type": "code",
   "execution_count": 3,
   "metadata": {},
   "outputs": [],
   "source": [
    "import os,csv,io,mapsplotlib,time,folium,googlemaps,geopy,zipfile,requests,warnings\n",
    "import numpy as np\n",
    "import pandas as pd\n",
    "import datetime as dt\n",
    "import seaborn as sns\n",
    "import geopandas as gpd\n",
    "from shapely.geometry import Point\n",
    "import statsmodels.formula.api as smf\n",
    "import matplotlib.pyplot as plt\n",
    "import mysql.connector as sql\n",
    "from sklearn.linear_model import LinearRegression\n",
    "model = LinearRegression()\n",
    "from sklearn import metrics\n",
    "from sklearn.cross_validation import train_test_split\n",
    "import numpy as np\n",
    "warnings.simplefilter('ignore')\n",
    "# display plots in the notebook\n",
    "%matplotlib inline"
   ]
  },
  {
   "cell_type": "markdown",
   "metadata": {},
   "source": [
    "# Data Import"
   ]
  },
  {
   "cell_type": "code",
   "execution_count": 4,
   "metadata": {},
   "outputs": [
    {
     "data": {
      "text/html": [
       "<div>\n",
       "<table border=\"1\" class=\"dataframe\">\n",
       "  <thead>\n",
       "    <tr style=\"text-align: right;\">\n",
       "      <th></th>\n",
       "      <th>trip_id</th>\n",
       "      <th>Station_Number</th>\n",
       "      <th>sthours</th>\n",
       "      <th>stphours</th>\n",
       "      <th>Day</th>\n",
       "      <th>Month</th>\n",
       "      <th>Trip_year</th>\n",
       "      <th>Duration</th>\n",
       "      <th>birthyear</th>\n",
       "      <th>Sex</th>\n",
       "      <th>age</th>\n",
       "    </tr>\n",
       "  </thead>\n",
       "  <tbody>\n",
       "    <tr>\n",
       "      <th>0</th>\n",
       "      <td>250220</td>\n",
       "      <td>0</td>\n",
       "      <td>18</td>\n",
       "      <td>18</td>\n",
       "      <td>0</td>\n",
       "      <td>8</td>\n",
       "      <td>2016</td>\n",
       "      <td>11.90</td>\n",
       "      <td>1981</td>\n",
       "      <td>1</td>\n",
       "      <td>37</td>\n",
       "    </tr>\n",
       "    <tr>\n",
       "      <th>1</th>\n",
       "      <td>250221</td>\n",
       "      <td>0</td>\n",
       "      <td>18</td>\n",
       "      <td>18</td>\n",
       "      <td>0</td>\n",
       "      <td>8</td>\n",
       "      <td>2016</td>\n",
       "      <td>9.15</td>\n",
       "      <td>1984</td>\n",
       "      <td>1</td>\n",
       "      <td>34</td>\n",
       "    </tr>\n",
       "    <tr>\n",
       "      <th>2</th>\n",
       "      <td>251032</td>\n",
       "      <td>0</td>\n",
       "      <td>18</td>\n",
       "      <td>19</td>\n",
       "      <td>3</td>\n",
       "      <td>8</td>\n",
       "      <td>2016</td>\n",
       "      <td>19.37</td>\n",
       "      <td>1986</td>\n",
       "      <td>1</td>\n",
       "      <td>32</td>\n",
       "    </tr>\n",
       "    <tr>\n",
       "      <th>3</th>\n",
       "      <td>251408</td>\n",
       "      <td>0</td>\n",
       "      <td>17</td>\n",
       "      <td>17</td>\n",
       "      <td>1</td>\n",
       "      <td>8</td>\n",
       "      <td>2016</td>\n",
       "      <td>8.04</td>\n",
       "      <td>1982</td>\n",
       "      <td>1</td>\n",
       "      <td>36</td>\n",
       "    </tr>\n",
       "    <tr>\n",
       "      <th>4</th>\n",
       "      <td>251472</td>\n",
       "      <td>0</td>\n",
       "      <td>19</td>\n",
       "      <td>19</td>\n",
       "      <td>1</td>\n",
       "      <td>8</td>\n",
       "      <td>2016</td>\n",
       "      <td>7.86</td>\n",
       "      <td>1988</td>\n",
       "      <td>1</td>\n",
       "      <td>30</td>\n",
       "    </tr>\n",
       "  </tbody>\n",
       "</table>\n",
       "</div>"
      ],
      "text/plain": [
       "   trip_id  Station_Number  sthours  stphours  Day  Month  Trip_year  \\\n",
       "0   250220               0       18        18    0      8       2016   \n",
       "1   250221               0       18        18    0      8       2016   \n",
       "2   251032               0       18        19    3      8       2016   \n",
       "3   251408               0       17        17    1      8       2016   \n",
       "4   251472               0       19        19    1      8       2016   \n",
       "\n",
       "   Duration  birthyear  Sex  age  \n",
       "0     11.90       1981    1   37  \n",
       "1      9.15       1984    1   34  \n",
       "2     19.37       1986    1   32  \n",
       "3      8.04       1982    1   36  \n",
       "4      7.86       1988    1   30  "
      ]
     },
     "execution_count": 4,
     "metadata": {},
     "output_type": "execute_result"
    }
   ],
   "source": [
    "#importing data from database\n",
    "db_connection = sql.connect(host='localhost', database='bike', user='root', password='none')\n",
    "db_cursor = db_connection.cursor()\n",
    "db_cursor.execute('select trip_id,to_station_id_num Station_Number,sthours,stphours,Day_num Day,bmonth Month,Year Trip_year,tripduration_minutes Duration,birthyear,Sex_num Sex,age from  trip_clean order by to_station_id_num;;')\n",
    "table_rows = db_cursor.fetchall()\n",
    "data = pd.read_sql('select trip_id,to_station_id_num Station_Number,sthours,stphours,Day_num Day,bmonth Month,Year Trip_year,tripduration_minutes Duration,birthyear,Sex_num Sex,age from  trip_clean order by to_station_id_num;;', con=db_connection)\n",
    "df = pd.DataFrame(data)\n",
    "df.head()"
   ]
  },
  {
   "cell_type": "code",
   "execution_count": 5,
   "metadata": {},
   "outputs": [
    {
     "name": "stdout",
     "output_type": "stream",
     "text": [
      "LinearRegression(copy_X=True, fit_intercept=True, n_jobs=1, normalize=False)\n"
     ]
    }
   ],
   "source": [
    "print (model)"
   ]
  },
  {
   "cell_type": "code",
   "execution_count": 6,
   "metadata": {},
   "outputs": [
    {
     "data": {
      "text/plain": [
       "(118931, 11)"
      ]
     },
     "execution_count": 6,
     "metadata": {},
     "output_type": "execute_result"
    }
   ],
   "source": [
    "# print the shape of the DataFrame\n",
    "df.shape"
   ]
  },
  {
   "cell_type": "markdown",
   "metadata": {},
   "source": [
    "There are 1,18,931 observations, and thus 1,18,931 Bicycle Trips in the dataset."
   ]
  },
  {
   "cell_type": "markdown",
   "metadata": {},
   "source": [
    "## Feature selection\n",
    "\n",
    "We're going to use **train/test split** (and eventually **cross-validation**).\n",
    "\n",
    "Why not use of **p-values** or **R-squared** for feature selection?\n",
    "\n",
    "- Linear models rely upon **a lot of assumptions** (such as the features being independent), and if those assumptions are violated, p-values and R-squared are less reliable. Train/test split relies on fewer assumptions.\n",
    "- Features that are unrelated to the response can still have **significant p-values**.\n",
    "- Adding features to your model that are unrelated to the response will always **increase the R-squared value**, and adjusted R-squared does not sufficiently account for this.\n",
    "- p-values and R-squared are **proxies** for our goal of generalization, whereas train/test split and cross-validation attempt to **directly estimate** how well the model will generalize to out-of-sample data.\n",
    "\n",
    "More generally:\n",
    "\n",
    "- There are different methodologies that can be used for solving any given data science problem, and this study follows a **machine learning methodology**.\n",
    "- This study focuses on **general purpose approaches** that can be applied to any model, rather than model-specific approaches."
   ]
  },
  {
   "cell_type": "markdown",
   "metadata": {},
   "source": [
    "## Evaluation metrics for regression problems\n",
    "\n",
    "Evaluation metrics for classification problems, such as **accuracy**, are not useful for regression problems. We need evaluation metrics designed for comparing **continuous values**.\n",
    "\n",
    "Here are three common evaluation metrics for regression problems:\n",
    "\n",
    "**Mean Absolute Error** (MAE) is the mean of the absolute value of the errors:\n",
    "\n",
    "$$\\frac 1n\\sum_{i=1}^n|y_i-\\hat{y}_i|$$\n",
    "\n",
    "**Mean Squared Error** (MSE) is the mean of the squared errors:\n",
    "\n",
    "$$\\frac 1n\\sum_{i=1}^n(y_i-\\hat{y}_i)^2$$\n",
    "\n",
    "**Root Mean Squared Error** (RMSE) is the square root of the mean of the squared errors:\n",
    "\n",
    "$$\\sqrt{\\frac 1n\\sum_{i=1}^n(y_i-\\hat{y}_i)^2}$$"
   ]
  },
  {
   "cell_type": "code",
   "execution_count": 7,
   "metadata": {},
   "outputs": [],
   "source": [
    "# create a list of features\n",
    "feature_cols = ['trip_id','sthours','stphours','Day','Month','Trip_year','Duration','birthyear','Sex','age']"
   ]
  },
  {
   "cell_type": "code",
   "execution_count": 8,
   "metadata": {},
   "outputs": [
    {
     "name": "stdout",
     "output_type": "stream",
     "text": [
      "-15683.3422751\n",
      "[ -4.93324802e-05  -1.75253517e-01   1.23605681e-01   1.95458729e-02\n",
      "   7.68145256e-01   7.75352316e+00   5.08998408e-02   4.34878715e-02\n",
      "   9.42687746e-01  -4.34878715e-02]\n"
     ]
    }
   ],
   "source": [
    "from sklearn.linear_model import LinearRegression\n",
    "# create X and y\n",
    "X = df[feature_cols]\n",
    "y = df.Station_Number\n",
    "\n",
    "# instantiate and fit\n",
    "linreg = LinearRegression()\n",
    "linreg.fit(X, y)\n",
    "\n",
    "# print the coefficients\n",
    "print (linreg.intercept_)\n",
    "print (linreg.coef_)"
   ]
  },
  {
   "cell_type": "code",
   "execution_count": 9,
   "metadata": {},
   "outputs": [],
   "source": [
    "# example true and predicted response values\n",
    "true = [1, 7, 7, 5]\n",
    "pred = [9, 4, 5, 1]"
   ]
  },
  {
   "cell_type": "code",
   "execution_count": 10,
   "metadata": {},
   "outputs": [
    {
     "name": "stdout",
     "output_type": "stream",
     "text": [
      "MAE: 4.25\n",
      "MSE: 23.25\n",
      "RMSE: 4.8218253805\n"
     ]
    }
   ],
   "source": [
    "# calculate these metrics by hand!\n",
    "from sklearn import metrics\n",
    "import numpy as np\n",
    "print ('MAE:', metrics.mean_absolute_error(true, pred))\n",
    "print ('MSE:', metrics.mean_squared_error(true, pred))\n",
    "print ('RMSE:', np.sqrt(metrics.mean_squared_error(true, pred)))"
   ]
  },
  {
   "cell_type": "markdown",
   "metadata": {},
   "source": [
    "Comparing these metrics:\n",
    "\n",
    "- **MAE** is the easiest to understand, because it's the average error.\n",
    "- **MSE** is more popular than MAE, because MSE \"punishes\" larger errors, which tends to be useful in the real world.\n",
    "- **RMSE** is even more popular than MSE, because RMSE is interpretable in the \"y\" units.\n",
    "\n",
    "All of these are **loss functions**, because we want to minimize them.\n",
    "\n",
    "Here's an additional example, to demonstrate how MSE/RMSE punish larger errors:"
   ]
  },
  {
   "cell_type": "code",
   "execution_count": 11,
   "metadata": {},
   "outputs": [
    {
     "name": "stdout",
     "output_type": "stream",
     "text": [
      "MAE: 3.75\n",
      "MSE: 20.25\n",
      "RMSE: 4.5\n"
     ]
    }
   ],
   "source": [
    "# same true values as above\n",
    "true = [1, 7, 7, 5]\n",
    "\n",
    "# new set of predicted values\n",
    "pred = [4, 9, 5, 13]\n",
    "\n",
    "# MAE is the same as before\n",
    "print ('MAE:', metrics.mean_absolute_error(true, pred))\n",
    "\n",
    "# MSE and RMSE are larger than before\n",
    "print ('MSE:', metrics.mean_squared_error(true, pred))\n",
    "print ('RMSE:', np.sqrt(metrics.mean_squared_error(true, pred)))"
   ]
  },
  {
   "cell_type": "markdown",
   "metadata": {},
   "source": [
    "## Comparing models with train/test split and RMSE"
   ]
  },
  {
   "cell_type": "code",
   "execution_count": 12,
   "metadata": {},
   "outputs": [],
   "source": [
    "from sklearn.cross_validation import train_test_split\n",
    "\n",
    "# define a function that accepts a list of features and returns testing RMSE\n",
    "def train_test_rmse(feature_cols):\n",
    "    X = df[feature_cols]\n",
    "    y = df.Station_Number\n",
    "    X_train, X_test, y_train, y_test = train_test_split(X, y, random_state=123)\n",
    "    linreg = LinearRegression()\n",
    "    linreg.fit(X_train, y_train)\n",
    "    y_pred = linreg.predict(X_test)\n",
    "    return np.sqrt(metrics.mean_squared_error(y_test, y_pred))"
   ]
  },
  {
   "cell_type": "code",
   "execution_count": 13,
   "metadata": {},
   "outputs": [
    {
     "name": "stdout",
     "output_type": "stream",
     "text": [
      "16.2297820193\n",
      "16.2297820193\n",
      "16.2530495511\n",
      "16.2703148872\n",
      "16.2802509935\n",
      "16.2805520282\n",
      "16.2804742826\n",
      "16.2812235793\n",
      "16.2823565359\n"
     ]
    }
   ],
   "source": [
    "# compare different sets of features\n",
    "print (train_test_rmse(['trip_id','sthours','stphours','Day','Month','Trip_year','Duration','birthyear','Sex','age']))\n",
    "print (train_test_rmse(['trip_id','sthours','stphours','Day','Month','Trip_year','Duration','birthyear','Sex',]))\n",
    "print (train_test_rmse(['trip_id','sthours','stphours','Day','Month','Trip_year','Duration']))\n",
    "print (train_test_rmse(['trip_id','sthours','stphours','Day','Month','Trip_year']))\n",
    "print (train_test_rmse(['trip_id','sthours','stphours','Day','Month']))\n",
    "print (train_test_rmse(['trip_id','sthours','stphours','Day']))\n",
    "print (train_test_rmse(['trip_id','sthours','stphours']))\n",
    "print (train_test_rmse(['trip_id','sthours']))\n",
    "print (train_test_rmse(['trip_id']))"
   ]
  },
  {
   "cell_type": "markdown",
   "metadata": {},
   "source": [
    "By elimination  each columns RMSE keep increasing. Where we want to decrease RMSE value."
   ]
  },
  {
   "cell_type": "markdown",
   "metadata": {},
   "source": [
    "# Column Selection "
   ]
  },
  {
   "cell_type": "markdown",
   "metadata": {},
   "source": [
    "# sthours and stphours"
   ]
  },
  {
   "cell_type": "code",
   "execution_count": 14,
   "metadata": {},
   "outputs": [
    {
     "name": "stdout",
     "output_type": "stream",
     "text": [
      "16.2297820193\n"
     ]
    }
   ],
   "source": [
    "# compare different sets of features\n",
    "print (train_test_rmse(['trip_id','sthours','stphours','Day','Month','Trip_year','Duration','birthyear','Sex','age']))"
   ]
  },
  {
   "cell_type": "code",
   "execution_count": 15,
   "metadata": {},
   "outputs": [
    {
     "name": "stdout",
     "output_type": "stream",
     "text": [
      "16.229785169\n"
     ]
    }
   ],
   "source": [
    "print (train_test_rmse(['trip_id','sthours','Day','Month','Trip_year','Duration','birthyear','Sex','age']))"
   ]
  },
  {
   "cell_type": "code",
   "execution_count": 16,
   "metadata": {},
   "outputs": [
    {
     "name": "stdout",
     "output_type": "stream",
     "text": [
      "16.229785169\n"
     ]
    }
   ],
   "source": [
    "print (train_test_rmse(['trip_id','sthours','Day','Month','Trip_year','Duration','birthyear','Sex','age']))"
   ]
  },
  {
   "cell_type": "markdown",
   "metadata": {},
   "source": [
    "By elimination stphours  RMSE was decrease that’s mean stphours column has no significance our model."
   ]
  },
  {
   "cell_type": "markdown",
   "metadata": {},
   "source": [
    "# Trip year and Birth year"
   ]
  },
  {
   "cell_type": "code",
   "execution_count": 17,
   "metadata": {},
   "outputs": [
    {
     "name": "stdout",
     "output_type": "stream",
     "text": [
      "16.229785169\n"
     ]
    }
   ],
   "source": [
    "print (train_test_rmse(['trip_id','sthours','Day','Month','Trip_year','Duration','birthyear','Sex','age']))"
   ]
  },
  {
   "cell_type": "code",
   "execution_count": 18,
   "metadata": {},
   "outputs": [
    {
     "name": "stdout",
     "output_type": "stream",
     "text": [
      "16.2391988286\n"
     ]
    }
   ],
   "source": [
    "print (train_test_rmse(['trip_id','sthours','Day','Month','Duration','birthyear','Sex','age']))"
   ]
  },
  {
   "cell_type": "code",
   "execution_count": 19,
   "metadata": {},
   "outputs": [
    {
     "name": "stdout",
     "output_type": "stream",
     "text": [
      "RMSE Increased By: 0.009413659599999846\n"
     ]
    }
   ],
   "source": [
    "print ('RMSE Increased By:',(16.2391988286 - 16.229785169))"
   ]
  },
  {
   "cell_type": "markdown",
   "metadata": {},
   "source": [
    "By elimination Trip Year RMSE is increase that’s mean Trip Year   column contributing significance our model and that’s why we are keeping it."
   ]
  },
  {
   "cell_type": "code",
   "execution_count": 20,
   "metadata": {},
   "outputs": [
    {
     "name": "stdout",
     "output_type": "stream",
     "text": [
      "16.229785169\n"
     ]
    }
   ],
   "source": [
    "print (train_test_rmse(['trip_id','sthours','Day','Month','Trip_year','Duration','Sex','age']))"
   ]
  },
  {
   "cell_type": "code",
   "execution_count": 21,
   "metadata": {},
   "outputs": [
    {
     "name": "stdout",
     "output_type": "stream",
     "text": [
      "RMSE Increased By: 0.0\n"
     ]
    }
   ],
   "source": [
    "print ('RMSE Increased By:',(16.229785169 - 16.229785169))"
   ]
  },
  {
   "cell_type": "markdown",
   "metadata": {},
   "source": [
    "By elimination birth year RMSE is no change that’s mean birth Year   column contributing no significance our model and that’s why we are taking out birth year column it."
   ]
  },
  {
   "cell_type": "markdown",
   "metadata": {},
   "source": [
    "# Day and Month"
   ]
  },
  {
   "cell_type": "code",
   "execution_count": 22,
   "metadata": {},
   "outputs": [
    {
     "name": "stdout",
     "output_type": "stream",
     "text": [
      "16.229785169\n"
     ]
    }
   ],
   "source": [
    "print (train_test_rmse(['trip_id','sthours','Day','Month','Trip_year','Duration','Sex','age']))"
   ]
  },
  {
   "cell_type": "code",
   "execution_count": 23,
   "metadata": {},
   "outputs": [
    {
     "name": "stdout",
     "output_type": "stream",
     "text": [
      "16.2395959146\n"
     ]
    }
   ],
   "source": [
    "print (train_test_rmse(['trip_id','Day','Trip_year','Duration','Sex','age']))"
   ]
  },
  {
   "cell_type": "code",
   "execution_count": 24,
   "metadata": {},
   "outputs": [
    {
     "name": "stdout",
     "output_type": "stream",
     "text": [
      "RMSE Increased By: 0.009810745599999393\n"
     ]
    }
   ],
   "source": [
    "print ('RMSE Increased By:',(16.2395959146 - 16.229785169))"
   ]
  },
  {
   "cell_type": "code",
   "execution_count": 25,
   "metadata": {},
   "outputs": [
    {
     "name": "stdout",
     "output_type": "stream",
     "text": [
      "16.2312840081\n"
     ]
    }
   ],
   "source": [
    "print (train_test_rmse(['trip_id','Month','Trip_year','Duration','Sex','age']))"
   ]
  },
  {
   "cell_type": "code",
   "execution_count": 26,
   "metadata": {},
   "outputs": [
    {
     "name": "stdout",
     "output_type": "stream",
     "text": [
      "RMSE Increased By: 0.0014988391000017032\n"
     ]
    }
   ],
   "source": [
    "print ('RMSE Increased By:',(16.2312840081 - 16.229785169))"
   ]
  },
  {
   "cell_type": "code",
   "execution_count": 27,
   "metadata": {},
   "outputs": [
    {
     "name": "stdout",
     "output_type": "stream",
     "text": [
      "16.229785169\n"
     ]
    }
   ],
   "source": [
    "print (train_test_rmse(['trip_id','sthours','Day','Month','Trip_year','Duration','Sex','age']))"
   ]
  },
  {
   "cell_type": "markdown",
   "metadata": {},
   "source": [
    "By elimination Month RMSE is increase that’s mean Month   column contributing significance into our model and that’s why we are keeping Month column. Where Day column Day column contributing significance into our model and that’s why we are not eliminating Day column."
   ]
  },
  {
   "cell_type": "markdown",
   "metadata": {},
   "source": [
    "# Age and Sex"
   ]
  },
  {
   "cell_type": "code",
   "execution_count": 28,
   "metadata": {},
   "outputs": [
    {
     "name": "stdout",
     "output_type": "stream",
     "text": [
      "16.229785169\n"
     ]
    }
   ],
   "source": [
    "print (train_test_rmse(['trip_id','sthours','Day','Month','Trip_year','Duration','Sex','age']))"
   ]
  },
  {
   "cell_type": "code",
   "execution_count": 29,
   "metadata": {},
   "outputs": [
    {
     "name": "stdout",
     "output_type": "stream",
     "text": [
      "16.2484520327\n"
     ]
    }
   ],
   "source": [
    "print (train_test_rmse(['trip_id','sthours','Day','Month','Trip_year','Duration','Sex']))"
   ]
  },
  {
   "cell_type": "code",
   "execution_count": 30,
   "metadata": {},
   "outputs": [
    {
     "name": "stdout",
     "output_type": "stream",
     "text": [
      "RMSE Increased By: 0.018666863700001812\n"
     ]
    }
   ],
   "source": [
    "print ('RMSE Increased By:',(16.2484520327 - 16.229785169))"
   ]
  },
  {
   "cell_type": "code",
   "execution_count": 31,
   "metadata": {},
   "outputs": [
    {
     "name": "stdout",
     "output_type": "stream",
     "text": [
      "16.235345827\n"
     ]
    }
   ],
   "source": [
    "print (train_test_rmse(['trip_id','sthours','Day','Month','Trip_year','Duration','age']))"
   ]
  },
  {
   "cell_type": "code",
   "execution_count": 32,
   "metadata": {},
   "outputs": [
    {
     "name": "stdout",
     "output_type": "stream",
     "text": [
      "RMSE Increased By: 0.005560658000000274\n"
     ]
    }
   ],
   "source": [
    "print ('RMSE Increased By:',(16.235345827 - 16.229785169))"
   ]
  },
  {
   "cell_type": "markdown",
   "metadata": {},
   "source": [
    "By elimination of Age Column RMSE is increase and that's we do not want"
   ]
  },
  {
   "cell_type": "code",
   "execution_count": 33,
   "metadata": {},
   "outputs": [
    {
     "name": "stdout",
     "output_type": "stream",
     "text": [
      "16.2369696569\n"
     ]
    }
   ],
   "source": [
    "print (train_test_rmse(['trip_id','Month','Trip_year','Duration','age']))"
   ]
  },
  {
   "cell_type": "code",
   "execution_count": 34,
   "metadata": {},
   "outputs": [
    {
     "name": "stdout",
     "output_type": "stream",
     "text": [
      "RMSE Increased By: -0.005685648800000109\n"
     ]
    }
   ],
   "source": [
    "print ('RMSE Increased By:',(16.2312840081 - 16.2369696569))"
   ]
  },
  {
   "cell_type": "markdown",
   "metadata": {},
   "source": [
    "It is seems to be that both columns contributing some significance into our model and that’s why we are keeping age and Sex column."
   ]
  },
  {
   "cell_type": "markdown",
   "metadata": {},
   "source": [
    "# Trip Id"
   ]
  },
  {
   "cell_type": "code",
   "execution_count": 35,
   "metadata": {},
   "outputs": [
    {
     "name": "stdout",
     "output_type": "stream",
     "text": [
      "16.229785169\n"
     ]
    }
   ],
   "source": [
    "print (train_test_rmse(['trip_id','sthours','Day','Month','Trip_year','Duration','Sex','age']))"
   ]
  },
  {
   "cell_type": "code",
   "execution_count": 36,
   "metadata": {},
   "outputs": [
    {
     "name": "stdout",
     "output_type": "stream",
     "text": [
      "16.2383508452\n"
     ]
    }
   ],
   "source": [
    "print (train_test_rmse(['Month','Trip_year','Duration','Sex','age']))"
   ]
  },
  {
   "cell_type": "code",
   "execution_count": 37,
   "metadata": {},
   "outputs": [
    {
     "name": "stdout",
     "output_type": "stream",
     "text": [
      "RMSE Increased By: 0.008565676199999928\n"
     ]
    }
   ],
   "source": [
    "print ('RMSE Increased By:',(16.2383508452 - 16.229785169))"
   ]
  },
  {
   "cell_type": "markdown",
   "metadata": {},
   "source": [
    "We are keeping trip_id Column because after eliminating trip_id our error mean squared error is increased"
   ]
  },
  {
   "cell_type": "markdown",
   "metadata": {},
   "source": [
    "# Final columns for our model"
   ]
  },
  {
   "cell_type": "code",
   "execution_count": 38,
   "metadata": {},
   "outputs": [
    {
     "name": "stdout",
     "output_type": "stream",
     "text": [
      "16.229785169\n"
     ]
    }
   ],
   "source": [
    "print (train_test_rmse(['trip_id','sthours','Day','Month','Trip_year','Duration','Sex','age']))"
   ]
  },
  {
   "cell_type": "markdown",
   "metadata": {},
   "source": [
    "---------------------------------------------------------"
   ]
  },
  {
   "cell_type": "markdown",
   "metadata": {},
   "source": [
    "## Resources\n",
    "References:*From the video series: [Introduction to machine learning with scikit-learn](https://github.com/justmarkham/scikit-learn-videos)*\n",
    "- scikit-learn documentation: [Cross-validation](http://scikit-learn.org/stable/modules/cross_validation.html), [Model evaluation](http://scikit-learn.org/stable/modules/model_evaluation.html)\n",
    "- scikit-learn issue on GitHub: [MSE is negative when returned by cross_val_score](https://github.com/scikit-learn/scikit-learn/issues/2439)\n",
    "- Section 5.1 of [An Introduction to Statistical Learning](http://www-bcf.usc.edu/~gareth/ISL/) (11 pages) and related videos: [K-fold and leave-one-out cross-validation](https://www.youtube.com/watch?v=nZAM5OXrktY) (14 minutes), [Cross-validation the right and wrong ways](https://www.youtube.com/watch?v=S06JpVoNaA0) (10 minutes)\n",
    "- Scott Fortmann-Roe: [Accurately Measuring Model Prediction Error](http://scott.fortmann-roe.com/docs/MeasuringError.html)\n",
    "- Machine Learning Mastery: [An Introduction to Feature Selection](http://machinelearningmastery.com/an-introduction-to-feature-selection/)\n",
    "- Harvard CS109: [Cross-Validation: The Right and Wrong Way](https://github.com/cs109/content/blob/master/lec_10_cross_val.ipynb)\n",
    "- Journal of Cheminformatics: [Cross-validation pitfalls when selecting and assessing regression and classification models](http://www.jcheminf.com/content/pdf/1758-2946-6-10.pdf)"
   ]
  },
  {
   "cell_type": "markdown",
   "metadata": {},
   "source": [
    "-----------------------------------------------------"
   ]
  }
 ],
 "metadata": {
  "kernelspec": {
   "display_name": "Python 3",
   "language": "python",
   "name": "python3"
  },
  "language_info": {
   "codemirror_mode": {
    "name": "ipython",
    "version": 3
   },
   "file_extension": ".py",
   "mimetype": "text/x-python",
   "name": "python",
   "nbconvert_exporter": "python",
   "pygments_lexer": "ipython3",
   "version": "3.6.0"
  }
 },
 "nbformat": 4,
 "nbformat_minor": 2
}
