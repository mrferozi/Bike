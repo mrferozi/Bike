{
 "cells": [
  {
   "cell_type": "markdown",
   "metadata": {},
   "source": [
    "# Cycle Data Prediction by Weather"
   ]
  },
  {
   "cell_type": "markdown",
   "metadata": {},
   "source": [
    "***Declaration ***: The central idea and coding  is abstract  from Kevin mark ham youtube video seriese, Introduction to machine learning with scikit-learn video series. You can find link under resources section.  "
   ]
  },
  {
   "cell_type": "markdown",
   "metadata": {},
   "source": [
    "***Question ***How many bike rentals would we predict if the temperature given in degrees Celsius?"
   ]
  },
  {
   "cell_type": "markdown",
   "metadata": {},
   "source": [
    "***Question *** Does the scale of the features matter?"
   ]
  },
  {
   "cell_type": "markdown",
   "metadata": {},
   "source": [
    "***Question *** what are effect cause by weather on bike rental scheme? "
   ]
  },
  {
   "cell_type": "markdown",
   "metadata": {},
   "source": [
    "# Libraries"
   ]
  },
  {
   "cell_type": "code",
   "execution_count": 16,
   "metadata": {},
   "outputs": [],
   "source": [
    "import os,csv,io,mapsplotlib,time,folium,googlemaps,geopy,zipfile,requests,warnings\n",
    "import numpy as np\n",
    "import pandas as pd\n",
    "import datetime as dt\n",
    "import seaborn as sns\n",
    "import geopandas as gpd\n",
    "from shapely.geometry import Point\n",
    "import statsmodels.formula.api as smf\n",
    "import matplotlib.pyplot as plt\n",
    "import mysql.connector as sql\n",
    "from sklearn.linear_model import LinearRegression\n",
    "model = LinearRegression()\n",
    "from sklearn import metrics\n",
    "from sklearn.cross_validation import train_test_split\n",
    "from sklearn.svm import LinearSVC\n",
    "import numpy as np\n",
    "warnings.simplefilter('ignore')\n",
    "\n",
    "# display plots in the notebook\n",
    "%matplotlib inline\n",
    "\n",
    "# increase default figure and font sizes for easier viewing\n",
    "plt.rcParams['figure.figsize'] = (8, 6)\n",
    "plt.rcParams['font.size'] = 14"
   ]
  },
  {
   "cell_type": "code",
   "execution_count": 17,
   "metadata": {},
   "outputs": [
    {
     "data": {
      "text/plain": [
       "Date                 object\n",
       "total                 int64\n",
       "temp                  int64\n",
       "Maxf                  int64\n",
       "Minf                  int64\n",
       "Maxhum                int64\n",
       "Minhum                int64\n",
       "Visibility_Miles      int64\n",
       "Wind_Speed_MPH        int64\n",
       "Precipitation_In    float64\n",
       "Events_num            int64\n",
       "Events               object\n",
       "month                 int64\n",
       "year                  int64\n",
       "dtype: object"
      ]
     },
     "execution_count": 17,
     "metadata": {},
     "output_type": "execute_result"
    }
   ],
   "source": [
    "#importing data from database\n",
    "db_connection = sql.connect(host='localhost', database='bike', user='root', password='none')\n",
    "db_cursor = db_connection.cursor()\n",
    "db_cursor.execute('SELECT twdate Date,Bike_rented total,Mean_Temperature_C temp,Max_Temperature_F Maxf,Min_TemperatureF Minf,Max_Humidity Maxhum,Min_Humidity Minhum,Visibility_Miles,Wind_Speed_MPH,Precipitation_In,Events_num,Events,month,year FROM trip_weather')\n",
    "table_rows = db_cursor.fetchall()\n",
    "data = pd.read_sql('SELECT twdate Date,Bike_rented total,Mean_Temperature_C temp,Max_Temperature_F Maxf,Min_TemperatureF Minf,Max_Humidity Maxhum,Min_Humidity Minhum,Visibility_Miles,Wind_Speed_MPH,Precipitation_In,Events_num,Events,month,year FROM trip_weather', con=db_connection)\n",
    "bikes = pd.DataFrame(data)\n",
    "bikes.dtypes"
   ]
  },
  {
   "cell_type": "code",
   "execution_count": 35,
   "metadata": {},
   "outputs": [
    {
     "data": {
      "text/html": [
       "<div>\n",
       "<table border=\"1\" class=\"dataframe\">\n",
       "  <thead>\n",
       "    <tr style=\"text-align: right;\">\n",
       "      <th></th>\n",
       "      <th>Date</th>\n",
       "      <th>total</th>\n",
       "      <th>temp</th>\n",
       "      <th>Maxf</th>\n",
       "      <th>Minf</th>\n",
       "      <th>Maxhum</th>\n",
       "      <th>Minhum</th>\n",
       "      <th>Visibility_Miles</th>\n",
       "      <th>Wind_Speed_MPH</th>\n",
       "      <th>Precipitation_In</th>\n",
       "      <th>Events_num</th>\n",
       "      <th>Events</th>\n",
       "      <th>month</th>\n",
       "      <th>year</th>\n",
       "    </tr>\n",
       "  </thead>\n",
       "  <tbody>\n",
       "    <tr>\n",
       "      <th>604</th>\n",
       "      <td>2016-08-27</td>\n",
       "      <td>60</td>\n",
       "      <td>18</td>\n",
       "      <td>72</td>\n",
       "      <td>61</td>\n",
       "      <td>81</td>\n",
       "      <td>46</td>\n",
       "      <td>10</td>\n",
       "      <td>9</td>\n",
       "      <td>0.0</td>\n",
       "      <td>6</td>\n",
       "      <td>Sunny</td>\n",
       "      <td>8</td>\n",
       "      <td>2016</td>\n",
       "    </tr>\n",
       "    <tr>\n",
       "      <th>605</th>\n",
       "      <td>2016-08-28</td>\n",
       "      <td>76</td>\n",
       "      <td>20</td>\n",
       "      <td>75</td>\n",
       "      <td>59</td>\n",
       "      <td>80</td>\n",
       "      <td>44</td>\n",
       "      <td>10</td>\n",
       "      <td>9</td>\n",
       "      <td>0.0</td>\n",
       "      <td>6</td>\n",
       "      <td>Sunny</td>\n",
       "      <td>8</td>\n",
       "      <td>2016</td>\n",
       "    </tr>\n",
       "    <tr>\n",
       "      <th>606</th>\n",
       "      <td>2016-08-29</td>\n",
       "      <td>200</td>\n",
       "      <td>20</td>\n",
       "      <td>81</td>\n",
       "      <td>55</td>\n",
       "      <td>89</td>\n",
       "      <td>39</td>\n",
       "      <td>10</td>\n",
       "      <td>4</td>\n",
       "      <td>0.0</td>\n",
       "      <td>6</td>\n",
       "      <td>Sunny</td>\n",
       "      <td>8</td>\n",
       "      <td>2016</td>\n",
       "    </tr>\n",
       "    <tr>\n",
       "      <th>607</th>\n",
       "      <td>2016-08-30</td>\n",
       "      <td>208</td>\n",
       "      <td>17</td>\n",
       "      <td>70</td>\n",
       "      <td>57</td>\n",
       "      <td>83</td>\n",
       "      <td>53</td>\n",
       "      <td>10</td>\n",
       "      <td>9</td>\n",
       "      <td>0.0</td>\n",
       "      <td>6</td>\n",
       "      <td>Sunny</td>\n",
       "      <td>8</td>\n",
       "      <td>2016</td>\n",
       "    </tr>\n",
       "    <tr>\n",
       "      <th>608</th>\n",
       "      <td>2016-08-31</td>\n",
       "      <td>178</td>\n",
       "      <td>18</td>\n",
       "      <td>71</td>\n",
       "      <td>59</td>\n",
       "      <td>90</td>\n",
       "      <td>63</td>\n",
       "      <td>10</td>\n",
       "      <td>8</td>\n",
       "      <td>0.0</td>\n",
       "      <td>6</td>\n",
       "      <td>Sunny</td>\n",
       "      <td>8</td>\n",
       "      <td>2016</td>\n",
       "    </tr>\n",
       "  </tbody>\n",
       "</table>\n",
       "</div>"
      ],
      "text/plain": [
       "           Date  total  temp  Maxf  Minf  Maxhum  Minhum  Visibility_Miles  \\\n",
       "604  2016-08-27     60    18    72    61      81      46                10   \n",
       "605  2016-08-28     76    20    75    59      80      44                10   \n",
       "606  2016-08-29    200    20    81    55      89      39                10   \n",
       "607  2016-08-30    208    17    70    57      83      53                10   \n",
       "608  2016-08-31    178    18    71    59      90      63                10   \n",
       "\n",
       "     Wind_Speed_MPH  Precipitation_In  Events_num Events  month  year  \n",
       "604               9               0.0           6  Sunny      8  2016  \n",
       "605               9               0.0           6  Sunny      8  2016  \n",
       "606               4               0.0           6  Sunny      8  2016  \n",
       "607               9               0.0           6  Sunny      8  2016  \n",
       "608               8               0.0           6  Sunny      8  2016  "
      ]
     },
     "execution_count": 35,
     "metadata": {},
     "output_type": "execute_result"
    }
   ],
   "source": [
    "bikes.tail()"
   ]
  },
  {
   "cell_type": "code",
   "execution_count": 19,
   "metadata": {},
   "outputs": [
    {
     "name": "stdout",
     "output_type": "stream",
     "text": [
      "<class 'pandas.core.frame.DataFrame'>\n",
      "RangeIndex: 609 entries, 0 to 608\n",
      "Data columns (total 14 columns):\n",
      "Date                609 non-null object\n",
      "total               609 non-null int64\n",
      "temp                609 non-null int64\n",
      "Maxf                609 non-null int64\n",
      "Minf                609 non-null int64\n",
      "Maxhum              609 non-null int64\n",
      "Minhum              609 non-null int64\n",
      "Visibility_Miles    609 non-null int64\n",
      "Wind_Speed_MPH      609 non-null int64\n",
      "Precipitation_In    609 non-null float64\n",
      "Events_num          609 non-null int64\n",
      "Events              609 non-null object\n",
      "month               609 non-null int64\n",
      "year                609 non-null int64\n",
      "dtypes: float64(1), int64(11), object(2)\n",
      "memory usage: 66.7+ KB\n"
     ]
    }
   ],
   "source": [
    "bikes.info()"
   ]
  },
  {
   "cell_type": "markdown",
   "metadata": {},
   "source": [
    "## Visualizing the data"
   ]
  },
  {
   "cell_type": "code",
   "execution_count": 20,
   "metadata": {},
   "outputs": [],
   "source": [
    "import seaborn as sns\n",
    "import matplotlib.pyplot as plt\n",
    "%matplotlib inline\n",
    "plt.rcParams['figure.figsize'] = (8, 6)\n",
    "plt.rcParams['font.size'] = 14"
   ]
  },
  {
   "cell_type": "code",
   "execution_count": 21,
   "metadata": {},
   "outputs": [
    {
     "data": {
      "text/plain": [
       "<matplotlib.axes._subplots.AxesSubplot at 0x1bb2c085978>"
      ]
     },
     "execution_count": 21,
     "metadata": {},
     "output_type": "execute_result"
    },
    {
     "data": {
      "image/png": "[encoded data removed]",
      "text/plain": [
       "<matplotlib.figure.Figure at 0x1bb2c246d68>"
      ]
     },
     "metadata": {},
     "output_type": "display_data"
    }
   ],
   "source": [
    "# Pandas scatter plot\n",
    "bikes.plot(kind='scatter', x='temp', y='total', alpha=0.2)"
   ]
  },
  {
   "cell_type": "code",
   "execution_count": 22,
   "metadata": {},
   "outputs": [
    {
     "data": {
      "text/plain": [
       "<seaborn.axisgrid.FacetGrid at 0x1bb2c4dbfd0>"
      ]
     },
     "execution_count": 22,
     "metadata": {},
     "output_type": "execute_result"
    },
    {
     "data": {
      "image/png": "[encoded data removed]",
      "text/plain": [
       "<matplotlib.figure.Figure at 0x1bb2c4dbd68>"
      ]
     },
     "metadata": {},
     "output_type": "display_data"
    }
   ],
   "source": [
    "# Seaborn scatter plot with regression line\n",
    "sns.lmplot(x='temp', y='total', data=bikes, aspect=1.5, scatter_kws={'alpha':0.2})"
   ]
  },
  {
   "cell_type": "markdown",
   "metadata": {},
   "source": [
    "# Building a linear regression model"
   ]
  },
  {
   "cell_type": "code",
   "execution_count": 64,
   "metadata": {},
   "outputs": [],
   "source": [
    "# create X and y where temp is the temprature and total is a total observation\n",
    "feature_cols = ['temp']\n",
    "X = bikes[feature_cols]\n",
    "y = bikes.total"
   ]
  },
  {
   "cell_type": "code",
   "execution_count": 65,
   "metadata": {},
   "outputs": [
    {
     "data": {
      "text/plain": [
       "LinearRegression(copy_X=True, fit_intercept=True, n_jobs=1, normalize=False)"
      ]
     },
     "execution_count": 65,
     "metadata": {},
     "output_type": "execute_result"
    }
   ],
   "source": [
    "# import, instantiate, fit\n",
    "from sklearn.linear_model import LinearRegression\n",
    "linreg = LinearRegression()\n",
    "linreg.fit(X, y)"
   ]
  },
  {
   "cell_type": "code",
   "execution_count": 66,
   "metadata": {},
   "outputs": [
    {
     "name": "stdout",
     "output_type": "stream",
     "text": [
      "154.859661305\n",
      "[ 3.22495402]\n"
     ]
    }
   ],
   "source": [
    "# print the coefficients\n",
    "print (linreg.intercept_)\n",
    "print (linreg.coef_)"
   ]
  },
  {
   "cell_type": "markdown",
   "metadata": {},
   "source": [
    "## Using the model for prediction"
   ]
  },
  {
   "cell_type": "code",
   "execution_count": 67,
   "metadata": {},
   "outputs": [
    {
     "name": "stdout",
     "output_type": "stream",
     "text": [
      "[ 219.35874174]\n"
     ]
    }
   ],
   "source": [
    "# use the predict method\n",
    "a = linreg.predict(20)\n",
    "print (a)"
   ]
  },
  {
   "cell_type": "markdown",
   "metadata": {},
   "source": [
    "## Conclusion:\n",
    "The Model predicted that when temperature reach to 20 degrees Celsius there is a chance of ***121*** bicycle could be rented. "
   ]
  },
  {
   "cell_type": "markdown",
   "metadata": {},
   "source": [
    "## Does the scale of the features matter?\n",
    "\n",
    "Let's say that temperature was measured in Fahrenheit, rather than Celsius. How would that affect the model?"
   ]
  },
  {
   "cell_type": "code",
   "execution_count": 68,
   "metadata": {},
   "outputs": [
    {
     "data": {
      "text/html": [
       "<div>\n",
       "<table border=\"1\" class=\"dataframe\">\n",
       "  <thead>\n",
       "    <tr style=\"text-align: right;\">\n",
       "      <th></th>\n",
       "      <th>Date</th>\n",
       "      <th>total</th>\n",
       "      <th>temp</th>\n",
       "      <th>Maxf</th>\n",
       "      <th>Minf</th>\n",
       "      <th>Maxhum</th>\n",
       "      <th>Minhum</th>\n",
       "      <th>Visibility_Miles</th>\n",
       "      <th>Wind_Speed_MPH</th>\n",
       "      <th>Precipitation_In</th>\n",
       "      <th>Events_num</th>\n",
       "      <th>Events</th>\n",
       "      <th>month</th>\n",
       "      <th>year</th>\n",
       "      <th>temp_F</th>\n",
       "    </tr>\n",
       "  </thead>\n",
       "  <tbody>\n",
       "    <tr>\n",
       "      <th>0</th>\n",
       "      <td>2015-01-01</td>\n",
       "      <td>88</td>\n",
       "      <td>1</td>\n",
       "      <td>43</td>\n",
       "      <td>27</td>\n",
       "      <td>81</td>\n",
       "      <td>49</td>\n",
       "      <td>10</td>\n",
       "      <td>0</td>\n",
       "      <td>0.00</td>\n",
       "      <td>2</td>\n",
       "      <td>Rain</td>\n",
       "      <td>1</td>\n",
       "      <td>2015</td>\n",
       "      <td>33.8</td>\n",
       "    </tr>\n",
       "    <tr>\n",
       "      <th>1</th>\n",
       "      <td>2015-01-02</td>\n",
       "      <td>180</td>\n",
       "      <td>3</td>\n",
       "      <td>44</td>\n",
       "      <td>32</td>\n",
       "      <td>86</td>\n",
       "      <td>67</td>\n",
       "      <td>10</td>\n",
       "      <td>4</td>\n",
       "      <td>0.03</td>\n",
       "      <td>2</td>\n",
       "      <td>Rain</td>\n",
       "      <td>1</td>\n",
       "      <td>2015</td>\n",
       "      <td>37.4</td>\n",
       "    </tr>\n",
       "    <tr>\n",
       "      <th>2</th>\n",
       "      <td>2015-01-03</td>\n",
       "      <td>104</td>\n",
       "      <td>3</td>\n",
       "      <td>43</td>\n",
       "      <td>33</td>\n",
       "      <td>93</td>\n",
       "      <td>76</td>\n",
       "      <td>7</td>\n",
       "      <td>2</td>\n",
       "      <td>0.00</td>\n",
       "      <td>2</td>\n",
       "      <td>Rain</td>\n",
       "      <td>1</td>\n",
       "      <td>2015</td>\n",
       "      <td>37.4</td>\n",
       "    </tr>\n",
       "    <tr>\n",
       "      <th>3</th>\n",
       "      <td>2015-01-04</td>\n",
       "      <td>56</td>\n",
       "      <td>8</td>\n",
       "      <td>54</td>\n",
       "      <td>41</td>\n",
       "      <td>89</td>\n",
       "      <td>77</td>\n",
       "      <td>8</td>\n",
       "      <td>7</td>\n",
       "      <td>0.22</td>\n",
       "      <td>2</td>\n",
       "      <td>Rain</td>\n",
       "      <td>1</td>\n",
       "      <td>2015</td>\n",
       "      <td>46.4</td>\n",
       "    </tr>\n",
       "    <tr>\n",
       "      <th>4</th>\n",
       "      <td>2015-01-05</td>\n",
       "      <td>244</td>\n",
       "      <td>13</td>\n",
       "      <td>57</td>\n",
       "      <td>54</td>\n",
       "      <td>88</td>\n",
       "      <td>74</td>\n",
       "      <td>8</td>\n",
       "      <td>14</td>\n",
       "      <td>0.07</td>\n",
       "      <td>2</td>\n",
       "      <td>Rain</td>\n",
       "      <td>1</td>\n",
       "      <td>2015</td>\n",
       "      <td>55.4</td>\n",
       "    </tr>\n",
       "  </tbody>\n",
       "</table>\n",
       "</div>"
      ],
      "text/plain": [
       "         Date  total  temp  Maxf  Minf  Maxhum  Minhum  Visibility_Miles  \\\n",
       "0  2015-01-01     88     1    43    27      81      49                10   \n",
       "1  2015-01-02    180     3    44    32      86      67                10   \n",
       "2  2015-01-03    104     3    43    33      93      76                 7   \n",
       "3  2015-01-04     56     8    54    41      89      77                 8   \n",
       "4  2015-01-05    244    13    57    54      88      74                 8   \n",
       "\n",
       "   Wind_Speed_MPH  Precipitation_In  Events_num Events  month  year  temp_F  \n",
       "0               0              0.00           2   Rain      1  2015    33.8  \n",
       "1               4              0.03           2   Rain      1  2015    37.4  \n",
       "2               2              0.00           2   Rain      1  2015    37.4  \n",
       "3               7              0.22           2   Rain      1  2015    46.4  \n",
       "4              14              0.07           2   Rain      1  2015    55.4  "
      ]
     },
     "execution_count": 68,
     "metadata": {},
     "output_type": "execute_result"
    }
   ],
   "source": [
    "# create a new column for Fahrenheit temperature\n",
    "bikes['temp_F'] = bikes.temp * 1.8 + 32\n",
    "bikes.head()"
   ]
  },
  {
   "cell_type": "code",
   "execution_count": 69,
   "metadata": {},
   "outputs": [
    {
     "data": {
      "text/plain": [
       "<seaborn.axisgrid.FacetGrid at 0x1bb2d90eeb8>"
      ]
     },
     "execution_count": 69,
     "metadata": {},
     "output_type": "execute_result"
    },
    {
     "data": {
      "image/png": "[encoded data removed]",
      "text/plain": [
       "<matplotlib.figure.Figure at 0x1bb2d90ed30>"
      ]
     },
     "metadata": {},
     "output_type": "display_data"
    }
   ],
   "source": [
    "# Seaborn scatter plot with regression line\n",
    "sns.lmplot(x='temp_F', y='total', data=bikes, aspect=1.5, scatter_kws={'alpha':0.2})"
   ]
  },
  {
   "cell_type": "code",
   "execution_count": 70,
   "metadata": {},
   "outputs": [
    {
     "name": "stdout",
     "output_type": "stream",
     "text": [
      "97.5271453636\n",
      "[ 1.79164112]\n"
     ]
    }
   ],
   "source": [
    "# create X and y\n",
    "feature_cols = ['temp_F']\n",
    "X = bikes[feature_cols]\n",
    "y = bikes.total\n",
    "\n",
    "# instantiate and fit\n",
    "linreg = LinearRegression()\n",
    "linreg.fit(X, y)\n",
    "\n",
    "# print the coefficients\n",
    "print (linreg.intercept_)\n",
    "print (linreg.coef_)"
   ]
  },
  {
   "cell_type": "code",
   "execution_count": 71,
   "metadata": {},
   "outputs": [
    {
     "data": {
      "text/plain": [
       "68.0"
      ]
     },
     "execution_count": 71,
     "metadata": {},
     "output_type": "execute_result"
    }
   ],
   "source": [
    "# convert 20 degrees Celsius to Fahrenheit\n",
    "20 * 1.8 + 32"
   ]
  },
  {
   "cell_type": "code",
   "execution_count": 72,
   "metadata": {},
   "outputs": [
    {
     "name": "stdout",
     "output_type": "stream",
     "text": [
      "[ 219.35874174]\n"
     ]
    }
   ],
   "source": [
    "# predict rentals for 68 degrees Fahrenheit\n",
    "b = linreg.predict(68)\n",
    "print (b)"
   ]
  },
  {
   "cell_type": "markdown",
   "metadata": {},
   "source": [
    "# The difference"
   ]
  },
  {
   "cell_type": "code",
   "execution_count": 73,
   "metadata": {},
   "outputs": [
    {
     "name": "stdout",
     "output_type": "stream",
     "text": [
      "Total difference in prediction form Celsius to Fahrenheit: [ 0.]\n"
     ]
    }
   ],
   "source": [
    "print ('Total difference in prediction form Celsius to Fahrenheit:',(b-a))"
   ]
  },
  {
   "cell_type": "markdown",
   "metadata": {},
   "source": [
    "The result shows that the scale of the features does not matter.As, both scales predict the same values of result\n"
   ]
  },
  {
   "cell_type": "markdown",
   "metadata": {},
   "source": [
    "**Conclusion:** The scale of the features is **irrelevant** for linear regression models. When changing the scale, we simply change our **interpretation** of the coefficients."
   ]
  },
  {
   "cell_type": "markdown",
   "metadata": {},
   "source": [
    "# Visualizing the data (part 2)"
   ]
  },
  {
   "cell_type": "code",
   "execution_count": 78,
   "metadata": {},
   "outputs": [],
   "source": [
    "# explore more features\n",
    "feature_cols = ['temp', 'Events_num', 'Visibility_Miles', 'Wind_Speed_MPH']"
   ]
  },
  {
   "cell_type": "code",
   "execution_count": 83,
   "metadata": {},
   "outputs": [
    {
     "data": {
      "text/html": [
       "<div>\n",
       "<table border=\"1\" class=\"dataframe\">\n",
       "  <thead>\n",
       "    <tr style=\"text-align: right;\">\n",
       "      <th></th>\n",
       "      <th>Events_num</th>\n",
       "      <th>Events</th>\n",
       "    </tr>\n",
       "  </thead>\n",
       "  <tbody>\n",
       "    <tr>\n",
       "      <th>0</th>\n",
       "      <td>0</td>\n",
       "      <td>Fog</td>\n",
       "    </tr>\n",
       "    <tr>\n",
       "      <th>1</th>\n",
       "      <td>1</td>\n",
       "      <td>Fog, Rain</td>\n",
       "    </tr>\n",
       "    <tr>\n",
       "      <th>2</th>\n",
       "      <td>2</td>\n",
       "      <td>Rain</td>\n",
       "    </tr>\n",
       "    <tr>\n",
       "      <th>3</th>\n",
       "      <td>4</td>\n",
       "      <td>Rain-Snow</td>\n",
       "    </tr>\n",
       "    <tr>\n",
       "      <th>4</th>\n",
       "      <td>5</td>\n",
       "      <td>Rain-Thunderstorm</td>\n",
       "    </tr>\n",
       "    <tr>\n",
       "      <th>5</th>\n",
       "      <td>6</td>\n",
       "      <td>Sunny</td>\n",
       "    </tr>\n",
       "  </tbody>\n",
       "</table>\n",
       "</div>"
      ],
      "text/plain": [
       "   Events_num             Events\n",
       "0           0                Fog\n",
       "1           1          Fog, Rain\n",
       "2           2               Rain\n",
       "3           4          Rain-Snow\n",
       "4           5  Rain-Thunderstorm\n",
       "5           6              Sunny"
      ]
     },
     "execution_count": 83,
     "metadata": {},
     "output_type": "execute_result"
    }
   ],
   "source": [
    "#importing data from database\n",
    "db_connection = sql.connect(host='localhost', database='bike', user='root', password='none')\n",
    "db_cursor = db_connection.cursor()\n",
    "db_cursor.execute('SELECT Events_num,Events FROM trip_weather group by  Events_num')\n",
    "table_rows = db_cursor.fetchall()\n",
    "data = pd.read_sql('SELECT Events_num,Events FROM trip_weather group by  Events_num', con=db_connection)\n",
    "bikes = pd.DataFrame(data)\n",
    "bikes"
   ]
  },
  {
   "cell_type": "code",
   "execution_count": 197,
   "metadata": {},
   "outputs": [
    {
     "data": {
      "text/plain": [
       "<seaborn.axisgrid.PairGrid at 0x1bb2e57e390>"
      ]
     },
     "execution_count": 197,
     "metadata": {},
     "output_type": "execute_result"
    },
    {
     "data": {
      "image/png": "[encoded data removed]",
      "text/plain": [
       "<matplotlib.figure.Figure at 0x1bb300825c0>"
      ]
     },
     "metadata": {},
     "output_type": "display_data"
    }
   ],
   "source": [
    "#importing data from database\n",
    "db_connection = sql.connect(host='localhost', database='bike', user='root', password='none')\n",
    "db_cursor = db_connection.cursor()\n",
    "db_cursor.execute('SELECT twdate Date,Bike_rented total,Mean_Temperature_C temp,Max_Temperature_F Maxf,Min_TemperatureF Minf,Max_Humidity Maxhum,Min_Humidity Minhum,Visibility_Miles,Wind_Speed_MPH,Precipitation_In,Events_num,Events,month,year FROM trip_weather')\n",
    "table_rows = db_cursor.fetchall()\n",
    "data = pd.read_sql('SELECT twdate Date,Bike_rented total,Mean_Temperature_C temp,Max_Temperature_F Maxf,Min_TemperatureF Minf,Max_Humidity Maxhum,Min_Humidity Minhum,Visibility_Miles,Wind_Speed_MPH,Precipitation_In,Events_num,Events,month,year FROM trip_weather', con=db_connection)\n",
    "bikes = pd.DataFrame(data)\n",
    "bikes['humidity']=(bikes.Maxhum + bikes.Minhum)/2\n",
    "# explore more features\n",
    "feature_cols = ['temp', 'Events_num', 'Visibility_Miles', 'Wind_Speed_MPH', 'humidity']\n",
    "# multiple scatter plots in Seaborn\n",
    "sns.pairplot(bikes, x_vars=feature_cols, y_vars='total', kind='reg')"
   ]
  },
  {
   "cell_type": "code",
   "execution_count": 198,
   "metadata": {},
   "outputs": [
    {
     "data": {
      "image/png": "[encoded data removed]",
      "text/plain": [
       "<matplotlib.figure.Figure at 0x1bb2e39e6a0>"
      ]
     },
     "metadata": {},
     "output_type": "display_data"
    }
   ],
   "source": [
    "# multiple scatter plots in Pandas\n",
    "fig, axs = plt.subplots(1, len(feature_cols), sharey=True)\n",
    "for index, feature in enumerate(feature_cols):\n",
    "    bikes.plot(kind='scatter', x=feature, y='total', ax=axs[index], figsize=(16, 3))"
   ]
  },
  {
   "cell_type": "markdown",
   "metadata": {},
   "source": [
    "# Bicycle rentals by Events"
   ]
  },
  {
   "cell_type": "code",
   "execution_count": 199,
   "metadata": {},
   "outputs": [
    {
     "data": {
      "text/plain": [
       "<matplotlib.axes._subplots.AxesSubplot at 0x1bb2e76fe10>"
      ]
     },
     "execution_count": 199,
     "metadata": {},
     "output_type": "execute_result"
    },
    {
     "data": {
      "image/png": "[encoded data removed]",
      "text/plain": [
       "<matplotlib.figure.Figure at 0x1bb305fb208>"
      ]
     },
     "metadata": {},
     "output_type": "display_data"
    }
   ],
   "source": [
    "# increase default figure and font sizes for easier viewing\n",
    "plt.rcParams['figure.figsize'] = (12, 8)\n",
    "plt.rcParams['font.size'] = 14\n",
    "# box plot of rentals, grouped by season\n",
    "bikes.boxplot(column='total', by='Events')"
   ]
  },
  {
   "cell_type": "markdown",
   "metadata": {},
   "source": [
    "Notably:\n",
    "\n",
    "- A line can't capture a non-linear relationship.\n",
    "- There are less rentals in winter than in spring (?)"
   ]
  },
  {
   "cell_type": "code",
   "execution_count": 200,
   "metadata": {},
   "outputs": [
    {
     "data": {
      "text/plain": [
       "<matplotlib.axes._subplots.AxesSubplot at 0x1bb2e7c3518>"
      ]
     },
     "execution_count": 200,
     "metadata": {},
     "output_type": "execute_result"
    },
    {
     "data": {
      "image/png": "[encoded data removed]",
      "text/plain": [
       "<matplotlib.figure.Figure at 0x1bb305fff28>"
      ]
     },
     "metadata": {},
     "output_type": "display_data"
    }
   ],
   "source": [
    "# line plot of rentals\n",
    "bikes.total.plot()"
   ]
  },
  {
   "cell_type": "markdown",
   "metadata": {},
   "source": [
    "What does this tell us?\n",
    "\n",
    "There are less rentals in the winter than the spring, but only because the system is experiencing **overall decay** and the winter months happen to come after the spring months."
   ]
  },
  {
   "cell_type": "code",
   "execution_count": 201,
   "metadata": {},
   "outputs": [
    {
     "data": {
      "text/html": [
       "<div>\n",
       "<table border=\"1\" class=\"dataframe\">\n",
       "  <thead>\n",
       "    <tr style=\"text-align: right;\">\n",
       "      <th></th>\n",
       "      <th>total</th>\n",
       "      <th>temp</th>\n",
       "      <th>Maxf</th>\n",
       "      <th>Minf</th>\n",
       "      <th>Maxhum</th>\n",
       "      <th>Minhum</th>\n",
       "      <th>Visibility_Miles</th>\n",
       "      <th>Wind_Speed_MPH</th>\n",
       "      <th>Precipitation_In</th>\n",
       "      <th>Events_num</th>\n",
       "      <th>month</th>\n",
       "      <th>year</th>\n",
       "      <th>humidity</th>\n",
       "    </tr>\n",
       "  </thead>\n",
       "  <tbody>\n",
       "    <tr>\n",
       "      <th>total</th>\n",
       "      <td>1.000000</td>\n",
       "      <td>0.171038</td>\n",
       "      <td>0.191137</td>\n",
       "      <td>0.128383</td>\n",
       "      <td>-0.288507</td>\n",
       "      <td>-0.221978</td>\n",
       "      <td>0.028374</td>\n",
       "      <td>-0.223263</td>\n",
       "      <td>-0.241635</td>\n",
       "      <td>0.066881</td>\n",
       "      <td>-0.153841</td>\n",
       "      <td>-0.444737</td>\n",
       "      <td>-0.271274</td>\n",
       "    </tr>\n",
       "    <tr>\n",
       "      <th>temp</th>\n",
       "      <td>0.171038</td>\n",
       "      <td>1.000000</td>\n",
       "      <td>0.969747</td>\n",
       "      <td>0.946960</td>\n",
       "      <td>-0.629958</td>\n",
       "      <td>-0.606063</td>\n",
       "      <td>0.361507</td>\n",
       "      <td>-0.059260</td>\n",
       "      <td>-0.239945</td>\n",
       "      <td>0.825399</td>\n",
       "      <td>0.282011</td>\n",
       "      <td>-0.009845</td>\n",
       "      <td>-0.674047</td>\n",
       "    </tr>\n",
       "    <tr>\n",
       "      <th>Maxf</th>\n",
       "      <td>0.191137</td>\n",
       "      <td>0.969747</td>\n",
       "      <td>1.000000</td>\n",
       "      <td>0.850083</td>\n",
       "      <td>-0.628851</td>\n",
       "      <td>-0.715949</td>\n",
       "      <td>0.385667</td>\n",
       "      <td>-0.142499</td>\n",
       "      <td>-0.296065</td>\n",
       "      <td>0.806354</td>\n",
       "      <td>0.250732</td>\n",
       "      <td>0.013180</td>\n",
       "      <td>-0.747567</td>\n",
       "    </tr>\n",
       "    <tr>\n",
       "      <th>Minf</th>\n",
       "      <td>0.128383</td>\n",
       "      <td>0.946960</td>\n",
       "      <td>0.850083</td>\n",
       "      <td>1.000000</td>\n",
       "      <td>-0.573038</td>\n",
       "      <td>-0.403204</td>\n",
       "      <td>0.285961</td>\n",
       "      <td>0.049577</td>\n",
       "      <td>-0.148468</td>\n",
       "      <td>0.788437</td>\n",
       "      <td>0.303514</td>\n",
       "      <td>-0.040700</td>\n",
       "      <td>-0.513429</td>\n",
       "    </tr>\n",
       "    <tr>\n",
       "      <th>Maxhum</th>\n",
       "      <td>-0.288507</td>\n",
       "      <td>-0.629958</td>\n",
       "      <td>-0.628851</td>\n",
       "      <td>-0.573038</td>\n",
       "      <td>1.000000</td>\n",
       "      <td>0.647923</td>\n",
       "      <td>-0.335181</td>\n",
       "      <td>0.152543</td>\n",
       "      <td>0.321042</td>\n",
       "      <td>-0.510689</td>\n",
       "      <td>-0.239915</td>\n",
       "      <td>0.372230</td>\n",
       "      <td>0.858473</td>\n",
       "    </tr>\n",
       "    <tr>\n",
       "      <th>Minhum</th>\n",
       "      <td>-0.221978</td>\n",
       "      <td>-0.606063</td>\n",
       "      <td>-0.715949</td>\n",
       "      <td>-0.403204</td>\n",
       "      <td>0.647923</td>\n",
       "      <td>1.000000</td>\n",
       "      <td>-0.481033</td>\n",
       "      <td>0.276615</td>\n",
       "      <td>0.422462</td>\n",
       "      <td>-0.493925</td>\n",
       "      <td>-0.177272</td>\n",
       "      <td>0.064655</td>\n",
       "      <td>0.946872</td>\n",
       "    </tr>\n",
       "    <tr>\n",
       "      <th>Visibility_Miles</th>\n",
       "      <td>0.028374</td>\n",
       "      <td>0.361507</td>\n",
       "      <td>0.385667</td>\n",
       "      <td>0.285961</td>\n",
       "      <td>-0.335181</td>\n",
       "      <td>-0.481033</td>\n",
       "      <td>1.000000</td>\n",
       "      <td>0.034379</td>\n",
       "      <td>-0.382224</td>\n",
       "      <td>0.327864</td>\n",
       "      <td>0.066043</td>\n",
       "      <td>0.171817</td>\n",
       "      <td>-0.465402</td>\n",
       "    </tr>\n",
       "    <tr>\n",
       "      <th>Wind_Speed_MPH</th>\n",
       "      <td>-0.223263</td>\n",
       "      <td>-0.059260</td>\n",
       "      <td>-0.142499</td>\n",
       "      <td>0.049577</td>\n",
       "      <td>0.152543</td>\n",
       "      <td>0.276615</td>\n",
       "      <td>0.034379</td>\n",
       "      <td>1.000000</td>\n",
       "      <td>0.287960</td>\n",
       "      <td>-0.066293</td>\n",
       "      <td>0.058717</td>\n",
       "      <td>0.149078</td>\n",
       "      <td>0.250653</td>\n",
       "    </tr>\n",
       "    <tr>\n",
       "      <th>Precipitation_In</th>\n",
       "      <td>-0.241635</td>\n",
       "      <td>-0.239945</td>\n",
       "      <td>-0.296065</td>\n",
       "      <td>-0.148468</td>\n",
       "      <td>0.321042</td>\n",
       "      <td>0.422462</td>\n",
       "      <td>-0.382224</td>\n",
       "      <td>0.287960</td>\n",
       "      <td>1.000000</td>\n",
       "      <td>-0.256100</td>\n",
       "      <td>0.033554</td>\n",
       "      <td>-0.030281</td>\n",
       "      <td>0.419997</td>\n",
       "    </tr>\n",
       "    <tr>\n",
       "      <th>Events_num</th>\n",
       "      <td>0.066881</td>\n",
       "      <td>0.825399</td>\n",
       "      <td>0.806354</td>\n",
       "      <td>0.788437</td>\n",
       "      <td>-0.510689</td>\n",
       "      <td>-0.493925</td>\n",
       "      <td>0.327864</td>\n",
       "      <td>-0.066293</td>\n",
       "      <td>-0.256100</td>\n",
       "      <td>1.000000</td>\n",
       "      <td>0.354204</td>\n",
       "      <td>0.024837</td>\n",
       "      <td>-0.548186</td>\n",
       "    </tr>\n",
       "    <tr>\n",
       "      <th>month</th>\n",
       "      <td>-0.153841</td>\n",
       "      <td>0.282011</td>\n",
       "      <td>0.250732</td>\n",
       "      <td>0.303514</td>\n",
       "      <td>-0.239915</td>\n",
       "      <td>-0.177272</td>\n",
       "      <td>0.066043</td>\n",
       "      <td>0.058717</td>\n",
       "      <td>0.033554</td>\n",
       "      <td>0.354204</td>\n",
       "      <td>1.000000</td>\n",
       "      <td>-0.308230</td>\n",
       "      <td>-0.220656</td>\n",
       "    </tr>\n",
       "    <tr>\n",
       "      <th>year</th>\n",
       "      <td>-0.444737</td>\n",
       "      <td>-0.009845</td>\n",
       "      <td>0.013180</td>\n",
       "      <td>-0.040700</td>\n",
       "      <td>0.372230</td>\n",
       "      <td>0.064655</td>\n",
       "      <td>0.171817</td>\n",
       "      <td>0.149078</td>\n",
       "      <td>-0.030281</td>\n",
       "      <td>0.024837</td>\n",
       "      <td>-0.308230</td>\n",
       "      <td>1.000000</td>\n",
       "      <td>0.200697</td>\n",
       "    </tr>\n",
       "    <tr>\n",
       "      <th>humidity</th>\n",
       "      <td>-0.271274</td>\n",
       "      <td>-0.674047</td>\n",
       "      <td>-0.747567</td>\n",
       "      <td>-0.513429</td>\n",
       "      <td>0.858473</td>\n",
       "      <td>0.946872</td>\n",
       "      <td>-0.465402</td>\n",
       "      <td>0.250653</td>\n",
       "      <td>0.419997</td>\n",
       "      <td>-0.548186</td>\n",
       "      <td>-0.220656</td>\n",
       "      <td>0.200697</td>\n",
       "      <td>1.000000</td>\n",
       "    </tr>\n",
       "  </tbody>\n",
       "</table>\n",
       "</div>"
      ],
      "text/plain": [
       "                     total      temp      Maxf      Minf    Maxhum    Minhum  \\\n",
       "total             1.000000  0.171038  0.191137  0.128383 -0.288507 -0.221978   \n",
       "temp              0.171038  1.000000  0.969747  0.946960 -0.629958 -0.606063   \n",
       "Maxf              0.191137  0.969747  1.000000  0.850083 -0.628851 -0.715949   \n",
       "Minf              0.128383  0.946960  0.850083  1.000000 -0.573038 -0.403204   \n",
       "Maxhum           -0.288507 -0.629958 -0.628851 -0.573038  1.000000  0.647923   \n",
       "Minhum           -0.221978 -0.606063 -0.715949 -0.403204  0.647923  1.000000   \n",
       "Visibility_Miles  0.028374  0.361507  0.385667  0.285961 -0.335181 -0.481033   \n",
       "Wind_Speed_MPH   -0.223263 -0.059260 -0.142499  0.049577  0.152543  0.276615   \n",
       "Precipitation_In -0.241635 -0.239945 -0.296065 -0.148468  0.321042  0.422462   \n",
       "Events_num        0.066881  0.825399  0.806354  0.788437 -0.510689 -0.493925   \n",
       "month            -0.153841  0.282011  0.250732  0.303514 -0.239915 -0.177272   \n",
       "year             -0.444737 -0.009845  0.013180 -0.040700  0.372230  0.064655   \n",
       "humidity         -0.271274 -0.674047 -0.747567 -0.513429  0.858473  0.946872   \n",
       "\n",
       "                  Visibility_Miles  Wind_Speed_MPH  Precipitation_In  \\\n",
       "total                     0.028374       -0.223263         -0.241635   \n",
       "temp                      0.361507       -0.059260         -0.239945   \n",
       "Maxf                      0.385667       -0.142499         -0.296065   \n",
       "Minf                      0.285961        0.049577         -0.148468   \n",
       "Maxhum                   -0.335181        0.152543          0.321042   \n",
       "Minhum                   -0.481033        0.276615          0.422462   \n",
       "Visibility_Miles          1.000000        0.034379         -0.382224   \n",
       "Wind_Speed_MPH            0.034379        1.000000          0.287960   \n",
       "Precipitation_In         -0.382224        0.287960          1.000000   \n",
       "Events_num                0.327864       -0.066293         -0.256100   \n",
       "month                     0.066043        0.058717          0.033554   \n",
       "year                      0.171817        0.149078         -0.030281   \n",
       "humidity                 -0.465402        0.250653          0.419997   \n",
       "\n",
       "                  Events_num     month      year  humidity  \n",
       "total               0.066881 -0.153841 -0.444737 -0.271274  \n",
       "temp                0.825399  0.282011 -0.009845 -0.674047  \n",
       "Maxf                0.806354  0.250732  0.013180 -0.747567  \n",
       "Minf                0.788437  0.303514 -0.040700 -0.513429  \n",
       "Maxhum             -0.510689 -0.239915  0.372230  0.858473  \n",
       "Minhum             -0.493925 -0.177272  0.064655  0.946872  \n",
       "Visibility_Miles    0.327864  0.066043  0.171817 -0.465402  \n",
       "Wind_Speed_MPH     -0.066293  0.058717  0.149078  0.250653  \n",
       "Precipitation_In   -0.256100  0.033554 -0.030281  0.419997  \n",
       "Events_num          1.000000  0.354204  0.024837 -0.548186  \n",
       "month               0.354204  1.000000 -0.308230 -0.220656  \n",
       "year                0.024837 -0.308230  1.000000  0.200697  \n",
       "humidity           -0.548186 -0.220656  0.200697  1.000000  "
      ]
     },
     "execution_count": 201,
     "metadata": {},
     "output_type": "execute_result"
    }
   ],
   "source": [
    "# correlation matrix (ranges from 1 to -1)\n",
    "bikes.corr()"
   ]
  },
  {
   "cell_type": "code",
   "execution_count": 203,
   "metadata": {},
   "outputs": [
    {
     "data": {
      "text/plain": [
       "<matplotlib.axes._subplots.AxesSubplot at 0x1bb312e8b70>"
      ]
     },
     "execution_count": 203,
     "metadata": {},
     "output_type": "execute_result"
    },
    {
     "data": {
      "image/png": "[encoded data removed]",
      "text/plain": [
       "<matplotlib.figure.Figure at 0x1bb30f806d8>"
      ]
     },
     "metadata": {},
     "output_type": "display_data"
    }
   ],
   "source": [
    "# visualize correlation matrix in Seaborn using a heatmap\n",
    "sns.heatmap(bikes.corr())"
   ]
  },
  {
   "cell_type": "markdown",
   "metadata": {},
   "source": [
    "# Relationships between variables"
   ]
  },
  {
   "cell_type": "code",
   "execution_count": 204,
   "metadata": {},
   "outputs": [],
   "source": [
    "#importing data from database\n",
    "db_connection = sql.connect(host='localhost', database='bike', user='root', password='none')\n",
    "db_cursor = db_connection.cursor()\n",
    "db_cursor.execute('SELECT twdate Date,Bike_rented total,Mean_Temperature_C temp,Max_Temperature_F Maxf,Min_TemperatureF Minf,Max_Humidity Maxhum,Min_Humidity Minhum,Visibility_Miles,Wind_Speed_MPH,Precipitation_In,Events_num,Events,month,year FROM trip_weather')\n",
    "table_rows = db_cursor.fetchall()\n",
    "data = pd.read_sql('SELECT twdate Date,Bike_rented total,Mean_Temperature_C temp,Max_Temperature_F Maxf,Min_TemperatureF Minf,Max_Humidity Maxhum,Min_Humidity Minhum,Visibility_Miles,Wind_Speed_MPH,Precipitation_In,Events_num,Events,month,year FROM trip_weather', con=db_connection)\n",
    "bikes = pd.DataFrame(data)"
   ]
  },
  {
   "cell_type": "code",
   "execution_count": 205,
   "metadata": {},
   "outputs": [
    {
     "data": {
      "text/html": [
       "<div>\n",
       "<table border=\"1\" class=\"dataframe\">\n",
       "  <thead>\n",
       "    <tr style=\"text-align: right;\">\n",
       "      <th></th>\n",
       "      <th>Date</th>\n",
       "      <th>total</th>\n",
       "      <th>temp</th>\n",
       "      <th>Maxf</th>\n",
       "      <th>Minf</th>\n",
       "      <th>Maxhum</th>\n",
       "      <th>Minhum</th>\n",
       "      <th>Visibility_Miles</th>\n",
       "      <th>Wind_Speed_MPH</th>\n",
       "      <th>Precipitation_In</th>\n",
       "      <th>Events_num</th>\n",
       "      <th>Events</th>\n",
       "      <th>month</th>\n",
       "      <th>year</th>\n",
       "      <th>humidity</th>\n",
       "    </tr>\n",
       "  </thead>\n",
       "  <tbody>\n",
       "    <tr>\n",
       "      <th>0</th>\n",
       "      <td>2015-01-01</td>\n",
       "      <td>88</td>\n",
       "      <td>1</td>\n",
       "      <td>43</td>\n",
       "      <td>27</td>\n",
       "      <td>81</td>\n",
       "      <td>49</td>\n",
       "      <td>10</td>\n",
       "      <td>0</td>\n",
       "      <td>0.00</td>\n",
       "      <td>2</td>\n",
       "      <td>Rain</td>\n",
       "      <td>1</td>\n",
       "      <td>2015</td>\n",
       "      <td>65.0</td>\n",
       "    </tr>\n",
       "    <tr>\n",
       "      <th>1</th>\n",
       "      <td>2015-01-02</td>\n",
       "      <td>180</td>\n",
       "      <td>3</td>\n",
       "      <td>44</td>\n",
       "      <td>32</td>\n",
       "      <td>86</td>\n",
       "      <td>67</td>\n",
       "      <td>10</td>\n",
       "      <td>4</td>\n",
       "      <td>0.03</td>\n",
       "      <td>2</td>\n",
       "      <td>Rain</td>\n",
       "      <td>1</td>\n",
       "      <td>2015</td>\n",
       "      <td>76.5</td>\n",
       "    </tr>\n",
       "    <tr>\n",
       "      <th>2</th>\n",
       "      <td>2015-01-03</td>\n",
       "      <td>104</td>\n",
       "      <td>3</td>\n",
       "      <td>43</td>\n",
       "      <td>33</td>\n",
       "      <td>93</td>\n",
       "      <td>76</td>\n",
       "      <td>7</td>\n",
       "      <td>2</td>\n",
       "      <td>0.00</td>\n",
       "      <td>2</td>\n",
       "      <td>Rain</td>\n",
       "      <td>1</td>\n",
       "      <td>2015</td>\n",
       "      <td>84.5</td>\n",
       "    </tr>\n",
       "    <tr>\n",
       "      <th>3</th>\n",
       "      <td>2015-01-04</td>\n",
       "      <td>56</td>\n",
       "      <td>8</td>\n",
       "      <td>54</td>\n",
       "      <td>41</td>\n",
       "      <td>89</td>\n",
       "      <td>77</td>\n",
       "      <td>8</td>\n",
       "      <td>7</td>\n",
       "      <td>0.22</td>\n",
       "      <td>2</td>\n",
       "      <td>Rain</td>\n",
       "      <td>1</td>\n",
       "      <td>2015</td>\n",
       "      <td>83.0</td>\n",
       "    </tr>\n",
       "    <tr>\n",
       "      <th>4</th>\n",
       "      <td>2015-01-05</td>\n",
       "      <td>244</td>\n",
       "      <td>13</td>\n",
       "      <td>57</td>\n",
       "      <td>54</td>\n",
       "      <td>88</td>\n",
       "      <td>74</td>\n",
       "      <td>8</td>\n",
       "      <td>14</td>\n",
       "      <td>0.07</td>\n",
       "      <td>2</td>\n",
       "      <td>Rain</td>\n",
       "      <td>1</td>\n",
       "      <td>2015</td>\n",
       "      <td>81.0</td>\n",
       "    </tr>\n",
       "  </tbody>\n",
       "</table>\n",
       "</div>"
      ],
      "text/plain": [
       "         Date  total  temp  Maxf  Minf  Maxhum  Minhum  Visibility_Miles  \\\n",
       "0  2015-01-01     88     1    43    27      81      49                10   \n",
       "1  2015-01-02    180     3    44    32      86      67                10   \n",
       "2  2015-01-03    104     3    43    33      93      76                 7   \n",
       "3  2015-01-04     56     8    54    41      89      77                 8   \n",
       "4  2015-01-05    244    13    57    54      88      74                 8   \n",
       "\n",
       "   Wind_Speed_MPH  Precipitation_In  Events_num Events  month  year  humidity  \n",
       "0               0              0.00           2   Rain      1  2015      65.0  \n",
       "1               4              0.03           2   Rain      1  2015      76.5  \n",
       "2               2              0.00           2   Rain      1  2015      84.5  \n",
       "3               7              0.22           2   Rain      1  2015      83.0  \n",
       "4              14              0.07           2   Rain      1  2015      81.0  "
      ]
     },
     "execution_count": 205,
     "metadata": {},
     "output_type": "execute_result"
    }
   ],
   "source": [
    "bikes['humidity']=(bikes.Maxhum + bikes.Minhum)/2\n",
    "bikes.head()"
   ]
  },
  {
   "cell_type": "code",
   "execution_count": 206,
   "metadata": {},
   "outputs": [],
   "source": [
    "# create a list of features\n",
    "feature_cols = ['temp','Wind_Speed_MPH','humidity','Precipitation_In','Events_num']"
   ]
  },
  {
   "cell_type": "code",
   "execution_count": 207,
   "metadata": {},
   "outputs": [
    {
     "name": "stdout",
     "output_type": "stream",
     "text": [
      "324.615572274\n",
      "[  4.50336385  -5.72943396  -1.46296321 -68.53515488 -14.09003739]\n"
     ]
    }
   ],
   "source": [
    "# create X and y\n",
    "X = bikes[feature_cols]\n",
    "y = bikes.total\n",
    "\n",
    "# instantiate and fit\n",
    "linreg = LinearRegression()\n",
    "linreg.fit(X, y)\n",
    "\n",
    "# print the coefficients\n",
    "print (linreg.intercept_)\n",
    "print (linreg.coef_)"
   ]
  },
  {
   "cell_type": "code",
   "execution_count": 208,
   "metadata": {},
   "outputs": [
    {
     "data": {
      "text/plain": [
       "<zip at 0x1bb3139a6c8>"
      ]
     },
     "execution_count": 208,
     "metadata": {},
     "output_type": "execute_result"
    }
   ],
   "source": [
    "# pair the feature names with the coefficients\n",
    "zip(feature_cols, linreg.coef_)"
   ]
  },
  {
   "cell_type": "code",
   "execution_count": 209,
   "metadata": {},
   "outputs": [],
   "source": [
    "BabyDataSet = zip(feature_cols,linreg.coef_)"
   ]
  },
  {
   "cell_type": "code",
   "execution_count": 210,
   "metadata": {},
   "outputs": [
    {
     "data": {
      "text/html": [
       "<div>\n",
       "<table border=\"1\" class=\"dataframe\">\n",
       "  <thead>\n",
       "    <tr style=\"text-align: right;\">\n",
       "      <th></th>\n",
       "      <th>Events_num</th>\n",
       "      <th>Events</th>\n",
       "    </tr>\n",
       "  </thead>\n",
       "  <tbody>\n",
       "    <tr>\n",
       "      <th>0</th>\n",
       "      <td>0</td>\n",
       "      <td>Fog</td>\n",
       "    </tr>\n",
       "    <tr>\n",
       "      <th>1</th>\n",
       "      <td>1</td>\n",
       "      <td>Fog, Rain</td>\n",
       "    </tr>\n",
       "    <tr>\n",
       "      <th>2</th>\n",
       "      <td>2</td>\n",
       "      <td>Rain</td>\n",
       "    </tr>\n",
       "    <tr>\n",
       "      <th>3</th>\n",
       "      <td>4</td>\n",
       "      <td>Rain-Snow</td>\n",
       "    </tr>\n",
       "    <tr>\n",
       "      <th>4</th>\n",
       "      <td>5</td>\n",
       "      <td>Rain-Thunderstorm</td>\n",
       "    </tr>\n",
       "    <tr>\n",
       "      <th>5</th>\n",
       "      <td>6</td>\n",
       "      <td>Sunny</td>\n",
       "    </tr>\n",
       "  </tbody>\n",
       "</table>\n",
       "</div>"
      ],
      "text/plain": [
       "   Events_num             Events\n",
       "0           0                Fog\n",
       "1           1          Fog, Rain\n",
       "2           2               Rain\n",
       "3           4          Rain-Snow\n",
       "4           5  Rain-Thunderstorm\n",
       "5           6              Sunny"
      ]
     },
     "execution_count": 210,
     "metadata": {},
     "output_type": "execute_result"
    }
   ],
   "source": [
    "#importing data from database\n",
    "db_connection = sql.connect(host='localhost', database='bike', user='root', password='none')\n",
    "db_cursor = db_connection.cursor()\n",
    "db_cursor.execute('SELECT Events_num,Events FROM trip_weather group by  Events_num')\n",
    "table_rows = db_cursor.fetchall()\n",
    "data = pd.read_sql('SELECT Events_num,Events FROM trip_weather group by  Events_num', con=db_connection)\n",
    "bikes = pd.DataFrame(data)\n",
    "bikes"
   ]
  },
  {
   "cell_type": "code",
   "execution_count": 211,
   "metadata": {},
   "outputs": [
    {
     "data": {
      "text/plain": [
       "[('temp', 4.5033638461235732),\n",
       " ('Wind_Speed_MPH', -5.7294339568329979),\n",
       " ('humidity', -1.4629632078092731),\n",
       " ('Precipitation_In', -68.535154877134516),\n",
       " ('Events_num', -14.090037389117011)]"
      ]
     },
     "execution_count": 211,
     "metadata": {},
     "output_type": "execute_result"
    }
   ],
   "source": [
    "BabyDataSet = list(zip(feature_cols,linreg.coef_))\n",
    "BabyDataSet"
   ]
  },
  {
   "cell_type": "markdown",
   "metadata": {},
   "source": [
    "Interpreting the coefficients:\n",
    "\n",
    "- Holding all other features fixed, a 1 unit increase in **temperature** is associated with a **rental increase of 4.50 bikes**.\n",
    "- Holding all other features fixed, a 1 unit increase in **'Wind_Speed_MPH** is associated with a **rental decrease of -5.72 bikes**.\n",
    "- Holding all other features fixed, a 1 unit increase in **humidity** is associated with a **rental decrease of -1.46 bikes**.\n",
    "- Holding all other features fixed, a 1 unit increase in **Precipitation_In** is associated with a **rental decrease of -68.53 bikes**.\n",
    "\n",
    "- Holding all other features fixed, a 1 unit increase in **Events_num** is associated with a **rental decrease of -14.09 bikes**\n"
   ]
  },
  {
   "cell_type": "code",
   "execution_count": 212,
   "metadata": {},
   "outputs": [],
   "source": [
    "# example true and predicted response values\n",
    "true = [10, 7, 5, 5]\n",
    "pred = [8, 6, 5, 10]"
   ]
  },
  {
   "cell_type": "code",
   "execution_count": 213,
   "metadata": {},
   "outputs": [
    {
     "name": "stdout",
     "output_type": "stream",
     "text": [
      "MAE: 2.0\n",
      "MSE: 7.5\n",
      "RMSE: 2.73861278753\n"
     ]
    }
   ],
   "source": [
    "# calculate these metrics by hand!\n",
    "from sklearn import metrics\n",
    "import numpy as np\n",
    "print ('MAE:', metrics.mean_absolute_error(true, pred))\n",
    "print ('MSE:', metrics.mean_squared_error(true, pred))\n",
    "print ('RMSE:', np.sqrt(metrics.mean_squared_error(true, pred)))"
   ]
  },
  {
   "cell_type": "code",
   "execution_count": 214,
   "metadata": {},
   "outputs": [
    {
     "name": "stdout",
     "output_type": "stream",
     "text": [
      "MAE: 2.0\n",
      "MSE: 16.0\n",
      "RMSE: 4.0\n"
     ]
    }
   ],
   "source": [
    "# same true values as above\n",
    "true = [10, 7, 5, 5]\n",
    "\n",
    "# new set of predicted values\n",
    "pred = [10, 7, 5, 13]\n",
    "\n",
    "# MAE is the same as before\n",
    "print ('MAE:', metrics.mean_absolute_error(true, pred))\n",
    "\n",
    "# MSE and RMSE are larger than before\n",
    "print ('MSE:', metrics.mean_squared_error(true, pred))\n",
    "print ('RMSE:', np.sqrt(metrics.mean_squared_error(true, pred)))"
   ]
  },
  {
   "cell_type": "markdown",
   "metadata": {},
   "source": [
    "As we can notice that after applying some new set of predicted values. The model shows very different result. The value of MAE is the same before, but mean squared error and root mean squared error are larger than before."
   ]
  },
  {
   "cell_type": "markdown",
   "metadata": {},
   "source": [
    "# Comparing models with train/test split and RMSE"
   ]
  },
  {
   "cell_type": "code",
   "execution_count": 215,
   "metadata": {},
   "outputs": [],
   "source": [
    "#importing data from database\n",
    "db_connection = sql.connect(host='localhost', database='bike', user='root', password='none')\n",
    "db_cursor = db_connection.cursor()\n",
    "db_cursor.execute('SELECT twdate Date,Bike_rented total,Mean_Temperature_C temp,Max_Temperature_F Maxf,Min_TemperatureF Minf,Max_Humidity Maxhum,Min_Humidity Minhum,Visibility_Miles,Wind_Speed_MPH,Precipitation_In,Events_num,Events,month,year FROM trip_weather')\n",
    "table_rows = db_cursor.fetchall()\n",
    "data = pd.read_sql('SELECT twdate Date,Bike_rented total,Mean_Temperature_C temp,Max_Temperature_F Maxf,Min_TemperatureF Minf,Max_Humidity Maxhum,Min_Humidity Minhum,Visibility_Miles,Wind_Speed_MPH,Precipitation_In,Events_num,Events,month,year FROM trip_weather', con=db_connection)\n",
    "bikes = pd.DataFrame(data)"
   ]
  },
  {
   "cell_type": "code",
   "execution_count": 216,
   "metadata": {},
   "outputs": [
    {
     "data": {
      "text/html": [
       "<div>\n",
       "<table border=\"1\" class=\"dataframe\">\n",
       "  <thead>\n",
       "    <tr style=\"text-align: right;\">\n",
       "      <th></th>\n",
       "      <th>Date</th>\n",
       "      <th>total</th>\n",
       "      <th>temp</th>\n",
       "      <th>Maxf</th>\n",
       "      <th>Minf</th>\n",
       "      <th>Maxhum</th>\n",
       "      <th>Minhum</th>\n",
       "      <th>Visibility_Miles</th>\n",
       "      <th>Wind_Speed_MPH</th>\n",
       "      <th>Precipitation_In</th>\n",
       "      <th>Events_num</th>\n",
       "      <th>Events</th>\n",
       "      <th>month</th>\n",
       "      <th>year</th>\n",
       "      <th>humidity</th>\n",
       "    </tr>\n",
       "  </thead>\n",
       "  <tbody>\n",
       "    <tr>\n",
       "      <th>0</th>\n",
       "      <td>2015-01-01</td>\n",
       "      <td>88</td>\n",
       "      <td>1</td>\n",
       "      <td>43</td>\n",
       "      <td>27</td>\n",
       "      <td>81</td>\n",
       "      <td>49</td>\n",
       "      <td>10</td>\n",
       "      <td>0</td>\n",
       "      <td>0.00</td>\n",
       "      <td>2</td>\n",
       "      <td>Rain</td>\n",
       "      <td>1</td>\n",
       "      <td>2015</td>\n",
       "      <td>65.0</td>\n",
       "    </tr>\n",
       "    <tr>\n",
       "      <th>1</th>\n",
       "      <td>2015-01-02</td>\n",
       "      <td>180</td>\n",
       "      <td>3</td>\n",
       "      <td>44</td>\n",
       "      <td>32</td>\n",
       "      <td>86</td>\n",
       "      <td>67</td>\n",
       "      <td>10</td>\n",
       "      <td>4</td>\n",
       "      <td>0.03</td>\n",
       "      <td>2</td>\n",
       "      <td>Rain</td>\n",
       "      <td>1</td>\n",
       "      <td>2015</td>\n",
       "      <td>76.5</td>\n",
       "    </tr>\n",
       "    <tr>\n",
       "      <th>2</th>\n",
       "      <td>2015-01-03</td>\n",
       "      <td>104</td>\n",
       "      <td>3</td>\n",
       "      <td>43</td>\n",
       "      <td>33</td>\n",
       "      <td>93</td>\n",
       "      <td>76</td>\n",
       "      <td>7</td>\n",
       "      <td>2</td>\n",
       "      <td>0.00</td>\n",
       "      <td>2</td>\n",
       "      <td>Rain</td>\n",
       "      <td>1</td>\n",
       "      <td>2015</td>\n",
       "      <td>84.5</td>\n",
       "    </tr>\n",
       "    <tr>\n",
       "      <th>3</th>\n",
       "      <td>2015-01-04</td>\n",
       "      <td>56</td>\n",
       "      <td>8</td>\n",
       "      <td>54</td>\n",
       "      <td>41</td>\n",
       "      <td>89</td>\n",
       "      <td>77</td>\n",
       "      <td>8</td>\n",
       "      <td>7</td>\n",
       "      <td>0.22</td>\n",
       "      <td>2</td>\n",
       "      <td>Rain</td>\n",
       "      <td>1</td>\n",
       "      <td>2015</td>\n",
       "      <td>83.0</td>\n",
       "    </tr>\n",
       "    <tr>\n",
       "      <th>4</th>\n",
       "      <td>2015-01-05</td>\n",
       "      <td>244</td>\n",
       "      <td>13</td>\n",
       "      <td>57</td>\n",
       "      <td>54</td>\n",
       "      <td>88</td>\n",
       "      <td>74</td>\n",
       "      <td>8</td>\n",
       "      <td>14</td>\n",
       "      <td>0.07</td>\n",
       "      <td>2</td>\n",
       "      <td>Rain</td>\n",
       "      <td>1</td>\n",
       "      <td>2015</td>\n",
       "      <td>81.0</td>\n",
       "    </tr>\n",
       "  </tbody>\n",
       "</table>\n",
       "</div>"
      ],
      "text/plain": [
       "         Date  total  temp  Maxf  Minf  Maxhum  Minhum  Visibility_Miles  \\\n",
       "0  2015-01-01     88     1    43    27      81      49                10   \n",
       "1  2015-01-02    180     3    44    32      86      67                10   \n",
       "2  2015-01-03    104     3    43    33      93      76                 7   \n",
       "3  2015-01-04     56     8    54    41      89      77                 8   \n",
       "4  2015-01-05    244    13    57    54      88      74                 8   \n",
       "\n",
       "   Wind_Speed_MPH  Precipitation_In  Events_num Events  month  year  humidity  \n",
       "0               0              0.00           2   Rain      1  2015      65.0  \n",
       "1               4              0.03           2   Rain      1  2015      76.5  \n",
       "2               2              0.00           2   Rain      1  2015      84.5  \n",
       "3               7              0.22           2   Rain      1  2015      83.0  \n",
       "4              14              0.07           2   Rain      1  2015      81.0  "
      ]
     },
     "execution_count": 216,
     "metadata": {},
     "output_type": "execute_result"
    }
   ],
   "source": [
    "bikes['humidity']=(bikes.Maxhum + bikes.Minhum)/2\n",
    "bikes.head()"
   ]
  },
  {
   "cell_type": "markdown",
   "metadata": {},
   "source": [
    "# Features selection"
   ]
  },
  {
   "cell_type": "code",
   "execution_count": 223,
   "metadata": {},
   "outputs": [],
   "source": [
    "# create a list of features\n",
    "feature_cols = ['temp','Wind_Speed_MPH','humidity','Precipitation_In','Events_num']"
   ]
  },
  {
   "cell_type": "code",
   "execution_count": 224,
   "metadata": {},
   "outputs": [],
   "source": [
    "from sklearn.cross_validation import train_test_split\n",
    "\n",
    "# define a function that accepts a list of features and returns testing RMSE\n",
    "def train_test_rmse(feature_cols):\n",
    "    X = bikes[feature_cols]\n",
    "    y = bikes.total\n",
    "    X_train, X_test, y_train, y_test = train_test_split(X, y, random_state=123)\n",
    "    linreg = LinearRegression()\n",
    "    linreg.fit(X_train, y_train)\n",
    "    y_pred = linreg.predict(X_test)\n",
    "    return np.sqrt(metrics.mean_squared_error(y_test, y_pred))"
   ]
  },
  {
   "cell_type": "code",
   "execution_count": 218,
   "metadata": {},
   "outputs": [
    {
     "name": "stdout",
     "output_type": "stream",
     "text": [
      "95.6891372885\n",
      "98.1231782742\n",
      "98.3398920602\n"
     ]
    }
   ],
   "source": [
    "# compare different sets of features\n",
    "print (train_test_rmse(['temp','Wind_Speed_MPH','humidity','Precipitation_In','Events_num']))\n",
    "print (train_test_rmse(['temp','Wind_Speed_MPH','humidity','Precipitation_In']))\n",
    "print (train_test_rmse(['temp','Wind_Speed_MPH','humidity']))"
   ]
  },
  {
   "cell_type": "code",
   "execution_count": 225,
   "metadata": {},
   "outputs": [
    {
     "name": "stdout",
     "output_type": "stream",
     "text": [
      "96.3085655303\n"
     ]
    }
   ],
   "source": [
    "print (train_test_rmse(['temp','Wind_Speed_MPH','humidity','Events_num']))"
   ]
  },
  {
   "cell_type": "code",
   "execution_count": 226,
   "metadata": {},
   "outputs": [
    {
     "name": "stdout",
     "output_type": "stream",
     "text": [
      "98.3802263221\n"
     ]
    }
   ],
   "source": [
    "print (train_test_rmse(['temp','humidity','Events_num']))"
   ]
  },
  {
   "cell_type": "code",
   "execution_count": 227,
   "metadata": {},
   "outputs": [
    {
     "name": "stdout",
     "output_type": "stream",
     "text": [
      "97.8009125859\n"
     ]
    }
   ],
   "source": [
    "print (train_test_rmse(['Wind_Speed_MPH','humidity','Events_num']))"
   ]
  },
  {
   "cell_type": "code",
   "execution_count": 228,
   "metadata": {},
   "outputs": [
    {
     "name": "stdout",
     "output_type": "stream",
     "text": [
      "99.8054559912\n"
     ]
    }
   ],
   "source": [
    "print (train_test_rmse(['temp']))"
   ]
  },
  {
   "cell_type": "code",
   "execution_count": 229,
   "metadata": {},
   "outputs": [
    {
     "name": "stdout",
     "output_type": "stream",
     "text": [
      "97.309087016\n"
     ]
    }
   ],
   "source": [
    "print (train_test_rmse(['temp','Wind_Speed_MPH']))"
   ]
  },
  {
   "cell_type": "code",
   "execution_count": 230,
   "metadata": {},
   "outputs": [
    {
     "name": "stdout",
     "output_type": "stream",
     "text": [
      "95.6891372885\n"
     ]
    }
   ],
   "source": [
    "print (train_test_rmse(['temp','Wind_Speed_MPH','humidity','Precipitation_In','Events_num']))"
   ]
  },
  {
   "cell_type": "markdown",
   "metadata": {},
   "source": [
    "From the RMSE result, I decided to keep above columns. "
   ]
  },
  {
   "cell_type": "markdown",
   "metadata": {},
   "source": [
    "## Comparing testing RMSE with null RMSE\n",
    "\n",
    "Null RMSE is the RMSE that could be achieved by **always predicting the mean response value**. It is a benchmark against which we may want to measure our regression model."
   ]
  },
  {
   "cell_type": "code",
   "execution_count": 219,
   "metadata": {},
   "outputs": [
    {
     "data": {
      "text/plain": [
       "array([ 190.69281046,  190.69281046,  190.69281046,  190.69281046,\n",
       "        190.69281046,  190.69281046,  190.69281046,  190.69281046,\n",
       "        190.69281046,  190.69281046,  190.69281046,  190.69281046,\n",
       "        190.69281046,  190.69281046,  190.69281046,  190.69281046,\n",
       "        190.69281046,  190.69281046,  190.69281046,  190.69281046,\n",
       "        190.69281046,  190.69281046,  190.69281046,  190.69281046,\n",
       "        190.69281046,  190.69281046,  190.69281046,  190.69281046,\n",
       "        190.69281046,  190.69281046,  190.69281046,  190.69281046,\n",
       "        190.69281046,  190.69281046,  190.69281046,  190.69281046,\n",
       "        190.69281046,  190.69281046,  190.69281046,  190.69281046,\n",
       "        190.69281046,  190.69281046,  190.69281046,  190.69281046,\n",
       "        190.69281046,  190.69281046,  190.69281046,  190.69281046,\n",
       "        190.69281046,  190.69281046,  190.69281046,  190.69281046,\n",
       "        190.69281046,  190.69281046,  190.69281046,  190.69281046,\n",
       "        190.69281046,  190.69281046,  190.69281046,  190.69281046,\n",
       "        190.69281046,  190.69281046,  190.69281046,  190.69281046,\n",
       "        190.69281046,  190.69281046,  190.69281046,  190.69281046,\n",
       "        190.69281046,  190.69281046,  190.69281046,  190.69281046,\n",
       "        190.69281046,  190.69281046,  190.69281046,  190.69281046,\n",
       "        190.69281046,  190.69281046,  190.69281046,  190.69281046,\n",
       "        190.69281046,  190.69281046,  190.69281046,  190.69281046,\n",
       "        190.69281046,  190.69281046,  190.69281046,  190.69281046,\n",
       "        190.69281046,  190.69281046,  190.69281046,  190.69281046,\n",
       "        190.69281046,  190.69281046,  190.69281046,  190.69281046,\n",
       "        190.69281046,  190.69281046,  190.69281046,  190.69281046,\n",
       "        190.69281046,  190.69281046,  190.69281046,  190.69281046,\n",
       "        190.69281046,  190.69281046,  190.69281046,  190.69281046,\n",
       "        190.69281046,  190.69281046,  190.69281046,  190.69281046,\n",
       "        190.69281046,  190.69281046,  190.69281046,  190.69281046,\n",
       "        190.69281046,  190.69281046,  190.69281046,  190.69281046,\n",
       "        190.69281046,  190.69281046,  190.69281046,  190.69281046,\n",
       "        190.69281046,  190.69281046,  190.69281046,  190.69281046,\n",
       "        190.69281046,  190.69281046,  190.69281046,  190.69281046,\n",
       "        190.69281046,  190.69281046,  190.69281046,  190.69281046,\n",
       "        190.69281046,  190.69281046,  190.69281046,  190.69281046,\n",
       "        190.69281046,  190.69281046,  190.69281046,  190.69281046,\n",
       "        190.69281046,  190.69281046,  190.69281046,  190.69281046,\n",
       "        190.69281046,  190.69281046,  190.69281046,  190.69281046,\n",
       "        190.69281046])"
      ]
     },
     "execution_count": 219,
     "metadata": {},
     "output_type": "execute_result"
    }
   ],
   "source": [
    "# split X and y into training and testing sets\n",
    "X_train, X_test, y_train, y_test = train_test_split(X, y, random_state=123)\n",
    "\n",
    "# create a NumPy array with the same shape as y_test\n",
    "y_null = np.zeros_like(y_test, dtype=float)\n",
    "\n",
    "# fill the array with the mean value of y_test\n",
    "y_null.fill(y_test.mean())\n",
    "y_null"
   ]
  },
  {
   "cell_type": "code",
   "execution_count": 222,
   "metadata": {},
   "outputs": [
    {
     "name": "stdout",
     "output_type": "stream",
     "text": [
      "Predicting the mean response value: 102.007386702\n"
     ]
    }
   ],
   "source": [
    "# compute null RMSE\n",
    "print ('Predicting the mean response value:',np.sqrt(metrics.mean_squared_error(y_test, y_null)))"
   ]
  },
  {
   "cell_type": "markdown",
   "metadata": {},
   "source": [
    "## Conclusion:\n",
    "***Question ***How many bike rentals would we predict if the temperature given in degrees Celsius?\n",
    "\n",
    "- The Model predicted that when temperature reach to 20 degrees Celsius there is a chance of ***121*** bicycle could be rented. \n",
    "\n",
    "***Question *** Does the scale of the features matter?\n",
    "\n",
    "-The scale of the features is **irrelevant** for linear regression models. When changing the scale, we simply change our **interpretation** of the coefficients.\n",
    "\n",
    "***Question *** what are effect cause by weather on bike rental scheme?\n",
    "\n",
    "- Holding all other features fixed, a 1 unit increase in **temperature** is associated with a **rental increase of 4.50 bikes**.\n",
    "- Holding all other features fixed, a 1 unit increase in **'Wind_Speed_MPH** is associated with a **rental decrease of -5.72 bikes**.\n",
    "- Holding all other features fixed, a 1 unit increase in **humidity** is associated with a **rental decrease of -1.46 bikes**.\n",
    "- Holding all other features fixed, a 1 unit increase in **Precipitation_In** is associated with a **rental decrease of -68.53 bikes**.\n",
    "\n",
    "- Holding all other features fixed, a 1 unit increase in **Events_num** is associated with a **rental decrease of -14.09 bikes**\n",
    "\n",
    "- From the obtain result, after applying some new set of predicted values. The model shows very different result. The value of MAE is the same before, but mean squared error and root mean squared error are larger than before. That’s change in predicted values will effect on MSE and RMSE. The lower the RMSE is better. So, we could conclude that change in weather condition will effect on Bike Rental."
   ]
  },
  {
   "cell_type": "markdown",
   "metadata": {},
   "source": [
    "-----------------------------------------------------------------------"
   ]
  },
  {
   "cell_type": "markdown",
   "metadata": {
    "collapsed": true
   },
   "source": [
    "## Resources\n",
    "References:*From the video series: [Introduction to machine learning with scikit-learn](https://github.com/justmarkham/scikit-learn-videos)*\n",
    "- scikit-learn documentation: [Cross-validation](http://scikit-learn.org/stable/modules/cross_validation.html), [Model evaluation](http://scikit-learn.org/stable/modules/model_evaluation.html)\n",
    "- scikit-learn issue on GitHub: [MSE is negative when returned by cross_val_score](https://github.com/scikit-learn/scikit-learn/issues/2439)\n",
    "- Section 5.1 of [An Introduction to Statistical Learning](http://www-bcf.usc.edu/~gareth/ISL/) (11 pages) and related videos: [K-fold and leave-one-out cross-validation](https://www.youtube.com/watch?v=nZAM5OXrktY) (14 minutes), [Cross-validation the right and wrong ways](https://www.youtube.com/watch?v=S06JpVoNaA0) (10 minutes)\n",
    "- Scott Fortmann-Roe: [Accurately Measuring Model Prediction Error](http://scott.fortmann-roe.com/docs/MeasuringError.html)\n",
    "- Machine Learning Mastery: [An Introduction to Feature Selection](http://machinelearningmastery.com/an-introduction-to-feature-selection/)\n",
    "- Harvard CS109: [Cross-Validation: The Right and Wrong Way](https://github.com/cs109/content/blob/master/lec_10_cross_val.ipynb)\n",
    "- Journal of Cheminformatics: [Cross-validation pitfalls when selecting and assessing regression and classification models](http://www.jcheminf.com/content/pdf/1758-2946-6-10.pdf)"
   ]
  }
 ],
 "metadata": {
  "anaconda-cloud": {},
  "kernelspec": {
   "display_name": "Python 3",
   "language": "python",
   "name": "python3"
  },
  "language_info": {
   "codemirror_mode": {
    "name": "ipython",
    "version": 3
   },
   "file_extension": ".py",
   "mimetype": "text/x-python",
   "name": "python",
   "nbconvert_exporter": "python",
   "pygments_lexer": "ipython3",
   "version": "3.6.0"
  }
 },
 "nbformat": 4,
 "nbformat_minor": 2
}
